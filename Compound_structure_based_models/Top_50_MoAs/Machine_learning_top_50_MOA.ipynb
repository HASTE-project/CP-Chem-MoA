{
  "cells": [
    {
      "cell_type": "code",
      "execution_count": null,
      "metadata": {
        "id": "75-UZEGR1A0b"
      },
      "outputs": [],
      "source": [
        "# install rdkit  \n",
        "!wget -c https://repo.continuum.io/miniconda/Miniconda3-latest-Linux-x86_64.sh\n",
        "!chmod +x Miniconda3-latest-Linux-x86_64.sh\n",
        "!bash ./Miniconda3-latest-Linux-x86_64.sh -b -f -p /usr/local\n",
        "!conda install -q -y -c rdkit rdkit python=3.7\n",
        "import sys\n",
        "sys.path.append('/usr/local/lib/python3.7/site-packages/')\n",
        "import pprint     \n",
        "pprint.pprint(sys.path)\n",
        "!python -c \"import site; print (site.getsitepackages())\""
      ]
    },
    {
      "cell_type": "code",
      "source": [
        "import pandas as pd\n",
        "df = pd.read_csv('top_50_MOAs.txt', sep = '\\t')\n",
        "df"
      ],
      "metadata": {
        "colab": {
          "base_uri": "https://localhost:8080/",
          "height": 424
        },
        "id": "O9GYJo2v9Zu9",
        "outputId": "c095058f-19df-4a58-f5a6-3b2279ca24b9"
      },
      "execution_count": 3,
      "outputs": [
        {
          "output_type": "execute_result",
          "data": {
            "text/plain": [
              "                                                 SMILES  \\\n",
              "0                       Oc1ccc(CCNCC2CCc3ccccc3C2=O)cc1   \n",
              "1                  OC(CNCCNC(=O)Nc1ccccc1)COc1ccccc1C#N   \n",
              "2           O=C1Nc2ccccc2C2=NC(CN3CCN(CC3)c3ccccc3)CN12   \n",
              "3            O=C(NC1CCN(CCc2c[nH]c3ccccc23)CC1)c1ccccc1   \n",
              "4     O[C@H](CNC[C@@H](O)[C@@H]1CCc2cc(F)ccc2O1)[C@H...   \n",
              "...                                                 ...   \n",
              "1958                   Cn1c2ncn(CC(O)=O)c2c(=O)n(C)c1=O   \n",
              "1959  CCNC(=O)[C@H]1O[C@H]([C@H](O)[C@@H]1O)n1cnc2c(...   \n",
              "1960  CCNC(=O)[C@H]1O[C@H]([C@@H](O)[C@@H]1O)n1cnc2c...   \n",
              "1961              Cc1sc(N)c(C(=O)c2cccc(c2)C(F)(F)F)c1C   \n",
              "1962  C[C@@]1(O)[C@H](O)[C@@H](CO)O[C@H]1n1cnc2c(NC3...   \n",
              "\n",
              "                                 MOA  \n",
              "0     adrenergic receptor antagonist  \n",
              "1     adrenergic receptor antagonist  \n",
              "2     adrenergic receptor antagonist  \n",
              "3     adrenergic receptor antagonist  \n",
              "4     adrenergic receptor antagonist  \n",
              "...                              ...  \n",
              "1958      adenosine receptor agonist  \n",
              "1959      adenosine receptor agonist  \n",
              "1960      adenosine receptor agonist  \n",
              "1961      adenosine receptor agonist  \n",
              "1962      adenosine receptor agonist  \n",
              "\n",
              "[1963 rows x 2 columns]"
            ],
            "text/html": [
              "\n",
              "  <div id=\"df-d8bc842d-c870-4fd5-be34-3ea203c96090\">\n",
              "    <div class=\"colab-df-container\">\n",
              "      <div>\n",
              "<style scoped>\n",
              "    .dataframe tbody tr th:only-of-type {\n",
              "        vertical-align: middle;\n",
              "    }\n",
              "\n",
              "    .dataframe tbody tr th {\n",
              "        vertical-align: top;\n",
              "    }\n",
              "\n",
              "    .dataframe thead th {\n",
              "        text-align: right;\n",
              "    }\n",
              "</style>\n",
              "<table border=\"1\" class=\"dataframe\">\n",
              "  <thead>\n",
              "    <tr style=\"text-align: right;\">\n",
              "      <th></th>\n",
              "      <th>SMILES</th>\n",
              "      <th>MOA</th>\n",
              "    </tr>\n",
              "  </thead>\n",
              "  <tbody>\n",
              "    <tr>\n",
              "      <th>0</th>\n",
              "      <td>Oc1ccc(CCNCC2CCc3ccccc3C2=O)cc1</td>\n",
              "      <td>adrenergic receptor antagonist</td>\n",
              "    </tr>\n",
              "    <tr>\n",
              "      <th>1</th>\n",
              "      <td>OC(CNCCNC(=O)Nc1ccccc1)COc1ccccc1C#N</td>\n",
              "      <td>adrenergic receptor antagonist</td>\n",
              "    </tr>\n",
              "    <tr>\n",
              "      <th>2</th>\n",
              "      <td>O=C1Nc2ccccc2C2=NC(CN3CCN(CC3)c3ccccc3)CN12</td>\n",
              "      <td>adrenergic receptor antagonist</td>\n",
              "    </tr>\n",
              "    <tr>\n",
              "      <th>3</th>\n",
              "      <td>O=C(NC1CCN(CCc2c[nH]c3ccccc23)CC1)c1ccccc1</td>\n",
              "      <td>adrenergic receptor antagonist</td>\n",
              "    </tr>\n",
              "    <tr>\n",
              "      <th>4</th>\n",
              "      <td>O[C@H](CNC[C@@H](O)[C@@H]1CCc2cc(F)ccc2O1)[C@H...</td>\n",
              "      <td>adrenergic receptor antagonist</td>\n",
              "    </tr>\n",
              "    <tr>\n",
              "      <th>...</th>\n",
              "      <td>...</td>\n",
              "      <td>...</td>\n",
              "    </tr>\n",
              "    <tr>\n",
              "      <th>1958</th>\n",
              "      <td>Cn1c2ncn(CC(O)=O)c2c(=O)n(C)c1=O</td>\n",
              "      <td>adenosine receptor agonist</td>\n",
              "    </tr>\n",
              "    <tr>\n",
              "      <th>1959</th>\n",
              "      <td>CCNC(=O)[C@H]1O[C@H]([C@H](O)[C@@H]1O)n1cnc2c(...</td>\n",
              "      <td>adenosine receptor agonist</td>\n",
              "    </tr>\n",
              "    <tr>\n",
              "      <th>1960</th>\n",
              "      <td>CCNC(=O)[C@H]1O[C@H]([C@@H](O)[C@@H]1O)n1cnc2c...</td>\n",
              "      <td>adenosine receptor agonist</td>\n",
              "    </tr>\n",
              "    <tr>\n",
              "      <th>1961</th>\n",
              "      <td>Cc1sc(N)c(C(=O)c2cccc(c2)C(F)(F)F)c1C</td>\n",
              "      <td>adenosine receptor agonist</td>\n",
              "    </tr>\n",
              "    <tr>\n",
              "      <th>1962</th>\n",
              "      <td>C[C@@]1(O)[C@H](O)[C@@H](CO)O[C@H]1n1cnc2c(NC3...</td>\n",
              "      <td>adenosine receptor agonist</td>\n",
              "    </tr>\n",
              "  </tbody>\n",
              "</table>\n",
              "<p>1963 rows × 2 columns</p>\n",
              "</div>\n",
              "      <button class=\"colab-df-convert\" onclick=\"convertToInteractive('df-d8bc842d-c870-4fd5-be34-3ea203c96090')\"\n",
              "              title=\"Convert this dataframe to an interactive table.\"\n",
              "              style=\"display:none;\">\n",
              "        \n",
              "  <svg xmlns=\"http://www.w3.org/2000/svg\" height=\"24px\"viewBox=\"0 0 24 24\"\n",
              "       width=\"24px\">\n",
              "    <path d=\"M0 0h24v24H0V0z\" fill=\"none\"/>\n",
              "    <path d=\"M18.56 5.44l.94 2.06.94-2.06 2.06-.94-2.06-.94-.94-2.06-.94 2.06-2.06.94zm-11 1L8.5 8.5l.94-2.06 2.06-.94-2.06-.94L8.5 2.5l-.94 2.06-2.06.94zm10 10l.94 2.06.94-2.06 2.06-.94-2.06-.94-.94-2.06-.94 2.06-2.06.94z\"/><path d=\"M17.41 7.96l-1.37-1.37c-.4-.4-.92-.59-1.43-.59-.52 0-1.04.2-1.43.59L10.3 9.45l-7.72 7.72c-.78.78-.78 2.05 0 2.83L4 21.41c.39.39.9.59 1.41.59.51 0 1.02-.2 1.41-.59l7.78-7.78 2.81-2.81c.8-.78.8-2.07 0-2.86zM5.41 20L4 18.59l7.72-7.72 1.47 1.35L5.41 20z\"/>\n",
              "  </svg>\n",
              "      </button>\n",
              "      \n",
              "  <style>\n",
              "    .colab-df-container {\n",
              "      display:flex;\n",
              "      flex-wrap:wrap;\n",
              "      gap: 12px;\n",
              "    }\n",
              "\n",
              "    .colab-df-convert {\n",
              "      background-color: #E8F0FE;\n",
              "      border: none;\n",
              "      border-radius: 50%;\n",
              "      cursor: pointer;\n",
              "      display: none;\n",
              "      fill: #1967D2;\n",
              "      height: 32px;\n",
              "      padding: 0 0 0 0;\n",
              "      width: 32px;\n",
              "    }\n",
              "\n",
              "    .colab-df-convert:hover {\n",
              "      background-color: #E2EBFA;\n",
              "      box-shadow: 0px 1px 2px rgba(60, 64, 67, 0.3), 0px 1px 3px 1px rgba(60, 64, 67, 0.15);\n",
              "      fill: #174EA6;\n",
              "    }\n",
              "\n",
              "    [theme=dark] .colab-df-convert {\n",
              "      background-color: #3B4455;\n",
              "      fill: #D2E3FC;\n",
              "    }\n",
              "\n",
              "    [theme=dark] .colab-df-convert:hover {\n",
              "      background-color: #434B5C;\n",
              "      box-shadow: 0px 1px 3px 1px rgba(0, 0, 0, 0.15);\n",
              "      filter: drop-shadow(0px 1px 2px rgba(0, 0, 0, 0.3));\n",
              "      fill: #FFFFFF;\n",
              "    }\n",
              "  </style>\n",
              "\n",
              "      <script>\n",
              "        const buttonEl =\n",
              "          document.querySelector('#df-d8bc842d-c870-4fd5-be34-3ea203c96090 button.colab-df-convert');\n",
              "        buttonEl.style.display =\n",
              "          google.colab.kernel.accessAllowed ? 'block' : 'none';\n",
              "\n",
              "        async function convertToInteractive(key) {\n",
              "          const element = document.querySelector('#df-d8bc842d-c870-4fd5-be34-3ea203c96090');\n",
              "          const dataTable =\n",
              "            await google.colab.kernel.invokeFunction('convertToInteractive',\n",
              "                                                     [key], {});\n",
              "          if (!dataTable) return;\n",
              "\n",
              "          const docLinkHtml = 'Like what you see? Visit the ' +\n",
              "            '<a target=\"_blank\" href=https://colab.research.google.com/notebooks/data_table.ipynb>data table notebook</a>'\n",
              "            + ' to learn more about interactive tables.';\n",
              "          element.innerHTML = '';\n",
              "          dataTable['output_type'] = 'display_data';\n",
              "          await google.colab.output.renderOutput(dataTable, element);\n",
              "          const docLink = document.createElement('div');\n",
              "          docLink.innerHTML = docLinkHtml;\n",
              "          element.appendChild(docLink);\n",
              "        }\n",
              "      </script>\n",
              "    </div>\n",
              "  </div>\n",
              "  "
            ]
          },
          "metadata": {},
          "execution_count": 3
        }
      ]
    },
    {
      "cell_type": "code",
      "source": [
        "# check the duplicates \n",
        "for i in df.SMILES.tolist():\n",
        "  if df.SMILES.tolist().count(i) != 1:\n",
        "    print(i)"
      ],
      "metadata": {
        "id": "6S0Cz1ly_sZk"
      },
      "execution_count": 4,
      "outputs": []
    },
    {
      "cell_type": "code",
      "source": [
        "MOA_class_dictionary =  {'ATPase inhibitor': 45,\n",
        " 'Aurora kinase inhibitor': 7,\n",
        " 'CC chemokine receptor antagonist': 13,\n",
        " 'CDK inhibitor': 37,\n",
        " 'DNA synthesis inhibitor': 29,\n",
        " 'EGFR inhibitor': 41,\n",
        " 'HCV inhibitor': 25,\n",
        " 'HDAC inhibitor': 26,\n",
        " 'HSP inhibitor': 23,\n",
        " 'JAK inhibitor': 32,\n",
        " 'MEK inhibitor': 5,\n",
        " 'PARP inhibitor': 16,\n",
        " 'PI3K inhibitor': 49,\n",
        " 'PPAR receptor agonist': 9,\n",
        " 'acetylcholine receptor agonist': 36,\n",
        " 'acetylcholine receptor antagonist': 1,\n",
        " 'acetylcholinesterase inhibitor': 46,\n",
        " 'adenosine receptor agonist': 8,\n",
        " 'adenosine receptor antagonist': 44,\n",
        " 'adrenergic receptor agonist': 22,\n",
        " 'adrenergic receptor antagonist': 10,\n",
        " 'angiotensin converting enzyme inhibitor': 6,\n",
        " 'antioxidant': 47,\n",
        " 'bacterial 30S ribosomal subunit inhibitor': 14,\n",
        " 'bacterial DNA gyrase inhibitor': 18,\n",
        " 'bacterial cell wall synthesis inhibitor': 43,\n",
        " 'benzodiazepine receptor agonist': 33,\n",
        " 'bromodomain inhibitor': 2,\n",
        " 'calcium channel blocker': 42,\n",
        " 'cyclooxygenase inhibitor': 12,\n",
        " 'cytochrome P450 inhibitor': 30,\n",
        " 'dopamine receptor agonist': 48,\n",
        " 'dopamine receptor antagonist': 27,\n",
        " 'estrogen receptor agonist': 35,\n",
        " 'glucocorticoid receptor agonist': 4,\n",
        " 'glutamate receptor agonist': 19,\n",
        " 'glutamate receptor antagonist': 20,\n",
        " 'histamine receptor antagonist': 24,\n",
        " 'histone lysine methyltransferase inhibitor': 11,\n",
        " 'local anesthetic': 34,\n",
        " 'monoamine oxidase inhibitor': 17,\n",
        " 'opioid receptor agonist': 31,\n",
        " 'phosphodiesterase inhibitor': 40,\n",
        " 'potassium channel blocker': 15,\n",
        " 'protein synthesis inhibitor': 28,\n",
        " 'serotonin receptor agonist': 38,\n",
        " 'serotonin receptor antagonist': 3,\n",
        " 'sodium channel blocker': 39,\n",
        " 'topoisomerase inhibitor': 21,\n",
        " 'tubulin polymerization inhibitor': 0}  "
      ],
      "metadata": {
        "id": "17c5-JuGBwb0"
      },
      "execution_count": 5,
      "outputs": []
    },
    {
      "cell_type": "code",
      "source": [
        "sorted_classes = list(MOA_class_dictionary.values())\n",
        "sorted_classes.sort() \n",
        "assert sorted_classes == [i for i in range(50)]"
      ],
      "metadata": {
        "id": "NkFqARR_B72C"
      },
      "execution_count": 7,
      "outputs": []
    },
    {
      "cell_type": "code",
      "source": [
        "# add classes column \n",
        "df['classes'] = None\n",
        "for i in range(df.shape[0]):\n",
        "  df.iloc[i,2] = MOA_class_dictionary[df.iloc[i,1]]\n",
        "df"
      ],
      "metadata": {
        "colab": {
          "base_uri": "https://localhost:8080/",
          "height": 424
        },
        "id": "lF5D5wb6CRCn",
        "outputId": "c75e5d7a-b49b-43cd-911d-3bf6c896d3d9"
      },
      "execution_count": 8,
      "outputs": [
        {
          "output_type": "execute_result",
          "data": {
            "text/plain": [
              "                                                 SMILES  \\\n",
              "0                       Oc1ccc(CCNCC2CCc3ccccc3C2=O)cc1   \n",
              "1                  OC(CNCCNC(=O)Nc1ccccc1)COc1ccccc1C#N   \n",
              "2           O=C1Nc2ccccc2C2=NC(CN3CCN(CC3)c3ccccc3)CN12   \n",
              "3            O=C(NC1CCN(CCc2c[nH]c3ccccc23)CC1)c1ccccc1   \n",
              "4     O[C@H](CNC[C@@H](O)[C@@H]1CCc2cc(F)ccc2O1)[C@H...   \n",
              "...                                                 ...   \n",
              "1958                   Cn1c2ncn(CC(O)=O)c2c(=O)n(C)c1=O   \n",
              "1959  CCNC(=O)[C@H]1O[C@H]([C@H](O)[C@@H]1O)n1cnc2c(...   \n",
              "1960  CCNC(=O)[C@H]1O[C@H]([C@@H](O)[C@@H]1O)n1cnc2c...   \n",
              "1961              Cc1sc(N)c(C(=O)c2cccc(c2)C(F)(F)F)c1C   \n",
              "1962  C[C@@]1(O)[C@H](O)[C@@H](CO)O[C@H]1n1cnc2c(NC3...   \n",
              "\n",
              "                                 MOA classes  \n",
              "0     adrenergic receptor antagonist      10  \n",
              "1     adrenergic receptor antagonist      10  \n",
              "2     adrenergic receptor antagonist      10  \n",
              "3     adrenergic receptor antagonist      10  \n",
              "4     adrenergic receptor antagonist      10  \n",
              "...                              ...     ...  \n",
              "1958      adenosine receptor agonist       8  \n",
              "1959      adenosine receptor agonist       8  \n",
              "1960      adenosine receptor agonist       8  \n",
              "1961      adenosine receptor agonist       8  \n",
              "1962      adenosine receptor agonist       8  \n",
              "\n",
              "[1963 rows x 3 columns]"
            ],
            "text/html": [
              "\n",
              "  <div id=\"df-d88e482e-f01c-4e2d-a2bf-2c564eeaa720\">\n",
              "    <div class=\"colab-df-container\">\n",
              "      <div>\n",
              "<style scoped>\n",
              "    .dataframe tbody tr th:only-of-type {\n",
              "        vertical-align: middle;\n",
              "    }\n",
              "\n",
              "    .dataframe tbody tr th {\n",
              "        vertical-align: top;\n",
              "    }\n",
              "\n",
              "    .dataframe thead th {\n",
              "        text-align: right;\n",
              "    }\n",
              "</style>\n",
              "<table border=\"1\" class=\"dataframe\">\n",
              "  <thead>\n",
              "    <tr style=\"text-align: right;\">\n",
              "      <th></th>\n",
              "      <th>SMILES</th>\n",
              "      <th>MOA</th>\n",
              "      <th>classes</th>\n",
              "    </tr>\n",
              "  </thead>\n",
              "  <tbody>\n",
              "    <tr>\n",
              "      <th>0</th>\n",
              "      <td>Oc1ccc(CCNCC2CCc3ccccc3C2=O)cc1</td>\n",
              "      <td>adrenergic receptor antagonist</td>\n",
              "      <td>10</td>\n",
              "    </tr>\n",
              "    <tr>\n",
              "      <th>1</th>\n",
              "      <td>OC(CNCCNC(=O)Nc1ccccc1)COc1ccccc1C#N</td>\n",
              "      <td>adrenergic receptor antagonist</td>\n",
              "      <td>10</td>\n",
              "    </tr>\n",
              "    <tr>\n",
              "      <th>2</th>\n",
              "      <td>O=C1Nc2ccccc2C2=NC(CN3CCN(CC3)c3ccccc3)CN12</td>\n",
              "      <td>adrenergic receptor antagonist</td>\n",
              "      <td>10</td>\n",
              "    </tr>\n",
              "    <tr>\n",
              "      <th>3</th>\n",
              "      <td>O=C(NC1CCN(CCc2c[nH]c3ccccc23)CC1)c1ccccc1</td>\n",
              "      <td>adrenergic receptor antagonist</td>\n",
              "      <td>10</td>\n",
              "    </tr>\n",
              "    <tr>\n",
              "      <th>4</th>\n",
              "      <td>O[C@H](CNC[C@@H](O)[C@@H]1CCc2cc(F)ccc2O1)[C@H...</td>\n",
              "      <td>adrenergic receptor antagonist</td>\n",
              "      <td>10</td>\n",
              "    </tr>\n",
              "    <tr>\n",
              "      <th>...</th>\n",
              "      <td>...</td>\n",
              "      <td>...</td>\n",
              "      <td>...</td>\n",
              "    </tr>\n",
              "    <tr>\n",
              "      <th>1958</th>\n",
              "      <td>Cn1c2ncn(CC(O)=O)c2c(=O)n(C)c1=O</td>\n",
              "      <td>adenosine receptor agonist</td>\n",
              "      <td>8</td>\n",
              "    </tr>\n",
              "    <tr>\n",
              "      <th>1959</th>\n",
              "      <td>CCNC(=O)[C@H]1O[C@H]([C@H](O)[C@@H]1O)n1cnc2c(...</td>\n",
              "      <td>adenosine receptor agonist</td>\n",
              "      <td>8</td>\n",
              "    </tr>\n",
              "    <tr>\n",
              "      <th>1960</th>\n",
              "      <td>CCNC(=O)[C@H]1O[C@H]([C@@H](O)[C@@H]1O)n1cnc2c...</td>\n",
              "      <td>adenosine receptor agonist</td>\n",
              "      <td>8</td>\n",
              "    </tr>\n",
              "    <tr>\n",
              "      <th>1961</th>\n",
              "      <td>Cc1sc(N)c(C(=O)c2cccc(c2)C(F)(F)F)c1C</td>\n",
              "      <td>adenosine receptor agonist</td>\n",
              "      <td>8</td>\n",
              "    </tr>\n",
              "    <tr>\n",
              "      <th>1962</th>\n",
              "      <td>C[C@@]1(O)[C@H](O)[C@@H](CO)O[C@H]1n1cnc2c(NC3...</td>\n",
              "      <td>adenosine receptor agonist</td>\n",
              "      <td>8</td>\n",
              "    </tr>\n",
              "  </tbody>\n",
              "</table>\n",
              "<p>1963 rows × 3 columns</p>\n",
              "</div>\n",
              "      <button class=\"colab-df-convert\" onclick=\"convertToInteractive('df-d88e482e-f01c-4e2d-a2bf-2c564eeaa720')\"\n",
              "              title=\"Convert this dataframe to an interactive table.\"\n",
              "              style=\"display:none;\">\n",
              "        \n",
              "  <svg xmlns=\"http://www.w3.org/2000/svg\" height=\"24px\"viewBox=\"0 0 24 24\"\n",
              "       width=\"24px\">\n",
              "    <path d=\"M0 0h24v24H0V0z\" fill=\"none\"/>\n",
              "    <path d=\"M18.56 5.44l.94 2.06.94-2.06 2.06-.94-2.06-.94-.94-2.06-.94 2.06-2.06.94zm-11 1L8.5 8.5l.94-2.06 2.06-.94-2.06-.94L8.5 2.5l-.94 2.06-2.06.94zm10 10l.94 2.06.94-2.06 2.06-.94-2.06-.94-.94-2.06-.94 2.06-2.06.94z\"/><path d=\"M17.41 7.96l-1.37-1.37c-.4-.4-.92-.59-1.43-.59-.52 0-1.04.2-1.43.59L10.3 9.45l-7.72 7.72c-.78.78-.78 2.05 0 2.83L4 21.41c.39.39.9.59 1.41.59.51 0 1.02-.2 1.41-.59l7.78-7.78 2.81-2.81c.8-.78.8-2.07 0-2.86zM5.41 20L4 18.59l7.72-7.72 1.47 1.35L5.41 20z\"/>\n",
              "  </svg>\n",
              "      </button>\n",
              "      \n",
              "  <style>\n",
              "    .colab-df-container {\n",
              "      display:flex;\n",
              "      flex-wrap:wrap;\n",
              "      gap: 12px;\n",
              "    }\n",
              "\n",
              "    .colab-df-convert {\n",
              "      background-color: #E8F0FE;\n",
              "      border: none;\n",
              "      border-radius: 50%;\n",
              "      cursor: pointer;\n",
              "      display: none;\n",
              "      fill: #1967D2;\n",
              "      height: 32px;\n",
              "      padding: 0 0 0 0;\n",
              "      width: 32px;\n",
              "    }\n",
              "\n",
              "    .colab-df-convert:hover {\n",
              "      background-color: #E2EBFA;\n",
              "      box-shadow: 0px 1px 2px rgba(60, 64, 67, 0.3), 0px 1px 3px 1px rgba(60, 64, 67, 0.15);\n",
              "      fill: #174EA6;\n",
              "    }\n",
              "\n",
              "    [theme=dark] .colab-df-convert {\n",
              "      background-color: #3B4455;\n",
              "      fill: #D2E3FC;\n",
              "    }\n",
              "\n",
              "    [theme=dark] .colab-df-convert:hover {\n",
              "      background-color: #434B5C;\n",
              "      box-shadow: 0px 1px 3px 1px rgba(0, 0, 0, 0.15);\n",
              "      filter: drop-shadow(0px 1px 2px rgba(0, 0, 0, 0.3));\n",
              "      fill: #FFFFFF;\n",
              "    }\n",
              "  </style>\n",
              "\n",
              "      <script>\n",
              "        const buttonEl =\n",
              "          document.querySelector('#df-d88e482e-f01c-4e2d-a2bf-2c564eeaa720 button.colab-df-convert');\n",
              "        buttonEl.style.display =\n",
              "          google.colab.kernel.accessAllowed ? 'block' : 'none';\n",
              "\n",
              "        async function convertToInteractive(key) {\n",
              "          const element = document.querySelector('#df-d88e482e-f01c-4e2d-a2bf-2c564eeaa720');\n",
              "          const dataTable =\n",
              "            await google.colab.kernel.invokeFunction('convertToInteractive',\n",
              "                                                     [key], {});\n",
              "          if (!dataTable) return;\n",
              "\n",
              "          const docLinkHtml = 'Like what you see? Visit the ' +\n",
              "            '<a target=\"_blank\" href=https://colab.research.google.com/notebooks/data_table.ipynb>data table notebook</a>'\n",
              "            + ' to learn more about interactive tables.';\n",
              "          element.innerHTML = '';\n",
              "          dataTable['output_type'] = 'display_data';\n",
              "          await google.colab.output.renderOutput(dataTable, element);\n",
              "          const docLink = document.createElement('div');\n",
              "          docLink.innerHTML = docLinkHtml;\n",
              "          element.appendChild(docLink);\n",
              "        }\n",
              "      </script>\n",
              "    </div>\n",
              "  </div>\n",
              "  "
            ]
          },
          "metadata": {},
          "execution_count": 8
        }
      ]
    },
    {
      "cell_type": "code",
      "source": [
        "# A function that changes smiles string to fingerprints \n",
        "import rdkit\n",
        "import numpy as np\n",
        "from rdkit import *\n",
        "from rdkit import Chem, DataStructs\n",
        "from rdkit.Chem import AllChem\n",
        "def smiles_to_array_to_string(smiles):\n",
        "  molecules = Chem.MolFromSmiles(smiles) \n",
        "  fingerprints = AllChem.GetMorganFingerprintAsBitVect(molecules, 2)\n",
        "  x_array = []\n",
        "  arrays  = np.zeros(0,)\n",
        "  DataStructs.ConvertToNumpyArray(fingerprints, arrays)\n",
        "  x_array.append(arrays)\n",
        "  x_array = np.asarray(x_array)\n",
        "  x_array = list((np.squeeze(x_array)).astype(int))\n",
        "  string = ''\n",
        "  for i in x_array:\n",
        "    string += str(i) \n",
        "  return string"
      ],
      "metadata": {
        "id": "RfbsXXcT_sb7"
      },
      "execution_count": 9,
      "outputs": []
    },
    {
      "cell_type": "code",
      "source": [
        "# Check the existence of Isomers\n",
        "assert len(set([smiles_to_array_to_string(i) for i in df.SMILES.tolist()])) == df.shape[0]"
      ],
      "metadata": {
        "id": "1u3oVoqMFh94"
      },
      "execution_count": 10,
      "outputs": []
    },
    {
      "cell_type": "code",
      "source": [
        "df.head(3)"
      ],
      "metadata": {
        "colab": {
          "base_uri": "https://localhost:8080/",
          "height": 143
        },
        "id": "CFagctK7GiTn",
        "outputId": "76539fd5-583a-429d-e3b4-eaa855647ca2"
      },
      "execution_count": 11,
      "outputs": [
        {
          "output_type": "execute_result",
          "data": {
            "text/plain": [
              "                                        SMILES  \\\n",
              "0              Oc1ccc(CCNCC2CCc3ccccc3C2=O)cc1   \n",
              "1         OC(CNCCNC(=O)Nc1ccccc1)COc1ccccc1C#N   \n",
              "2  O=C1Nc2ccccc2C2=NC(CN3CCN(CC3)c3ccccc3)CN12   \n",
              "\n",
              "                              MOA classes  \n",
              "0  adrenergic receptor antagonist      10  \n",
              "1  adrenergic receptor antagonist      10  \n",
              "2  adrenergic receptor antagonist      10  "
            ],
            "text/html": [
              "\n",
              "  <div id=\"df-48b961ac-d74e-4695-ab7a-7c7aec8c091a\">\n",
              "    <div class=\"colab-df-container\">\n",
              "      <div>\n",
              "<style scoped>\n",
              "    .dataframe tbody tr th:only-of-type {\n",
              "        vertical-align: middle;\n",
              "    }\n",
              "\n",
              "    .dataframe tbody tr th {\n",
              "        vertical-align: top;\n",
              "    }\n",
              "\n",
              "    .dataframe thead th {\n",
              "        text-align: right;\n",
              "    }\n",
              "</style>\n",
              "<table border=\"1\" class=\"dataframe\">\n",
              "  <thead>\n",
              "    <tr style=\"text-align: right;\">\n",
              "      <th></th>\n",
              "      <th>SMILES</th>\n",
              "      <th>MOA</th>\n",
              "      <th>classes</th>\n",
              "    </tr>\n",
              "  </thead>\n",
              "  <tbody>\n",
              "    <tr>\n",
              "      <th>0</th>\n",
              "      <td>Oc1ccc(CCNCC2CCc3ccccc3C2=O)cc1</td>\n",
              "      <td>adrenergic receptor antagonist</td>\n",
              "      <td>10</td>\n",
              "    </tr>\n",
              "    <tr>\n",
              "      <th>1</th>\n",
              "      <td>OC(CNCCNC(=O)Nc1ccccc1)COc1ccccc1C#N</td>\n",
              "      <td>adrenergic receptor antagonist</td>\n",
              "      <td>10</td>\n",
              "    </tr>\n",
              "    <tr>\n",
              "      <th>2</th>\n",
              "      <td>O=C1Nc2ccccc2C2=NC(CN3CCN(CC3)c3ccccc3)CN12</td>\n",
              "      <td>adrenergic receptor antagonist</td>\n",
              "      <td>10</td>\n",
              "    </tr>\n",
              "  </tbody>\n",
              "</table>\n",
              "</div>\n",
              "      <button class=\"colab-df-convert\" onclick=\"convertToInteractive('df-48b961ac-d74e-4695-ab7a-7c7aec8c091a')\"\n",
              "              title=\"Convert this dataframe to an interactive table.\"\n",
              "              style=\"display:none;\">\n",
              "        \n",
              "  <svg xmlns=\"http://www.w3.org/2000/svg\" height=\"24px\"viewBox=\"0 0 24 24\"\n",
              "       width=\"24px\">\n",
              "    <path d=\"M0 0h24v24H0V0z\" fill=\"none\"/>\n",
              "    <path d=\"M18.56 5.44l.94 2.06.94-2.06 2.06-.94-2.06-.94-.94-2.06-.94 2.06-2.06.94zm-11 1L8.5 8.5l.94-2.06 2.06-.94-2.06-.94L8.5 2.5l-.94 2.06-2.06.94zm10 10l.94 2.06.94-2.06 2.06-.94-2.06-.94-.94-2.06-.94 2.06-2.06.94z\"/><path d=\"M17.41 7.96l-1.37-1.37c-.4-.4-.92-.59-1.43-.59-.52 0-1.04.2-1.43.59L10.3 9.45l-7.72 7.72c-.78.78-.78 2.05 0 2.83L4 21.41c.39.39.9.59 1.41.59.51 0 1.02-.2 1.41-.59l7.78-7.78 2.81-2.81c.8-.78.8-2.07 0-2.86zM5.41 20L4 18.59l7.72-7.72 1.47 1.35L5.41 20z\"/>\n",
              "  </svg>\n",
              "      </button>\n",
              "      \n",
              "  <style>\n",
              "    .colab-df-container {\n",
              "      display:flex;\n",
              "      flex-wrap:wrap;\n",
              "      gap: 12px;\n",
              "    }\n",
              "\n",
              "    .colab-df-convert {\n",
              "      background-color: #E8F0FE;\n",
              "      border: none;\n",
              "      border-radius: 50%;\n",
              "      cursor: pointer;\n",
              "      display: none;\n",
              "      fill: #1967D2;\n",
              "      height: 32px;\n",
              "      padding: 0 0 0 0;\n",
              "      width: 32px;\n",
              "    }\n",
              "\n",
              "    .colab-df-convert:hover {\n",
              "      background-color: #E2EBFA;\n",
              "      box-shadow: 0px 1px 2px rgba(60, 64, 67, 0.3), 0px 1px 3px 1px rgba(60, 64, 67, 0.15);\n",
              "      fill: #174EA6;\n",
              "    }\n",
              "\n",
              "    [theme=dark] .colab-df-convert {\n",
              "      background-color: #3B4455;\n",
              "      fill: #D2E3FC;\n",
              "    }\n",
              "\n",
              "    [theme=dark] .colab-df-convert:hover {\n",
              "      background-color: #434B5C;\n",
              "      box-shadow: 0px 1px 3px 1px rgba(0, 0, 0, 0.15);\n",
              "      filter: drop-shadow(0px 1px 2px rgba(0, 0, 0, 0.3));\n",
              "      fill: #FFFFFF;\n",
              "    }\n",
              "  </style>\n",
              "\n",
              "      <script>\n",
              "        const buttonEl =\n",
              "          document.querySelector('#df-48b961ac-d74e-4695-ab7a-7c7aec8c091a button.colab-df-convert');\n",
              "        buttonEl.style.display =\n",
              "          google.colab.kernel.accessAllowed ? 'block' : 'none';\n",
              "\n",
              "        async function convertToInteractive(key) {\n",
              "          const element = document.querySelector('#df-48b961ac-d74e-4695-ab7a-7c7aec8c091a');\n",
              "          const dataTable =\n",
              "            await google.colab.kernel.invokeFunction('convertToInteractive',\n",
              "                                                     [key], {});\n",
              "          if (!dataTable) return;\n",
              "\n",
              "          const docLinkHtml = 'Like what you see? Visit the ' +\n",
              "            '<a target=\"_blank\" href=https://colab.research.google.com/notebooks/data_table.ipynb>data table notebook</a>'\n",
              "            + ' to learn more about interactive tables.';\n",
              "          element.innerHTML = '';\n",
              "          dataTable['output_type'] = 'display_data';\n",
              "          await google.colab.output.renderOutput(dataTable, element);\n",
              "          const docLink = document.createElement('div');\n",
              "          docLink.innerHTML = docLinkHtml;\n",
              "          element.appendChild(docLink);\n",
              "        }\n",
              "      </script>\n",
              "    </div>\n",
              "  </div>\n",
              "  "
            ]
          },
          "metadata": {},
          "execution_count": 11
        }
      ]
    },
    {
      "cell_type": "code",
      "execution_count": 12,
      "metadata": {
        "id": "xowg0CstLlC-"
      },
      "outputs": [],
      "source": [
        "# Split out the test set  \n",
        "from sklearn.model_selection import train_test_split\n",
        "x_train_valid, x_test, y_train_valid, y_test = train_test_split(df.SMILES, df.classes, test_size =10/100,\n",
        " stratify = df.classes, shuffle = True, random_state = 1000)"
      ]
    },
    {
      "cell_type": "code",
      "execution_count": 13,
      "metadata": {
        "id": "BLlcRhSeU6xW"
      },
      "outputs": [],
      "source": [
        "# kfold\n",
        "from sklearn.model_selection import StratifiedKFold\n",
        "skf = StratifiedKFold(n_splits = 9)\n",
        "skf.get_n_splits(np.array(list(x_train_valid)), np.array(list(y_train_valid)))\n",
        "train_index_list = []\n",
        "valid_index_list = []\n",
        "for train_index, valid_index in skf.split(np.array(list(x_train_valid)), np.array(list(y_train_valid))):\n",
        "  train_index_list.append(train_index)\n",
        "  valid_index_list.append(valid_index)"
      ]
    },
    {
      "cell_type": "code",
      "source": [
        "a_list = []\n",
        "for i in range(9):\n",
        "  a_list += list(np.array(list(x_train_valid))[valid_index_list[i]])"
      ],
      "metadata": {
        "id": "JQT77vDlTeNy"
      },
      "execution_count": 14,
      "outputs": []
    },
    {
      "cell_type": "code",
      "execution_count": 15,
      "metadata": {
        "id": "DEqt9fUnDqBe"
      },
      "outputs": [],
      "source": [
        "number_of_kfold =  7 # change the number from 0-8 to get 9 shuffles"
      ]
    },
    {
      "cell_type": "code",
      "execution_count": 16,
      "metadata": {
        "id": "aOFIJo5MEMT0"
      },
      "outputs": [],
      "source": [
        "  x_train = list(np.array(list(x_train_valid))[train_index_list[ number_of_kfold ]])\n",
        "  x_valid = list(np.array(list(x_train_valid))[valid_index_list[ number_of_kfold ]])\n",
        "  y_train = list(np.array(list(y_train_valid))[train_index_list[ number_of_kfold ]])\n",
        "  y_valid = list(np.array(list(y_train_valid))[valid_index_list[ number_of_kfold ]])\n",
        "  x_test = list(x_test)\n",
        "  y_test = list(y_test)"
      ]
    },
    {
      "cell_type": "code",
      "execution_count": 17,
      "metadata": {
        "id": "L0OPr-gtR8sj"
      },
      "outputs": [],
      "source": [
        "# turn to cannoical  smiles\n",
        "x_train = [Chem.MolToSmiles(Chem.MolFromSmiles(smi),True) for smi in x_train]\n",
        "x_valid = [Chem.MolToSmiles(Chem.MolFromSmiles(smi),True) for smi in x_valid]\n",
        "x_test = [Chem.MolToSmiles(Chem.MolFromSmiles(smi),True) for smi in x_test]"
      ]
    },
    {
      "cell_type": "code",
      "execution_count": 18,
      "metadata": {
        "id": "ZB4WWi8wKB59"
      },
      "outputs": [],
      "source": [
        "def smiles_to_array(smiles):\n",
        "  molecules = Chem.MolFromSmiles(smiles) \n",
        "  fingerprints = AllChem.GetMorganFingerprintAsBitVect(molecules, 2)\n",
        "  x_array = []\n",
        "  arrays = np.zeros(0,)\n",
        "  DataStructs.ConvertToNumpyArray(fingerprints, arrays)\n",
        "  x_array.append(arrays)\n",
        "  x_array = np.asarray(x_array)\n",
        "  x_array = ((np.squeeze(x_array)).astype(int)) \n",
        "  return x_array"
      ]
    },
    {
      "cell_type": "code",
      "execution_count": 19,
      "metadata": {
        "id": "a6Fy6iGdLSVP"
      },
      "outputs": [],
      "source": [
        "train_x = np.zeros((len(x_train), 2048), dtype = np.float32)\n",
        "for f in range(train_x.shape[0]):\n",
        "  train_x[f] = smiles_to_array(x_train[f])"
      ]
    },
    {
      "cell_type": "code",
      "execution_count": 20,
      "metadata": {
        "id": "dKhQc7EOKHMM"
      },
      "outputs": [],
      "source": [
        "valid_x = np.zeros((len(x_valid), 2048), dtype = np.float32)\n",
        "for f in range(valid_x.shape[0]):\n",
        "  valid_x[f] = smiles_to_array(x_valid[f])"
      ]
    },
    {
      "cell_type": "code",
      "execution_count": 21,
      "metadata": {
        "id": "eSJBpQREMRYr"
      },
      "outputs": [],
      "source": [
        "test_x = np.zeros((len(x_test), 2048), dtype = np.float32)\n",
        "for f in range(test_x.shape[0]):\n",
        "  test_x[f] = smiles_to_array(x_test[f])"
      ]
    },
    {
      "cell_type": "code",
      "source": [
        "# Check if there are overlaps\n",
        "overlap = []\n",
        "for i in range(train_x.shape[0]):\n",
        "  for j in range(valid_x.shape[0]):\n",
        "    if np.array_equal(train_x[i], valid_x[j]) == True:\n",
        "      overlap.append((i,j))\n",
        "      print(i,j)"
      ],
      "metadata": {
        "id": "7rWxLD37banf"
      },
      "execution_count": 22,
      "outputs": []
    },
    {
      "cell_type": "code",
      "source": [
        "for i in range(test_x.shape[0]):\n",
        "  for j in range(valid_x.shape[0]):\n",
        "    if np.array_equal(test_x[i], valid_x[j]) == True:\n",
        "      overlap.append((i,j))\n",
        "      print(i,j)"
      ],
      "metadata": {
        "id": "gxflY746cryJ"
      },
      "execution_count": 23,
      "outputs": []
    },
    {
      "cell_type": "code",
      "source": [
        "for i in range(train_x.shape[0]):\n",
        "  for j in range(test_x.shape[0]):\n",
        "    if np.array_equal(train_x[i], test_x[j]) == True:\n",
        "      overlap.append((i,j))\n",
        "      print(i,j)"
      ],
      "metadata": {
        "id": "hbAAMsqPcr0y"
      },
      "execution_count": 24,
      "outputs": []
    },
    {
      "cell_type": "code",
      "source": [
        "assert len(overlap) == 0"
      ],
      "metadata": {
        "id": "YNCJ9YgpoLTV"
      },
      "execution_count": 25,
      "outputs": []
    },
    {
      "cell_type": "code",
      "execution_count": 26,
      "metadata": {
        "id": "557ApFkFa6j7"
      },
      "outputs": [],
      "source": [
        "y_train = np.array(y_train).astype(int)\n",
        "y_valid = np.array(y_valid).astype(int)\n",
        "y_test = np.array(y_test).astype(int)"
      ]
    },
    {
      "cell_type": "code",
      "execution_count": 27,
      "metadata": {
        "id": "eL24GiF7rCVF",
        "colab": {
          "base_uri": "https://localhost:8080/"
        },
        "outputId": "1307ba56-1370-480b-f224-1c48504e91cb"
      },
      "outputs": [
        {
          "output_type": "execute_result",
          "data": {
            "text/plain": [
              "571"
            ]
          },
          "metadata": {},
          "execution_count": 27
        }
      ],
      "source": [
        "import gc               \n",
        "gc.collect() "
      ]
    },
    {
      "cell_type": "code",
      "execution_count": 28,
      "metadata": {
        "id": "KlcQEfe9M-VV",
        "colab": {
          "base_uri": "https://localhost:8080/"
        },
        "outputId": "a088321c-4839-42f1-bd2e-b0181d749391"
      },
      "outputs": [
        {
          "output_type": "execute_result",
          "data": {
            "text/plain": [
              "{0: 1.6526315789473685,\n",
              " 1: 0.46865671641791046,\n",
              " 2: 1.8470588235294119,\n",
              " 3: 0.5607142857142857,\n",
              " 4: 0.8722222222222222,\n",
              " 5: 1.8470588235294119,\n",
              " 6: 1.6526315789473685,\n",
              " 7: 1.8470588235294119,\n",
              " 8: 1.8470588235294119,\n",
              " 9: 1.7444444444444445,\n",
              " 10: 0.4131578947368421,\n",
              " 11: 1.4952380952380953,\n",
              " 12: 0.4025641025641026,\n",
              " 13: 1.3652173913043477,\n",
              " 14: 1.7444444444444445,\n",
              " 15: 1.57,\n",
              " 16: 1.7444444444444445,\n",
              " 17: 1.4952380952380953,\n",
              " 18: 1.256,\n",
              " 19: 1.4952380952380953,\n",
              " 20: 0.5322033898305085,\n",
              " 21: 1.0827586206896551,\n",
              " 22: 0.46865671641791046,\n",
              " 23: 1.6526315789473685,\n",
              " 24: 0.5607142857142857,\n",
              " 25: 1.9625,\n",
              " 26: 1.0129032258064516,\n",
              " 27: 0.615686274509804,\n",
              " 28: 1.1214285714285714,\n",
              " 29: 1.6526315789473685,\n",
              " 30: 1.6526315789473685,\n",
              " 31: 1.6526315789473685,\n",
              " 32: 1.7444444444444445,\n",
              " 33: 1.162962962962963,\n",
              " 34: 1.6526315789473685,\n",
              " 35: 1.6526315789473685,\n",
              " 36: 0.9235294117647059,\n",
              " 37: 1.162962962962963,\n",
              " 38: 0.6408163265306123,\n",
              " 39: 1.0129032258064516,\n",
              " 40: 0.628,\n",
              " 41: 0.98125,\n",
              " 42: 0.8722222222222222,\n",
              " 43: 0.4186666666666667,\n",
              " 44: 1.4952380952380953,\n",
              " 45: 1.7444444444444445,\n",
              " 46: 1.6526315789473685,\n",
              " 47: 1.8470588235294119,\n",
              " 48: 1.1214285714285714,\n",
              " 49: 0.9515151515151515}"
            ]
          },
          "metadata": {},
          "execution_count": 28
        }
      ],
      "source": [
        "# Create class weights\n",
        "from sklearn.utils import class_weight\n",
        "y_unique = np.unique(np.array(y_train))\n",
        "class_weights = class_weight.compute_class_weight(class_weight = 'balanced', classes = y_unique,\n",
        "                y = np.array(y_train)) \n",
        "class_weights_dict45 = dict(enumerate(class_weights))\n",
        "class_weights_dict45"
      ]
    },
    {
      "cell_type": "code",
      "source": [
        "from sklearn.ensemble import RandomForestClassifier, AdaBoostClassifier, GradientBoostingClassifier, ExtraTreesClassifier, VotingClassifier\n",
        "from sklearn.metrics import classification_report"
      ],
      "metadata": {
        "id": "OXXeIq_4i8-3"
      },
      "execution_count": 29,
      "outputs": []
    },
    {
      "cell_type": "code",
      "source": [
        "assert list(y_test[0:5]) == [17, 8, 7, 22, 4]\n",
        "therandomforest = RandomForestClassifier(random_state = 0, class_weight = class_weights_dict45)\n",
        "print(therandomforest.fit(train_x, y_train).score(test_x, y_test),\n",
        "   classification_report(y_test, therandomforest.predict(test_x)))"
      ],
      "metadata": {
        "colab": {
          "base_uri": "https://localhost:8080/"
        },
        "id": "2kuvAGR_i9BG",
        "outputId": "3696a8a7-06fe-4e58-f77b-ed8d09fc01ef"
      },
      "execution_count": 31,
      "outputs": [
        {
          "output_type": "stream",
          "name": "stdout",
          "text": [
            "0.6091370558375635               precision    recall  f1-score   support\n",
            "\n",
            "           0       1.00      0.67      0.80         3\n",
            "           1       1.00      0.88      0.93         8\n",
            "           2       1.00      0.50      0.67         2\n",
            "           3       0.40      0.57      0.47         7\n",
            "           4       0.71      1.00      0.83         5\n",
            "           5       1.00      1.00      1.00         2\n",
            "           6       1.00      1.00      1.00         2\n",
            "           7       0.00      0.00      0.00         2\n",
            "           8       0.50      0.50      0.50         2\n",
            "           9       1.00      0.50      0.67         2\n",
            "          10       0.50      0.90      0.64        10\n",
            "          11       1.00      0.33      0.50         3\n",
            "          12       0.53      0.80      0.64        10\n",
            "          13       0.00      0.00      0.00         3\n",
            "          14       0.50      1.00      0.67         2\n",
            "          15       0.00      0.00      0.00         2\n",
            "          16       1.00      0.50      0.67         2\n",
            "          17       0.50      0.33      0.40         3\n",
            "          18       1.00      0.67      0.80         3\n",
            "          19       0.67      0.67      0.67         3\n",
            "          20       0.33      0.50      0.40         8\n",
            "          21       0.75      0.75      0.75         4\n",
            "          22       0.75      0.75      0.75         8\n",
            "          23       0.00      0.00      0.00         2\n",
            "          24       0.57      0.57      0.57         7\n",
            "          25       1.00      0.50      0.67         2\n",
            "          26       0.80      1.00      0.89         4\n",
            "          27       0.50      0.67      0.57         6\n",
            "          28       1.00      0.25      0.40         4\n",
            "          29       0.00      0.00      0.00         3\n",
            "          30       0.00      0.00      0.00         2\n",
            "          31       0.67      1.00      0.80         2\n",
            "          32       0.50      0.50      0.50         2\n",
            "          33       1.00      0.25      0.40         4\n",
            "          34       0.25      0.50      0.33         2\n",
            "          35       1.00      1.00      1.00         2\n",
            "          36       0.40      0.50      0.44         4\n",
            "          37       0.00      0.00      0.00         3\n",
            "          38       0.50      0.67      0.57         6\n",
            "          39       0.00      0.00      0.00         4\n",
            "          40       0.29      0.33      0.31         6\n",
            "          41       1.00      0.75      0.86         4\n",
            "          42       1.00      1.00      1.00         5\n",
            "          43       0.83      1.00      0.91        10\n",
            "          44       1.00      0.33      0.50         3\n",
            "          45       0.00      0.00      0.00         2\n",
            "          46       0.50      0.50      0.50         2\n",
            "          47       1.00      0.50      0.67         2\n",
            "          48       0.67      0.50      0.57         4\n",
            "          49       0.67      1.00      0.80         4\n",
            "\n",
            "    accuracy                           0.61       197\n",
            "   macro avg       0.61      0.54      0.54       197\n",
            "weighted avg       0.61      0.61      0.58       197\n",
            "\n"
          ]
        },
        {
          "output_type": "stream",
          "name": "stderr",
          "text": [
            "/usr/local/lib/python3.7/dist-packages/sklearn/metrics/_classification.py:1318: UndefinedMetricWarning: Precision and F-score are ill-defined and being set to 0.0 in labels with no predicted samples. Use `zero_division` parameter to control this behavior.\n",
            "  _warn_prf(average, modifier, msg_start, len(result))\n",
            "/usr/local/lib/python3.7/dist-packages/sklearn/metrics/_classification.py:1318: UndefinedMetricWarning: Precision and F-score are ill-defined and being set to 0.0 in labels with no predicted samples. Use `zero_division` parameter to control this behavior.\n",
            "  _warn_prf(average, modifier, msg_start, len(result))\n",
            "/usr/local/lib/python3.7/dist-packages/sklearn/metrics/_classification.py:1318: UndefinedMetricWarning: Precision and F-score are ill-defined and being set to 0.0 in labels with no predicted samples. Use `zero_division` parameter to control this behavior.\n",
            "  _warn_prf(average, modifier, msg_start, len(result))\n"
          ]
        }
      ]
    },
    {
      "cell_type": "code",
      "source": [
        "assert list(y_test[0:5])  ==  [17, 8, 7, 22, 4]\n",
        "from sklearn.neighbors import KNeighborsClassifier\n",
        "theneighbor = KNeighborsClassifier(n_neighbors = 1, algorithm = 'kd_tree',)\n",
        "print(theneighbor.fit(train_x , y_train).score(test_x, y_test),\n",
        "   classification_report(y_test, theneighbor.predict(test_x)))"
      ],
      "metadata": {
        "colab": {
          "base_uri": "https://localhost:8080/"
        },
        "id": "PtmrMb5pi9DX",
        "outputId": "7236a09f-c4ca-46f4-fa36-0edf8cfe23db"
      },
      "execution_count": 32,
      "outputs": [
        {
          "output_type": "stream",
          "name": "stdout",
          "text": [
            "0.5736040609137056               precision    recall  f1-score   support\n",
            "\n",
            "           0       1.00      0.67      0.80         3\n",
            "           1       1.00      0.62      0.77         8\n",
            "           2       1.00      0.50      0.67         2\n",
            "           3       0.50      0.71      0.59         7\n",
            "           4       0.83      1.00      0.91         5\n",
            "           5       0.67      1.00      0.80         2\n",
            "           6       1.00      1.00      1.00         2\n",
            "           7       0.00      0.00      0.00         2\n",
            "           8       1.00      0.50      0.67         2\n",
            "           9       1.00      0.50      0.67         2\n",
            "          10       0.89      0.80      0.84        10\n",
            "          11       1.00      0.33      0.50         3\n",
            "          12       0.67      0.60      0.63        10\n",
            "          13       0.33      0.33      0.33         3\n",
            "          14       0.67      1.00      0.80         2\n",
            "          15       0.33      0.50      0.40         2\n",
            "          16       0.33      0.50      0.40         2\n",
            "          17       0.00      0.00      0.00         3\n",
            "          18       1.00      0.33      0.50         3\n",
            "          19       0.20      0.33      0.25         3\n",
            "          20       0.50      0.50      0.50         8\n",
            "          21       0.60      0.75      0.67         4\n",
            "          22       0.73      1.00      0.84         8\n",
            "          23       0.00      0.00      0.00         2\n",
            "          24       0.50      0.43      0.46         7\n",
            "          25       1.00      0.50      0.67         2\n",
            "          26       1.00      0.75      0.86         4\n",
            "          27       0.80      0.67      0.73         6\n",
            "          28       1.00      0.75      0.86         4\n",
            "          29       0.33      0.33      0.33         3\n",
            "          30       0.00      0.00      0.00         2\n",
            "          31       0.50      0.50      0.50         2\n",
            "          32       0.33      0.50      0.40         2\n",
            "          33       1.00      0.25      0.40         4\n",
            "          34       0.00      0.00      0.00         2\n",
            "          35       1.00      1.00      1.00         2\n",
            "          36       0.25      0.50      0.33         4\n",
            "          37       0.00      0.00      0.00         3\n",
            "          38       0.50      0.67      0.57         6\n",
            "          39       0.00      0.00      0.00         4\n",
            "          40       0.00      0.00      0.00         6\n",
            "          41       0.75      0.75      0.75         4\n",
            "          42       0.71      1.00      0.83         5\n",
            "          43       1.00      0.90      0.95        10\n",
            "          44       1.00      0.67      0.80         3\n",
            "          45       0.00      0.00      0.00         2\n",
            "          46       0.09      0.50      0.15         2\n",
            "          47       1.00      0.50      0.67         2\n",
            "          48       0.40      0.50      0.44         4\n",
            "          49       0.75      0.75      0.75         4\n",
            "\n",
            "    accuracy                           0.57       197\n",
            "   macro avg       0.58      0.52      0.52       197\n",
            "weighted avg       0.63      0.57      0.58       197\n",
            "\n"
          ]
        },
        {
          "output_type": "stream",
          "name": "stderr",
          "text": [
            "/usr/local/lib/python3.7/dist-packages/sklearn/metrics/_classification.py:1318: UndefinedMetricWarning: Precision and F-score are ill-defined and being set to 0.0 in labels with no predicted samples. Use `zero_division` parameter to control this behavior.\n",
            "  _warn_prf(average, modifier, msg_start, len(result))\n",
            "/usr/local/lib/python3.7/dist-packages/sklearn/metrics/_classification.py:1318: UndefinedMetricWarning: Precision and F-score are ill-defined and being set to 0.0 in labels with no predicted samples. Use `zero_division` parameter to control this behavior.\n",
            "  _warn_prf(average, modifier, msg_start, len(result))\n",
            "/usr/local/lib/python3.7/dist-packages/sklearn/metrics/_classification.py:1318: UndefinedMetricWarning: Precision and F-score are ill-defined and being set to 0.0 in labels with no predicted samples. Use `zero_division` parameter to control this behavior.\n",
            "  _warn_prf(average, modifier, msg_start, len(result))\n"
          ]
        }
      ]
    },
    {
      "cell_type": "code",
      "source": [
        "assert  list(y_test[0:5]) == [17, 8, 7, 22, 4]\n",
        "from sklearn.linear_model import LogisticRegression\n",
        "thelogisticregression = LogisticRegression(random_state = 0, class_weight = class_weights_dict45) \n",
        "print(thelogisticregression.fit(train_x, y_train).score(test_x, y_test),\n",
        "   classification_report(y_test, thelogisticregression.predict(test_x)))"
      ],
      "metadata": {
        "colab": {
          "base_uri": "https://localhost:8080/"
        },
        "id": "0LBW5RJyi9F3",
        "outputId": "3cdb310e-b247-41fb-cdbe-c8c11c12b9e0"
      },
      "execution_count": 33,
      "outputs": [
        {
          "output_type": "stream",
          "name": "stdout",
          "text": [
            "0.6294416243654822               precision    recall  f1-score   support\n",
            "\n",
            "           0       1.00      0.67      0.80         3\n",
            "           1       0.86      0.75      0.80         8\n",
            "           2       1.00      1.00      1.00         2\n",
            "           3       0.33      0.71      0.45         7\n",
            "           4       0.83      1.00      0.91         5\n",
            "           5       1.00      1.00      1.00         2\n",
            "           6       1.00      1.00      1.00         2\n",
            "           7       0.00      0.00      0.00         2\n",
            "           8       1.00      0.50      0.67         2\n",
            "           9       1.00      0.50      0.67         2\n",
            "          10       0.60      0.90      0.72        10\n",
            "          11       1.00      0.33      0.50         3\n",
            "          12       0.78      0.70      0.74        10\n",
            "          13       0.00      0.00      0.00         3\n",
            "          14       0.50      1.00      0.67         2\n",
            "          15       0.00      0.00      0.00         2\n",
            "          16       1.00      0.50      0.67         2\n",
            "          17       0.20      0.33      0.25         3\n",
            "          18       1.00      0.67      0.80         3\n",
            "          19       0.40      0.67      0.50         3\n",
            "          20       0.50      0.38      0.43         8\n",
            "          21       0.75      0.75      0.75         4\n",
            "          22       0.88      0.88      0.88         8\n",
            "          23       0.00      0.00      0.00         2\n",
            "          24       0.50      0.57      0.53         7\n",
            "          25       1.00      1.00      1.00         2\n",
            "          26       1.00      1.00      1.00         4\n",
            "          27       0.80      0.67      0.73         6\n",
            "          28       1.00      0.75      0.86         4\n",
            "          29       0.00      0.00      0.00         3\n",
            "          30       0.00      0.00      0.00         2\n",
            "          31       0.67      1.00      0.80         2\n",
            "          32       0.50      0.50      0.50         2\n",
            "          33       0.50      0.25      0.33         4\n",
            "          34       0.33      0.50      0.40         2\n",
            "          35       1.00      1.00      1.00         2\n",
            "          36       0.40      0.50      0.44         4\n",
            "          37       0.33      0.33      0.33         3\n",
            "          38       0.38      0.50      0.43         6\n",
            "          39       0.33      0.25      0.29         4\n",
            "          40       0.40      0.33      0.36         6\n",
            "          41       1.00      0.75      0.86         4\n",
            "          42       0.80      0.80      0.80         5\n",
            "          43       1.00      0.90      0.95        10\n",
            "          44       0.67      0.67      0.67         3\n",
            "          45       0.00      0.00      0.00         2\n",
            "          46       1.00      0.50      0.67         2\n",
            "          47       0.50      0.50      0.50         2\n",
            "          48       0.75      0.75      0.75         4\n",
            "          49       0.80      1.00      0.89         4\n",
            "\n",
            "    accuracy                           0.63       197\n",
            "   macro avg       0.63      0.59      0.59       197\n",
            "weighted avg       0.65      0.63      0.62       197\n",
            "\n"
          ]
        },
        {
          "output_type": "stream",
          "name": "stderr",
          "text": [
            "/usr/local/lib/python3.7/dist-packages/sklearn/linear_model/_logistic.py:818: ConvergenceWarning: lbfgs failed to converge (status=1):\n",
            "STOP: TOTAL NO. of ITERATIONS REACHED LIMIT.\n",
            "\n",
            "Increase the number of iterations (max_iter) or scale the data as shown in:\n",
            "    https://scikit-learn.org/stable/modules/preprocessing.html\n",
            "Please also refer to the documentation for alternative solver options:\n",
            "    https://scikit-learn.org/stable/modules/linear_model.html#logistic-regression\n",
            "  extra_warning_msg=_LOGISTIC_SOLVER_CONVERGENCE_MSG,\n",
            "/usr/local/lib/python3.7/dist-packages/sklearn/metrics/_classification.py:1318: UndefinedMetricWarning: Precision and F-score are ill-defined and being set to 0.0 in labels with no predicted samples. Use `zero_division` parameter to control this behavior.\n",
            "  _warn_prf(average, modifier, msg_start, len(result))\n",
            "/usr/local/lib/python3.7/dist-packages/sklearn/metrics/_classification.py:1318: UndefinedMetricWarning: Precision and F-score are ill-defined and being set to 0.0 in labels with no predicted samples. Use `zero_division` parameter to control this behavior.\n",
            "  _warn_prf(average, modifier, msg_start, len(result))\n",
            "/usr/local/lib/python3.7/dist-packages/sklearn/metrics/_classification.py:1318: UndefinedMetricWarning: Precision and F-score are ill-defined and being set to 0.0 in labels with no predicted samples. Use `zero_division` parameter to control this behavior.\n",
            "  _warn_prf(average, modifier, msg_start, len(result))\n"
          ]
        }
      ]
    },
    {
      "cell_type": "code",
      "source": [
        "assert list(y_test[0:5])  == [17, 8, 7, 22, 4]\n",
        "from lightgbm import LGBMClassifier\n",
        "thelgbclassifier = LGBMClassifier(class_weight = class_weights_dict45)\n",
        "print(thelgbclassifier.fit(train_x, y_train).score(test_x, y_test),\n",
        "   classification_report(y_test, thelgbclassifier.predict(test_x) ))"
      ],
      "metadata": {
        "colab": {
          "base_uri": "https://localhost:8080/"
        },
        "id": "i0byo27yi9H3",
        "outputId": "e35fe770-8e2b-4b65-8af7-8733cd3ef040"
      },
      "execution_count": 35,
      "outputs": [
        {
          "output_type": "stream",
          "name": "stdout",
          "text": [
            "0.5685279187817259               precision    recall  f1-score   support\n",
            "\n",
            "           0       0.67      0.67      0.67         3\n",
            "           1       1.00      0.62      0.77         8\n",
            "           2       1.00      1.00      1.00         2\n",
            "           3       0.25      0.57      0.35         7\n",
            "           4       0.83      1.00      0.91         5\n",
            "           5       1.00      1.00      1.00         2\n",
            "           6       1.00      1.00      1.00         2\n",
            "           7       0.00      0.00      0.00         2\n",
            "           8       1.00      0.50      0.67         2\n",
            "           9       0.50      0.50      0.50         2\n",
            "          10       0.82      0.90      0.86        10\n",
            "          11       0.50      0.33      0.40         3\n",
            "          12       0.60      0.60      0.60        10\n",
            "          13       0.00      0.00      0.00         3\n",
            "          14       0.50      1.00      0.67         2\n",
            "          15       0.00      0.00      0.00         2\n",
            "          16       0.00      0.00      0.00         2\n",
            "          17       0.20      0.33      0.25         3\n",
            "          18       1.00      0.67      0.80         3\n",
            "          19       0.67      0.67      0.67         3\n",
            "          20       0.33      0.38      0.35         8\n",
            "          21       0.50      0.75      0.60         4\n",
            "          22       0.80      1.00      0.89         8\n",
            "          23       0.00      0.00      0.00         2\n",
            "          24       0.44      0.57      0.50         7\n",
            "          25       1.00      0.50      0.67         2\n",
            "          26       0.80      1.00      0.89         4\n",
            "          27       0.50      0.50      0.50         6\n",
            "          28       1.00      0.75      0.86         4\n",
            "          29       0.00      0.00      0.00         3\n",
            "          30       0.00      0.00      0.00         2\n",
            "          31       0.50      0.50      0.50         2\n",
            "          32       0.50      0.50      0.50         2\n",
            "          33       1.00      0.25      0.40         4\n",
            "          34       0.00      0.00      0.00         2\n",
            "          35       1.00      1.00      1.00         2\n",
            "          36       0.50      0.50      0.50         4\n",
            "          37       0.33      0.33      0.33         3\n",
            "          38       0.40      0.33      0.36         6\n",
            "          39       0.00      0.00      0.00         4\n",
            "          40       0.25      0.17      0.20         6\n",
            "          41       1.00      0.75      0.86         4\n",
            "          42       1.00      1.00      1.00         5\n",
            "          43       0.90      0.90      0.90        10\n",
            "          44       0.67      0.67      0.67         3\n",
            "          45       0.00      0.00      0.00         2\n",
            "          46       0.50      0.50      0.50         2\n",
            "          47       0.20      0.50      0.29         2\n",
            "          48       1.00      0.50      0.67         4\n",
            "          49       1.00      0.50      0.67         4\n",
            "\n",
            "    accuracy                           0.57       197\n",
            "   macro avg       0.55      0.51      0.51       197\n",
            "weighted avg       0.60      0.57      0.56       197\n",
            "\n"
          ]
        },
        {
          "output_type": "stream",
          "name": "stderr",
          "text": [
            "/usr/local/lib/python3.7/dist-packages/sklearn/metrics/_classification.py:1318: UndefinedMetricWarning: Precision and F-score are ill-defined and being set to 0.0 in labels with no predicted samples. Use `zero_division` parameter to control this behavior.\n",
            "  _warn_prf(average, modifier, msg_start, len(result))\n",
            "/usr/local/lib/python3.7/dist-packages/sklearn/metrics/_classification.py:1318: UndefinedMetricWarning: Precision and F-score are ill-defined and being set to 0.0 in labels with no predicted samples. Use `zero_division` parameter to control this behavior.\n",
            "  _warn_prf(average, modifier, msg_start, len(result))\n",
            "/usr/local/lib/python3.7/dist-packages/sklearn/metrics/_classification.py:1318: UndefinedMetricWarning: Precision and F-score are ill-defined and being set to 0.0 in labels with no predicted samples. Use `zero_division` parameter to control this behavior.\n",
            "  _warn_prf(average, modifier, msg_start, len(result))\n"
          ]
        }
      ]
    },
    {
      "cell_type": "code",
      "source": [
        "pip  install catboost"
      ],
      "metadata": {
        "colab": {
          "base_uri": "https://localhost:8080/",
          "height": 161
        },
        "id": "RA0P3ncLlTmV",
        "outputId": "462f31a8-be77-469f-d806-d45b2d6caebc"
      },
      "execution_count": 36,
      "outputs": [
        {
          "output_type": "stream",
          "name": "stdout",
          "text": [
            "Successfully installed catboost-1.0.6 cycler-0.11.0 fonttools-4.37.1 graphviz-0.20.1 kiwisolver-1.4.4 matplotlib-3.5.3 plotly-5.10.0 scipy-1.7.3 tenacity-8.0.1 typing-extensions-4.3.0\n",
            "\u001b[33mWARNING: Running pip as the 'root' user can result in broken permissions and conflicting behaviour with the system package manager. It is recommended to use a virtual environment instead: https://pip.pypa.io/warnings/venv\u001b[0m\u001b[33m\n",
            "\u001b[0m"
          ]
        },
        {
          "output_type": "display_data",
          "data": {
            "application/vnd.colab-display-data+json": {
              "pip_warning": {
                "packages": [
                  "cycler",
                  "kiwisolver",
                  "scipy"
                ]
              }
            }
          },
          "metadata": {}
        }
      ]
    },
    {
      "cell_type": "code",
      "source": [
        "from catboost import CatBoostClassifier\n",
        "assert list(y_test[0:5]) == [17, 8, 7, 22, 4]\n",
        "thecatboost = CatBoostClassifier(verbose = 0, class_weights = class_weights_dict45, task_type = \"GPU\")\n",
        "print(thecatboost.fit(train_x, y_train).score(test_x, y_test),\n",
        "   classification_report(y_test, thecatboost.predict(test_x)))"
      ],
      "metadata": {
        "colab": {
          "base_uri": "https://localhost:8080/"
        },
        "id": "FuTaUYWWlTpE",
        "outputId": "eb805f99-b0ab-484b-fda4-34a25ad0b396"
      },
      "execution_count": 37,
      "outputs": [
        {
          "output_type": "stream",
          "name": "stdout",
          "text": [
            "0.5532994923857868               precision    recall  f1-score   support\n",
            "\n",
            "           0       1.00      0.67      0.80         3\n",
            "           1       0.83      0.62      0.71         8\n",
            "           2       1.00      1.00      1.00         2\n",
            "           3       0.44      0.57      0.50         7\n",
            "           4       0.83      1.00      0.91         5\n",
            "           5       0.67      1.00      0.80         2\n",
            "           6       1.00      1.00      1.00         2\n",
            "           7       0.00      0.00      0.00         2\n",
            "           8       1.00      0.50      0.67         2\n",
            "           9       1.00      0.50      0.67         2\n",
            "          10       0.78      0.70      0.74        10\n",
            "          11       1.00      0.33      0.50         3\n",
            "          12       0.50      0.40      0.44        10\n",
            "          13       0.00      0.00      0.00         3\n",
            "          14       0.50      1.00      0.67         2\n",
            "          15       0.67      1.00      0.80         2\n",
            "          16       1.00      0.50      0.67         2\n",
            "          17       0.25      0.33      0.29         3\n",
            "          18       1.00      0.33      0.50         3\n",
            "          19       0.50      0.67      0.57         3\n",
            "          20       0.20      0.12      0.15         8\n",
            "          21       0.60      0.75      0.67         4\n",
            "          22       0.70      0.88      0.78         8\n",
            "          23       0.00      0.00      0.00         2\n",
            "          24       0.50      0.43      0.46         7\n",
            "          25       0.50      0.50      0.50         2\n",
            "          26       1.00      1.00      1.00         4\n",
            "          27       0.44      0.67      0.53         6\n",
            "          28       0.50      0.50      0.50         4\n",
            "          29       0.00      0.00      0.00         3\n",
            "          30       0.00      0.00      0.00         2\n",
            "          31       0.67      1.00      0.80         2\n",
            "          32       0.25      0.50      0.33         2\n",
            "          33       0.50      0.25      0.33         4\n",
            "          34       0.00      0.00      0.00         2\n",
            "          35       1.00      1.00      1.00         2\n",
            "          36       0.25      0.50      0.33         4\n",
            "          37       0.20      0.33      0.25         3\n",
            "          38       0.56      0.83      0.67         6\n",
            "          39       0.00      0.00      0.00         4\n",
            "          40       0.67      0.33      0.44         6\n",
            "          41       1.00      0.75      0.86         4\n",
            "          42       0.80      0.80      0.80         5\n",
            "          43       0.90      0.90      0.90        10\n",
            "          44       0.67      0.67      0.67         3\n",
            "          45       0.00      0.00      0.00         2\n",
            "          46       0.25      0.50      0.33         2\n",
            "          47       0.50      0.50      0.50         2\n",
            "          48       0.33      0.25      0.29         4\n",
            "          49       0.33      0.50      0.40         4\n",
            "\n",
            "    accuracy                           0.55       197\n",
            "   macro avg       0.55      0.53      0.51       197\n",
            "weighted avg       0.57      0.55      0.54       197\n",
            "\n"
          ]
        },
        {
          "output_type": "stream",
          "name": "stderr",
          "text": [
            "/usr/local/lib/python3.7/dist-packages/sklearn/metrics/_classification.py:1318: UndefinedMetricWarning: Precision and F-score are ill-defined and being set to 0.0 in labels with no predicted samples. Use `zero_division` parameter to control this behavior.\n",
            "  _warn_prf(average, modifier, msg_start, len(result))\n",
            "/usr/local/lib/python3.7/dist-packages/sklearn/metrics/_classification.py:1318: UndefinedMetricWarning: Precision and F-score are ill-defined and being set to 0.0 in labels with no predicted samples. Use `zero_division` parameter to control this behavior.\n",
            "  _warn_prf(average, modifier, msg_start, len(result))\n",
            "/usr/local/lib/python3.7/dist-packages/sklearn/metrics/_classification.py:1318: UndefinedMetricWarning: Precision and F-score are ill-defined and being set to 0.0 in labels with no predicted samples. Use `zero_division` parameter to control this behavior.\n",
            "  _warn_prf(average, modifier, msg_start, len(result))\n"
          ]
        }
      ]
    },
    {
      "cell_type": "code",
      "source": [
        "assert list(y_test[0:5]) == [17, 8, 7, 22, 4]\n",
        "from sklearn.ensemble import BaggingClassifier\n",
        "thebagging = BaggingClassifier(base_estimator = thelogisticregression, random_state = 0)\n",
        "print(thebagging.fit(train_x, y_train).score(test_x, y_test),\n",
        "   classification_report(y_test, thebagging.predict(test_x)))"
      ],
      "metadata": {
        "colab": {
          "base_uri": "https://localhost:8080/"
        },
        "id": "TrjNHrKtlTrJ",
        "outputId": "851d39f1-ab6d-427f-f6cc-654697667f48"
      },
      "execution_count": 38,
      "outputs": [
        {
          "output_type": "stream",
          "name": "stderr",
          "text": [
            "/usr/local/lib/python3.7/dist-packages/sklearn/linear_model/_logistic.py:818: ConvergenceWarning: lbfgs failed to converge (status=1):\n",
            "STOP: TOTAL NO. of ITERATIONS REACHED LIMIT.\n",
            "\n",
            "Increase the number of iterations (max_iter) or scale the data as shown in:\n",
            "    https://scikit-learn.org/stable/modules/preprocessing.html\n",
            "Please also refer to the documentation for alternative solver options:\n",
            "    https://scikit-learn.org/stable/modules/linear_model.html#logistic-regression\n",
            "  extra_warning_msg=_LOGISTIC_SOLVER_CONVERGENCE_MSG,\n",
            "/usr/local/lib/python3.7/dist-packages/sklearn/linear_model/_logistic.py:818: ConvergenceWarning: lbfgs failed to converge (status=1):\n",
            "STOP: TOTAL NO. of ITERATIONS REACHED LIMIT.\n",
            "\n",
            "Increase the number of iterations (max_iter) or scale the data as shown in:\n",
            "    https://scikit-learn.org/stable/modules/preprocessing.html\n",
            "Please also refer to the documentation for alternative solver options:\n",
            "    https://scikit-learn.org/stable/modules/linear_model.html#logistic-regression\n",
            "  extra_warning_msg=_LOGISTIC_SOLVER_CONVERGENCE_MSG,\n",
            "/usr/local/lib/python3.7/dist-packages/sklearn/linear_model/_logistic.py:818: ConvergenceWarning: lbfgs failed to converge (status=1):\n",
            "STOP: TOTAL NO. of ITERATIONS REACHED LIMIT.\n",
            "\n",
            "Increase the number of iterations (max_iter) or scale the data as shown in:\n",
            "    https://scikit-learn.org/stable/modules/preprocessing.html\n",
            "Please also refer to the documentation for alternative solver options:\n",
            "    https://scikit-learn.org/stable/modules/linear_model.html#logistic-regression\n",
            "  extra_warning_msg=_LOGISTIC_SOLVER_CONVERGENCE_MSG,\n",
            "/usr/local/lib/python3.7/dist-packages/sklearn/linear_model/_logistic.py:818: ConvergenceWarning: lbfgs failed to converge (status=1):\n",
            "STOP: TOTAL NO. of ITERATIONS REACHED LIMIT.\n",
            "\n",
            "Increase the number of iterations (max_iter) or scale the data as shown in:\n",
            "    https://scikit-learn.org/stable/modules/preprocessing.html\n",
            "Please also refer to the documentation for alternative solver options:\n",
            "    https://scikit-learn.org/stable/modules/linear_model.html#logistic-regression\n",
            "  extra_warning_msg=_LOGISTIC_SOLVER_CONVERGENCE_MSG,\n",
            "/usr/local/lib/python3.7/dist-packages/sklearn/linear_model/_logistic.py:818: ConvergenceWarning: lbfgs failed to converge (status=1):\n",
            "STOP: TOTAL NO. of ITERATIONS REACHED LIMIT.\n",
            "\n",
            "Increase the number of iterations (max_iter) or scale the data as shown in:\n",
            "    https://scikit-learn.org/stable/modules/preprocessing.html\n",
            "Please also refer to the documentation for alternative solver options:\n",
            "    https://scikit-learn.org/stable/modules/linear_model.html#logistic-regression\n",
            "  extra_warning_msg=_LOGISTIC_SOLVER_CONVERGENCE_MSG,\n",
            "/usr/local/lib/python3.7/dist-packages/sklearn/linear_model/_logistic.py:818: ConvergenceWarning: lbfgs failed to converge (status=1):\n",
            "STOP: TOTAL NO. of ITERATIONS REACHED LIMIT.\n",
            "\n",
            "Increase the number of iterations (max_iter) or scale the data as shown in:\n",
            "    https://scikit-learn.org/stable/modules/preprocessing.html\n",
            "Please also refer to the documentation for alternative solver options:\n",
            "    https://scikit-learn.org/stable/modules/linear_model.html#logistic-regression\n",
            "  extra_warning_msg=_LOGISTIC_SOLVER_CONVERGENCE_MSG,\n"
          ]
        },
        {
          "output_type": "stream",
          "name": "stdout",
          "text": [
            "0.6192893401015228               precision    recall  f1-score   support\n",
            "\n",
            "           0       1.00      0.67      0.80         3\n",
            "           1       0.75      0.75      0.75         8\n",
            "           2       1.00      1.00      1.00         2\n",
            "           3       0.46      0.86      0.60         7\n",
            "           4       0.83      1.00      0.91         5\n",
            "           5       1.00      1.00      1.00         2\n",
            "           6       1.00      1.00      1.00         2\n",
            "           7       0.00      0.00      0.00         2\n",
            "           8       1.00      0.50      0.67         2\n",
            "           9       1.00      0.50      0.67         2\n",
            "          10       0.60      0.90      0.72        10\n",
            "          11       1.00      0.33      0.50         3\n",
            "          12       0.78      0.70      0.74        10\n",
            "          13       0.00      0.00      0.00         3\n",
            "          14       0.50      1.00      0.67         2\n",
            "          15       0.00      0.00      0.00         2\n",
            "          16       1.00      0.50      0.67         2\n",
            "          17       0.25      0.33      0.29         3\n",
            "          18       1.00      0.67      0.80         3\n",
            "          19       0.40      0.67      0.50         3\n",
            "          20       0.50      0.50      0.50         8\n",
            "          21       0.75      0.75      0.75         4\n",
            "          22       0.88      0.88      0.88         8\n",
            "          23       0.00      0.00      0.00         2\n",
            "          24       0.57      0.57      0.57         7\n",
            "          25       1.00      1.00      1.00         2\n",
            "          26       1.00      1.00      1.00         4\n",
            "          27       0.57      0.67      0.62         6\n",
            "          28       0.75      0.75      0.75         4\n",
            "          29       0.00      0.00      0.00         3\n",
            "          30       0.00      0.00      0.00         2\n",
            "          31       0.67      1.00      0.80         2\n",
            "          32       0.50      0.50      0.50         2\n",
            "          33       0.00      0.00      0.00         4\n",
            "          34       0.00      0.00      0.00         2\n",
            "          35       1.00      1.00      1.00         2\n",
            "          36       0.33      0.50      0.40         4\n",
            "          37       0.33      0.33      0.33         3\n",
            "          38       0.33      0.33      0.33         6\n",
            "          39       0.00      0.00      0.00         4\n",
            "          40       0.33      0.33      0.33         6\n",
            "          41       1.00      0.75      0.86         4\n",
            "          42       1.00      0.80      0.89         5\n",
            "          43       1.00      0.90      0.95        10\n",
            "          44       0.67      0.67      0.67         3\n",
            "          45       0.00      0.00      0.00         2\n",
            "          46       1.00      0.50      0.67         2\n",
            "          47       0.50      0.50      0.50         2\n",
            "          48       0.60      0.75      0.67         4\n",
            "          49       0.80      1.00      0.89         4\n",
            "\n",
            "    accuracy                           0.62       197\n",
            "   macro avg       0.59      0.57      0.56       197\n",
            "weighted avg       0.62      0.62      0.60       197\n",
            "\n"
          ]
        },
        {
          "output_type": "stream",
          "name": "stderr",
          "text": [
            "/usr/local/lib/python3.7/dist-packages/sklearn/linear_model/_logistic.py:818: ConvergenceWarning: lbfgs failed to converge (status=1):\n",
            "STOP: TOTAL NO. of ITERATIONS REACHED LIMIT.\n",
            "\n",
            "Increase the number of iterations (max_iter) or scale the data as shown in:\n",
            "    https://scikit-learn.org/stable/modules/preprocessing.html\n",
            "Please also refer to the documentation for alternative solver options:\n",
            "    https://scikit-learn.org/stable/modules/linear_model.html#logistic-regression\n",
            "  extra_warning_msg=_LOGISTIC_SOLVER_CONVERGENCE_MSG,\n",
            "/usr/local/lib/python3.7/dist-packages/sklearn/metrics/_classification.py:1318: UndefinedMetricWarning: Precision and F-score are ill-defined and being set to 0.0 in labels with no predicted samples. Use `zero_division` parameter to control this behavior.\n",
            "  _warn_prf(average, modifier, msg_start, len(result))\n",
            "/usr/local/lib/python3.7/dist-packages/sklearn/metrics/_classification.py:1318: UndefinedMetricWarning: Precision and F-score are ill-defined and being set to 0.0 in labels with no predicted samples. Use `zero_division` parameter to control this behavior.\n",
            "  _warn_prf(average, modifier, msg_start, len(result))\n",
            "/usr/local/lib/python3.7/dist-packages/sklearn/metrics/_classification.py:1318: UndefinedMetricWarning: Precision and F-score are ill-defined and being set to 0.0 in labels with no predicted samples. Use `zero_division` parameter to control this behavior.\n",
            "  _warn_prf(average, modifier, msg_start, len(result))\n"
          ]
        }
      ]
    },
    {
      "cell_type": "code",
      "source": [
        "assert list(y_test[0:5]) ==  [17, 8, 7, 22, 4]\n",
        "from sklearn.ensemble import StackingClassifier\n",
        "estimators = [\n",
        "('therandomforest', therandomforest), \n",
        "('thelgbclassifier',thelgbclassifier ), \n",
        "('thelogisticregression', thelogisticregression)]\n",
        "thestacking = StackingClassifier(estimators = estimators, final_estimator = therandomforest)\n",
        "print(thestacking.fit(train_x, y_train).score(test_x, y_test),\n",
        "  classification_report(y_test, thestacking.predict(test_x),))"
      ],
      "metadata": {
        "colab": {
          "base_uri": "https://localhost:8080/"
        },
        "id": "1OsBvbMnlTtj",
        "outputId": "6aa77d91-2963-447f-a075-7dca51ceab51"
      },
      "execution_count": 39,
      "outputs": [
        {
          "output_type": "stream",
          "name": "stderr",
          "text": [
            "/usr/local/lib/python3.7/dist-packages/sklearn/linear_model/_logistic.py:818: ConvergenceWarning: lbfgs failed to converge (status=1):\n",
            "STOP: TOTAL NO. of ITERATIONS REACHED LIMIT.\n",
            "\n",
            "Increase the number of iterations (max_iter) or scale the data as shown in:\n",
            "    https://scikit-learn.org/stable/modules/preprocessing.html\n",
            "Please also refer to the documentation for alternative solver options:\n",
            "    https://scikit-learn.org/stable/modules/linear_model.html#logistic-regression\n",
            "  extra_warning_msg=_LOGISTIC_SOLVER_CONVERGENCE_MSG,\n",
            "/usr/local/lib/python3.7/dist-packages/sklearn/linear_model/_logistic.py:818: ConvergenceWarning: lbfgs failed to converge (status=1):\n",
            "STOP: TOTAL NO. of ITERATIONS REACHED LIMIT.\n",
            "\n",
            "Increase the number of iterations (max_iter) or scale the data as shown in:\n",
            "    https://scikit-learn.org/stable/modules/preprocessing.html\n",
            "Please also refer to the documentation for alternative solver options:\n",
            "    https://scikit-learn.org/stable/modules/linear_model.html#logistic-regression\n",
            "  extra_warning_msg=_LOGISTIC_SOLVER_CONVERGENCE_MSG,\n",
            "/usr/local/lib/python3.7/dist-packages/sklearn/linear_model/_logistic.py:818: ConvergenceWarning: lbfgs failed to converge (status=1):\n",
            "STOP: TOTAL NO. of ITERATIONS REACHED LIMIT.\n",
            "\n",
            "Increase the number of iterations (max_iter) or scale the data as shown in:\n",
            "    https://scikit-learn.org/stable/modules/preprocessing.html\n",
            "Please also refer to the documentation for alternative solver options:\n",
            "    https://scikit-learn.org/stable/modules/linear_model.html#logistic-regression\n",
            "  extra_warning_msg=_LOGISTIC_SOLVER_CONVERGENCE_MSG,\n",
            "/usr/local/lib/python3.7/dist-packages/sklearn/linear_model/_logistic.py:818: ConvergenceWarning: lbfgs failed to converge (status=1):\n",
            "STOP: TOTAL NO. of ITERATIONS REACHED LIMIT.\n",
            "\n",
            "Increase the number of iterations (max_iter) or scale the data as shown in:\n",
            "    https://scikit-learn.org/stable/modules/preprocessing.html\n",
            "Please also refer to the documentation for alternative solver options:\n",
            "    https://scikit-learn.org/stable/modules/linear_model.html#logistic-regression\n",
            "  extra_warning_msg=_LOGISTIC_SOLVER_CONVERGENCE_MSG,\n"
          ]
        },
        {
          "output_type": "stream",
          "name": "stdout",
          "text": [
            "0.6700507614213198               precision    recall  f1-score   support\n",
            "\n",
            "           0       1.00      0.67      0.80         3\n",
            "           1       1.00      0.75      0.86         8\n",
            "           2       1.00      1.00      1.00         2\n",
            "           3       0.50      0.86      0.63         7\n",
            "           4       0.83      1.00      0.91         5\n",
            "           5       1.00      1.00      1.00         2\n",
            "           6       1.00      1.00      1.00         2\n",
            "           7       0.00      0.00      0.00         2\n",
            "           8       1.00      0.50      0.67         2\n",
            "           9       1.00      1.00      1.00         2\n",
            "          10       0.69      0.90      0.78        10\n",
            "          11       1.00      0.33      0.50         3\n",
            "          12       0.89      0.80      0.84        10\n",
            "          13       0.00      0.00      0.00         3\n",
            "          14       0.50      1.00      0.67         2\n",
            "          15       0.00      0.00      0.00         2\n",
            "          16       1.00      0.50      0.67         2\n",
            "          17       0.25      0.33      0.29         3\n",
            "          18       1.00      0.67      0.80         3\n",
            "          19       0.50      0.67      0.57         3\n",
            "          20       0.50      0.62      0.56         8\n",
            "          21       0.75      0.75      0.75         4\n",
            "          22       0.78      0.88      0.82         8\n",
            "          23       0.00      0.00      0.00         2\n",
            "          24       0.60      0.86      0.71         7\n",
            "          25       1.00      1.00      1.00         2\n",
            "          26       0.80      1.00      0.89         4\n",
            "          27       0.80      0.67      0.73         6\n",
            "          28       1.00      0.75      0.86         4\n",
            "          29       0.00      0.00      0.00         3\n",
            "          30       0.00      0.00      0.00         2\n",
            "          31       0.40      1.00      0.57         2\n",
            "          32       0.50      0.50      0.50         2\n",
            "          33       1.00      0.25      0.40         4\n",
            "          34       0.25      0.50      0.33         2\n",
            "          35       1.00      1.00      1.00         2\n",
            "          36       0.50      0.50      0.50         4\n",
            "          37       0.50      0.67      0.57         3\n",
            "          38       0.80      0.67      0.73         6\n",
            "          39       0.00      0.00      0.00         4\n",
            "          40       0.40      0.33      0.36         6\n",
            "          41       1.00      0.75      0.86         4\n",
            "          42       1.00      1.00      1.00         5\n",
            "          43       1.00      0.90      0.95        10\n",
            "          44       0.67      0.67      0.67         3\n",
            "          45       0.00      0.00      0.00         2\n",
            "          46       0.25      0.50      0.33         2\n",
            "          47       1.00      0.50      0.67         2\n",
            "          48       1.00      0.50      0.67         4\n",
            "          49       0.80      1.00      0.89         4\n",
            "\n",
            "    accuracy                           0.67       197\n",
            "   macro avg       0.65      0.61      0.61       197\n",
            "weighted avg       0.69      0.67      0.66       197\n",
            "\n"
          ]
        },
        {
          "output_type": "stream",
          "name": "stderr",
          "text": [
            "/usr/local/lib/python3.7/dist-packages/sklearn/metrics/_classification.py:1318: UndefinedMetricWarning: Precision and F-score are ill-defined and being set to 0.0 in labels with no predicted samples. Use `zero_division` parameter to control this behavior.\n",
            "  _warn_prf(average, modifier, msg_start, len(result))\n",
            "/usr/local/lib/python3.7/dist-packages/sklearn/metrics/_classification.py:1318: UndefinedMetricWarning: Precision and F-score are ill-defined and being set to 0.0 in labels with no predicted samples. Use `zero_division` parameter to control this behavior.\n",
            "  _warn_prf(average, modifier, msg_start, len(result))\n",
            "/usr/local/lib/python3.7/dist-packages/sklearn/metrics/_classification.py:1318: UndefinedMetricWarning: Precision and F-score are ill-defined and being set to 0.0 in labels with no predicted samples. Use `zero_division` parameter to control this behavior.\n",
            "  _warn_prf(average, modifier, msg_start, len(result))\n"
          ]
        }
      ]
    },
    {
      "cell_type": "code",
      "source": [
        "assert list(y_test[0:5]) == [17, 8, 7, 22, 4]\n",
        "thevoting = VotingClassifier(estimators = [\n",
        "('therandomforest', therandomforest), \n",
        "('thelogisticregression', thelogisticregression)], \n",
        "voting = 'soft', n_jobs = -1)\n",
        "print(thevoting.fit(train_x, y_train).score(test_x, y_test),\n",
        "   classification_report(y_test, thevoting.predict(test_x)))"
      ],
      "metadata": {
        "colab": {
          "base_uri": "https://localhost:8080/"
        },
        "id": "4h5WzZOXlTvm",
        "outputId": "1fa5bc43-0467-4b56-dfb2-9e497db5458d"
      },
      "execution_count": 40,
      "outputs": [
        {
          "output_type": "stream",
          "name": "stdout",
          "text": [
            "0.6345177664974619               precision    recall  f1-score   support\n",
            "\n",
            "           0       1.00      0.67      0.80         3\n",
            "           1       1.00      0.75      0.86         8\n",
            "           2       1.00      1.00      1.00         2\n",
            "           3       0.33      0.71      0.45         7\n",
            "           4       0.83      1.00      0.91         5\n",
            "           5       1.00      1.00      1.00         2\n",
            "           6       1.00      1.00      1.00         2\n",
            "           7       0.00      0.00      0.00         2\n",
            "           8       1.00      0.50      0.67         2\n",
            "           9       1.00      0.50      0.67         2\n",
            "          10       0.64      0.90      0.75        10\n",
            "          11       1.00      0.33      0.50         3\n",
            "          12       0.70      0.70      0.70        10\n",
            "          13       0.00      0.00      0.00         3\n",
            "          14       0.50      1.00      0.67         2\n",
            "          15       0.00      0.00      0.00         2\n",
            "          16       1.00      0.50      0.67         2\n",
            "          17       0.25      0.33      0.29         3\n",
            "          18       1.00      0.67      0.80         3\n",
            "          19       0.50      0.67      0.57         3\n",
            "          20       0.50      0.50      0.50         8\n",
            "          21       0.75      0.75      0.75         4\n",
            "          22       0.88      0.88      0.88         8\n",
            "          23       0.00      0.00      0.00         2\n",
            "          24       0.67      0.57      0.62         7\n",
            "          25       1.00      1.00      1.00         2\n",
            "          26       1.00      1.00      1.00         4\n",
            "          27       0.57      0.67      0.62         6\n",
            "          28       0.75      0.75      0.75         4\n",
            "          29       0.00      0.00      0.00         3\n",
            "          30       0.00      0.00      0.00         2\n",
            "          31       0.50      1.00      0.67         2\n",
            "          32       0.50      0.50      0.50         2\n",
            "          33       1.00      0.25      0.40         4\n",
            "          34       0.25      0.50      0.33         2\n",
            "          35       1.00      1.00      1.00         2\n",
            "          36       0.50      0.50      0.50         4\n",
            "          37       0.50      0.33      0.40         3\n",
            "          38       0.33      0.50      0.40         6\n",
            "          39       0.00      0.00      0.00         4\n",
            "          40       0.50      0.33      0.40         6\n",
            "          41       1.00      0.75      0.86         4\n",
            "          42       0.83      1.00      0.91         5\n",
            "          43       1.00      0.90      0.95        10\n",
            "          44       0.67      0.67      0.67         3\n",
            "          45       0.00      0.00      0.00         2\n",
            "          46       1.00      0.50      0.67         2\n",
            "          47       0.50      0.50      0.50         2\n",
            "          48       0.60      0.75      0.67         4\n",
            "          49       0.80      1.00      0.89         4\n",
            "\n",
            "    accuracy                           0.63       197\n",
            "   macro avg       0.63      0.59      0.58       197\n",
            "weighted avg       0.66      0.63      0.62       197\n",
            "\n"
          ]
        },
        {
          "output_type": "stream",
          "name": "stderr",
          "text": [
            "/usr/local/lib/python3.7/dist-packages/sklearn/metrics/_classification.py:1318: UndefinedMetricWarning: Precision and F-score are ill-defined and being set to 0.0 in labels with no predicted samples. Use `zero_division` parameter to control this behavior.\n",
            "  _warn_prf(average, modifier, msg_start, len(result))\n",
            "/usr/local/lib/python3.7/dist-packages/sklearn/metrics/_classification.py:1318: UndefinedMetricWarning: Precision and F-score are ill-defined and being set to 0.0 in labels with no predicted samples. Use `zero_division` parameter to control this behavior.\n",
            "  _warn_prf(average, modifier, msg_start, len(result))\n",
            "/usr/local/lib/python3.7/dist-packages/sklearn/metrics/_classification.py:1318: UndefinedMetricWarning: Precision and F-score are ill-defined and being set to 0.0 in labels with no predicted samples. Use `zero_division` parameter to control this behavior.\n",
            "  _warn_prf(average, modifier, msg_start, len(result))\n"
          ]
        }
      ]
    },
    {
      "cell_type": "code",
      "source": [
        "assert list(y_test[0:5]) == [17, 8, 7, 22, 4]\n",
        "from sklearn.ensemble import AdaBoostClassifier  \n",
        "theadaboost = AdaBoostClassifier(base_estimator = therandomforest)\n",
        "print(theadaboost.fit(train_x, y_train).score(test_x, y_test),\n",
        "      classification_report(y_test, theadaboost.predict(test_x)))"
      ],
      "metadata": {
        "colab": {
          "base_uri": "https://localhost:8080/"
        },
        "id": "mvA0JaiZlTx6",
        "outputId": "d0e3d7b3-c744-424e-ed22-e7e2ddbbaa30"
      },
      "execution_count": 41,
      "outputs": [
        {
          "output_type": "stream",
          "name": "stdout",
          "text": [
            "0.5989847715736041               precision    recall  f1-score   support\n",
            "\n",
            "           0       1.00      0.67      0.80         3\n",
            "           1       0.67      0.75      0.71         8\n",
            "           2       1.00      0.50      0.67         2\n",
            "           3       0.29      0.57      0.38         7\n",
            "           4       0.62      1.00      0.77         5\n",
            "           5       1.00      1.00      1.00         2\n",
            "           6       1.00      1.00      1.00         2\n",
            "           7       0.00      0.00      0.00         2\n",
            "           8       0.50      0.50      0.50         2\n",
            "           9       1.00      0.50      0.67         2\n",
            "          10       0.64      0.90      0.75        10\n",
            "          11       1.00      0.33      0.50         3\n",
            "          12       0.39      0.70      0.50        10\n",
            "          13       0.00      0.00      0.00         3\n",
            "          14       0.67      1.00      0.80         2\n",
            "          15       0.00      0.00      0.00         2\n",
            "          16       1.00      0.50      0.67         2\n",
            "          17       0.00      0.00      0.00         3\n",
            "          18       1.00      0.67      0.80         3\n",
            "          19       1.00      0.67      0.80         3\n",
            "          20       0.45      0.62      0.53         8\n",
            "          21       0.75      0.75      0.75         4\n",
            "          22       0.70      0.88      0.78         8\n",
            "          23       0.00      0.00      0.00         2\n",
            "          24       0.33      0.29      0.31         7\n",
            "          25       1.00      1.00      1.00         2\n",
            "          26       0.80      1.00      0.89         4\n",
            "          27       0.57      0.67      0.62         6\n",
            "          28       1.00      0.75      0.86         4\n",
            "          29       0.00      0.00      0.00         3\n",
            "          30       0.00      0.00      0.00         2\n",
            "          31       1.00      1.00      1.00         2\n",
            "          32       0.50      0.50      0.50         2\n",
            "          33       1.00      0.25      0.40         4\n",
            "          34       0.25      0.50      0.33         2\n",
            "          35       1.00      1.00      1.00         2\n",
            "          36       0.33      0.50      0.40         4\n",
            "          37       0.67      0.67      0.67         3\n",
            "          38       0.50      0.50      0.50         6\n",
            "          39       0.00      0.00      0.00         4\n",
            "          40       0.20      0.17      0.18         6\n",
            "          41       0.75      0.75      0.75         4\n",
            "          42       1.00      1.00      1.00         5\n",
            "          43       0.83      1.00      0.91        10\n",
            "          44       0.50      0.33      0.40         3\n",
            "          45       0.00      0.00      0.00         2\n",
            "          46       0.50      0.50      0.50         2\n",
            "          47       1.00      0.50      0.67         2\n",
            "          48       0.50      0.25      0.33         4\n",
            "          49       0.60      0.75      0.67         4\n",
            "\n",
            "    accuracy                           0.60       197\n",
            "   macro avg       0.59      0.55      0.54       197\n",
            "weighted avg       0.58      0.60      0.57       197\n",
            "\n"
          ]
        },
        {
          "output_type": "stream",
          "name": "stderr",
          "text": [
            "/usr/local/lib/python3.7/dist-packages/sklearn/metrics/_classification.py:1318: UndefinedMetricWarning: Precision and F-score are ill-defined and being set to 0.0 in labels with no predicted samples. Use `zero_division` parameter to control this behavior.\n",
            "  _warn_prf(average, modifier, msg_start, len(result))\n",
            "/usr/local/lib/python3.7/dist-packages/sklearn/metrics/_classification.py:1318: UndefinedMetricWarning: Precision and F-score are ill-defined and being set to 0.0 in labels with no predicted samples. Use `zero_division` parameter to control this behavior.\n",
            "  _warn_prf(average, modifier, msg_start, len(result))\n",
            "/usr/local/lib/python3.7/dist-packages/sklearn/metrics/_classification.py:1318: UndefinedMetricWarning: Precision and F-score are ill-defined and being set to 0.0 in labels with no predicted samples. Use `zero_division` parameter to control this behavior.\n",
            "  _warn_prf(average, modifier, msg_start, len(result))\n"
          ]
        }
      ]
    },
    {
      "cell_type": "code",
      "source": [
        "# References\n",
        "# https://future-chem.com/rdkit-google-colab/#toc5\n",
        "# https://www.rdkit.org/docs/index.html"
      ],
      "metadata": {
        "id": "dmteC1TiiXFE"
      },
      "execution_count": 42,
      "outputs": []
    }
  ],
  "metadata": {
    "accelerator": "GPU",
    "colab": {
      "collapsed_sections": [],
      "machine_shape": "hm",
      "provenance": []
    },
    "kernelspec": {
      "display_name": "Python 3",
      "name": "python3"
    },
    "language_info": {
      "name": "python"
    },
    "gpuClass": "standard"
  },
  "nbformat": 4,
  "nbformat_minor": 0
}