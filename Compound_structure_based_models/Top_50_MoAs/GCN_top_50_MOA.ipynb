{
  "nbformat": 4,
  "nbformat_minor": 0,
  "metadata": {
    "colab": {
      "provenance": [],
      "collapsed_sections": [],
      "machine_shape": "hm"
    },
    "kernelspec": {
      "name": "python3",
      "display_name": "Python 3"
    },
    "language_info": {
      "name": "python"
    },
    "accelerator": "GPU",
    "gpuClass": "standard"
  },
  "cells": [
    {
      "cell_type": "code",
      "execution_count": 1,
      "metadata": {
        "id": "KuS9bOIIt0wM",
        "colab": {
          "base_uri": "https://localhost:8080/"
        },
        "outputId": "fac1160e-3a38-46b1-84f0-62222ccd18a6"
      },
      "outputs": [
        {
          "output_type": "stream",
          "name": "stdout",
          "text": [
            "installation finished.\n",
            "WARNING:\n",
            "    You currently have a PYTHONPATH environment variable set. This may cause\n",
            "    unexpected behavior when running the Python interpreter in Miniconda3.\n",
            "    For best results, please verify that your PYTHONPATH only points to\n",
            "    directories of packages that are compatible with the Python interpreter\n",
            "    in Miniconda3: /usr/local\n",
            "Collecting package metadata (current_repodata.json): ...working... done\n",
            "Solving environment: ...working... done\n",
            "\n",
            "## Package Plan ##\n",
            "\n",
            "  environment location: /usr/local\n",
            "\n",
            "  added / updated specs:\n",
            "    - python=3.7\n",
            "    - rdkit\n",
            "\n",
            "\n",
            "The following packages will be downloaded:\n",
            "\n",
            "    package                    |            build\n",
            "    ---------------------------|-----------------\n",
            "    blas-1.0                   |              mkl           6 KB\n",
            "    bottleneck-1.3.4           |   py37hce1f21e_0         126 KB\n",
            "    brotlipy-0.7.0             |py37h27cfd23_1003         320 KB\n",
            "    bzip2-1.0.8                |       h7b6447c_0          78 KB\n",
            "    ca-certificates-2022.07.19 |       h06a4308_0         124 KB\n",
            "    cairo-1.16.0               |       h19f5f5c_2         1.1 MB\n",
            "    certifi-2022.6.15          |   py37h06a4308_0         153 KB\n",
            "    cffi-1.15.0                |   py37hd667e15_1         222 KB\n",
            "    conda-4.14.0               |   py37h06a4308_0         909 KB\n",
            "    conda-package-handling-1.8.1|   py37h7f8727e_0         889 KB\n",
            "    cryptography-37.0.1        |   py37h9ce1e76_0         1.3 MB\n",
            "    cytoolz-0.11.0             |   py37h7b6447c_0         328 KB\n",
            "    fontconfig-2.13.1          |       h6c09931_0         250 KB\n",
            "    freetype-2.11.0            |       h70c0345_0         618 KB\n",
            "    giflib-5.2.1               |       h7b6447c_0          78 KB\n",
            "    glib-2.69.1                |       h4ff587b_1         1.7 MB\n",
            "    icu-58.2                   |       he6710b0_3        10.5 MB\n",
            "    intel-openmp-2021.4.0      |    h06a4308_3561         4.2 MB\n",
            "    jpeg-9e                    |       h7f8727e_0         240 KB\n",
            "    lcms2-2.12                 |       h3be6417_0         312 KB\n",
            "    libboost-1.73.0            |      h28710b8_12        13.8 MB\n",
            "    libpng-1.6.37              |       hbc83047_0         278 KB\n",
            "    libtiff-4.2.0              |       h2818925_1         452 KB\n",
            "    libuuid-1.0.3              |       h7f8727e_2          17 KB\n",
            "    libwebp-1.2.2              |       h55f646e_0          80 KB\n",
            "    libwebp-base-1.2.2         |       h7f8727e_0         440 KB\n",
            "    libxcb-1.15                |       h7f8727e_0         505 KB\n",
            "    libxml2-2.9.14             |       h74e7548_0         718 KB\n",
            "    lz4-c-1.9.3                |       h295c915_1         185 KB\n",
            "    mkl-2021.4.0               |     h06a4308_640       142.6 MB\n",
            "    mkl-service-2.4.0          |   py37h7f8727e_0          56 KB\n",
            "    mkl_fft-1.3.1              |   py37hd3c417c_0         172 KB\n",
            "    mkl_random-1.2.2           |   py37h51133e4_0         287 KB\n",
            "    numexpr-2.8.1              |   py37h6abb31d_0         123 KB\n",
            "    numpy-1.21.5               |   py37he7a7128_2          10 KB\n",
            "    numpy-base-1.21.5          |   py37hf524024_2         4.8 MB\n",
            "    openssl-1.1.1q             |       h7f8727e_0         2.5 MB\n",
            "    packaging-21.3             |     pyhd3eb1b0_0          36 KB\n",
            "    pandas-1.3.5               |   py37h8c16a72_0         9.3 MB\n",
            "    pcre-8.45                  |       h295c915_0         207 KB\n",
            "    pillow-9.0.1               |   py37h22f2fdc_0         652 KB\n",
            "    pip-22.1.2                 |   py37h06a4308_0         2.4 MB\n",
            "    pixman-0.40.0              |       h7f8727e_1         373 KB\n",
            "    py-boost-1.73.0            |  py37h51133e4_12         195 KB\n",
            "    pycosat-0.6.3              |   py37h27cfd23_0          81 KB\n",
            "    pyparsing-3.0.9            |   py37h06a4308_0         150 KB\n",
            "    pysocks-1.7.1              |           py37_1          27 KB\n",
            "    python-3.7.13              |       h12debd9_0        46.2 MB\n",
            "    python-dateutil-2.8.2      |     pyhd3eb1b0_0         233 KB\n",
            "    pytz-2022.1                |   py37h06a4308_0         196 KB\n",
            "    rdkit-2020.09.1.0          |   py37hd50e099_1        25.8 MB  rdkit\n",
            "    ruamel_yaml-0.15.100       |   py37h27cfd23_0         253 KB\n",
            "    setuptools-63.4.1          |   py37h06a4308_0         1.1 MB\n",
            "    toolz-0.11.2               |     pyhd3eb1b0_0          49 KB\n",
            "    zstd-1.5.2                 |       ha4553b6_0         488 KB\n",
            "    ------------------------------------------------------------\n",
            "                                           Total:       277.9 MB\n",
            "\n",
            "The following NEW packages will be INSTALLED:\n",
            "\n",
            "  blas               pkgs/main/linux-64::blas-1.0-mkl\n",
            "  bottleneck         pkgs/main/linux-64::bottleneck-1.3.4-py37hce1f21e_0\n",
            "  bzip2              pkgs/main/linux-64::bzip2-1.0.8-h7b6447c_0\n",
            "  cairo              pkgs/main/linux-64::cairo-1.16.0-h19f5f5c_2\n",
            "  cytoolz            pkgs/main/linux-64::cytoolz-0.11.0-py37h7b6447c_0\n",
            "  fontconfig         pkgs/main/linux-64::fontconfig-2.13.1-h6c09931_0\n",
            "  freetype           pkgs/main/linux-64::freetype-2.11.0-h70c0345_0\n",
            "  giflib             pkgs/main/linux-64::giflib-5.2.1-h7b6447c_0\n",
            "  glib               pkgs/main/linux-64::glib-2.69.1-h4ff587b_1\n",
            "  icu                pkgs/main/linux-64::icu-58.2-he6710b0_3\n",
            "  intel-openmp       pkgs/main/linux-64::intel-openmp-2021.4.0-h06a4308_3561\n",
            "  jpeg               pkgs/main/linux-64::jpeg-9e-h7f8727e_0\n",
            "  lcms2              pkgs/main/linux-64::lcms2-2.12-h3be6417_0\n",
            "  libboost           pkgs/main/linux-64::libboost-1.73.0-h28710b8_12\n",
            "  libpng             pkgs/main/linux-64::libpng-1.6.37-hbc83047_0\n",
            "  libtiff            pkgs/main/linux-64::libtiff-4.2.0-h2818925_1\n",
            "  libuuid            pkgs/main/linux-64::libuuid-1.0.3-h7f8727e_2\n",
            "  libwebp            pkgs/main/linux-64::libwebp-1.2.2-h55f646e_0\n",
            "  libwebp-base       pkgs/main/linux-64::libwebp-base-1.2.2-h7f8727e_0\n",
            "  libxcb             pkgs/main/linux-64::libxcb-1.15-h7f8727e_0\n",
            "  libxml2            pkgs/main/linux-64::libxml2-2.9.14-h74e7548_0\n",
            "  lz4-c              pkgs/main/linux-64::lz4-c-1.9.3-h295c915_1\n",
            "  mkl                pkgs/main/linux-64::mkl-2021.4.0-h06a4308_640\n",
            "  mkl-service        pkgs/main/linux-64::mkl-service-2.4.0-py37h7f8727e_0\n",
            "  mkl_fft            pkgs/main/linux-64::mkl_fft-1.3.1-py37hd3c417c_0\n",
            "  mkl_random         pkgs/main/linux-64::mkl_random-1.2.2-py37h51133e4_0\n",
            "  numexpr            pkgs/main/linux-64::numexpr-2.8.1-py37h6abb31d_0\n",
            "  numpy              pkgs/main/linux-64::numpy-1.21.5-py37he7a7128_2\n",
            "  numpy-base         pkgs/main/linux-64::numpy-base-1.21.5-py37hf524024_2\n",
            "  packaging          pkgs/main/noarch::packaging-21.3-pyhd3eb1b0_0\n",
            "  pandas             pkgs/main/linux-64::pandas-1.3.5-py37h8c16a72_0\n",
            "  pcre               pkgs/main/linux-64::pcre-8.45-h295c915_0\n",
            "  pillow             pkgs/main/linux-64::pillow-9.0.1-py37h22f2fdc_0\n",
            "  pixman             pkgs/main/linux-64::pixman-0.40.0-h7f8727e_1\n",
            "  py-boost           pkgs/main/linux-64::py-boost-1.73.0-py37h51133e4_12\n",
            "  pyparsing          pkgs/main/linux-64::pyparsing-3.0.9-py37h06a4308_0\n",
            "  python-dateutil    pkgs/main/noarch::python-dateutil-2.8.2-pyhd3eb1b0_0\n",
            "  pytz               pkgs/main/linux-64::pytz-2022.1-py37h06a4308_0\n",
            "  rdkit              rdkit/linux-64::rdkit-2020.09.1.0-py37hd50e099_1\n",
            "  toolz              pkgs/main/noarch::toolz-0.11.2-pyhd3eb1b0_0\n",
            "  zstd               pkgs/main/linux-64::zstd-1.5.2-ha4553b6_0\n",
            "\n",
            "The following packages will be UPDATED:\n",
            "\n",
            "  ca-certificates                      2022.3.29-h06a4308_1 --> 2022.07.19-h06a4308_0\n",
            "  certifi                          2021.10.8-py39h06a4308_2 --> 2022.6.15-py37h06a4308_0\n",
            "  conda                               4.12.0-py39h06a4308_0 --> 4.14.0-py37h06a4308_0\n",
            "  cryptography                        36.0.0-py39h9ce1e76_0 --> 37.0.1-py37h9ce1e76_0\n",
            "  openssl                                 1.1.1n-h7f8727e_0 --> 1.1.1q-h7f8727e_0\n",
            "  pip                                 21.2.4-py39h06a4308_0 --> 22.1.2-py37h06a4308_0\n",
            "  pysocks                              1.7.1-py39h06a4308_0 --> 1.7.1-py37_1\n",
            "  setuptools                          61.2.0-py39h06a4308_0 --> 63.4.1-py37h06a4308_0\n",
            "\n",
            "The following packages will be DOWNGRADED:\n",
            "\n",
            "  brotlipy                          0.7.0-py39h27cfd23_1003 --> 0.7.0-py37h27cfd23_1003\n",
            "  cffi                                1.15.0-py39hd667e15_1 --> 1.15.0-py37hd667e15_1\n",
            "  conda-package-han~                   1.8.1-py39h7f8727e_0 --> 1.8.1-py37h7f8727e_0\n",
            "  pycosat                              0.6.3-py39h27cfd23_0 --> 0.6.3-py37h27cfd23_0\n",
            "  python                                  3.9.12-h12debd9_0 --> 3.7.13-h12debd9_0\n",
            "  ruamel_yaml                       0.15.100-py39h27cfd23_0 --> 0.15.100-py37h27cfd23_0\n",
            "\n",
            "\n",
            "Preparing transaction: ...working... done\n",
            "Verifying transaction: ...working... done\n",
            "Executing transaction: ...working... done\n",
            "['/content',\n",
            " '/env/python',\n",
            " '/usr/lib/python37.zip',\n",
            " '/usr/lib/python3.7',\n",
            " '/usr/lib/python3.7/lib-dynload',\n",
            " '',\n",
            " '/usr/local/lib/python3.7/dist-packages',\n",
            " '/usr/lib/python3/dist-packages',\n",
            " '/usr/local/lib/python3.7/dist-packages/IPython/extensions',\n",
            " '/root/.ipython',\n",
            " '/usr/local/lib/python3.7/site-packages/']\n",
            "['/usr/local/lib/python3.7/site-packages']\n"
          ]
        }
      ],
      "source": [
        "# install rdkit\n",
        "!wget -c https://repo.continuum.io/miniconda/Miniconda3-latest-Linux-x86_64.sh\n",
        "!chmod +x Miniconda3-latest-Linux-x86_64.sh\n",
        "!bash ./Miniconda3-latest-Linux-x86_64.sh -b -f -p /usr/local\n",
        "!conda install -q -y -c rdkit rdkit python=3.7\n",
        "import sys\n",
        "sys.path.append('/usr/local/lib/python3.7/site-packages/')\n",
        "import pprint     \n",
        "pprint.pprint(sys.path)\n",
        "!python -c \"import site; print (site.getsitepackages())\""
      ]
    },
    {
      "cell_type": "code",
      "source": [
        "pip install spektral"
      ],
      "metadata": {
        "id": "PkqKcnZUuN_k",
        "colab": {
          "base_uri": "https://localhost:8080/"
        },
        "outputId": "4bc3c337-78d3-4297-f38b-7d0a32d10e52"
      },
      "execution_count": 2,
      "outputs": [
        {
          "output_type": "stream",
          "name": "stdout",
          "text": [
            "Collecting MarkupSafe>=2.1.1\n",
            "  Downloading MarkupSafe-2.1.1-cp37-cp37m-manylinux_2_17_x86_64.manylinux2014_x86_64.whl (25 kB)\n",
            "Collecting zipp>=0.5\n",
            "  Downloading zipp-3.8.1-py3-none-any.whl (5.6 kB)\n",
            "Collecting pyasn1<0.5.0,>=0.4.6\n",
            "  Downloading pyasn1-0.4.8-py2.py3-none-any.whl (77 kB)\n",
            "\u001b[2K     \u001b[90m━━━━━━━━━━━━━━━━━━━━━━━━━━━━━━━━━━━━━━━━\u001b[0m \u001b[32m77.1/77.1 kB\u001b[0m \u001b[31m9.6 MB/s\u001b[0m eta \u001b[36m0:00:00\u001b[0m\n",
            "\u001b[?25hCollecting oauthlib>=3.0.0\n",
            "  Downloading oauthlib-3.2.0-py3-none-any.whl (151 kB)\n",
            "\u001b[2K     \u001b[90m━━━━━━━━━━━━━━━━━━━━━━━━━━━━━━━━━━━━━━\u001b[0m \u001b[32m151.5/151.5 kB\u001b[0m \u001b[31m17.7 MB/s\u001b[0m eta \u001b[36m0:00:00\u001b[0m\n",
            "\u001b[?25hBuilding wheels for collected packages: termcolor\n",
            "  Building wheel for termcolor (setup.py) ... \u001b[?25l\u001b[?25hdone\n",
            "  Created wheel for termcolor: filename=termcolor-1.1.0-py3-none-any.whl size=4832 sha256=12cf47b5584f260ac525e2e15314eb0bd111faeb4f2f7352194be12f985c9d88\n",
            "  Stored in directory: /root/.cache/pip/wheels/3f/e3/ec/8a8336ff196023622fbcb36de0c5a5c218cbb24111d1d4c7f2\n",
            "Successfully built termcolor\n",
            "Installing collected packages: termcolor, tensorboard-plugin-wit, pyasn1, libclang, keras, flatbuffers, zipp, wrapt, typing-extensions, threadpoolctl, tensorflow-io-gcs-filesystem, tensorflow-estimator, tensorboard-data-server, scipy, rsa, pyasn1-modules, protobuf, opt-einsum, oauthlib, networkx, MarkupSafe, lxml, keras-preprocessing, joblib, h5py, grpcio, google-pasta, gast, cachetools, astunparse, absl-py, werkzeug, scikit-learn, requests-oauthlib, importlib-metadata, google-auth, markdown, google-auth-oauthlib, tensorboard, tensorflow, spektral\n",
            "Successfully installed MarkupSafe-2.1.1 absl-py-1.2.0 astunparse-1.6.3 cachetools-5.2.0 flatbuffers-1.12 gast-0.4.0 google-auth-2.11.0 google-auth-oauthlib-0.4.6 google-pasta-0.2.0 grpcio-1.47.0 h5py-3.7.0 importlib-metadata-4.12.0 joblib-1.1.0 keras-2.9.0 keras-preprocessing-1.1.2 libclang-14.0.6 lxml-4.9.1 markdown-3.4.1 networkx-2.6.3 oauthlib-3.2.0 opt-einsum-3.3.0 protobuf-3.19.4 pyasn1-0.4.8 pyasn1-modules-0.2.8 requests-oauthlib-1.3.1 rsa-4.9 scikit-learn-1.0.2 scipy-1.7.3 spektral-1.2.0 tensorboard-2.9.1 tensorboard-data-server-0.6.1 tensorboard-plugin-wit-1.8.1 tensorflow-2.9.1 tensorflow-estimator-2.9.0 tensorflow-io-gcs-filesystem-0.26.0 termcolor-1.1.0 threadpoolctl-3.1.0 typing-extensions-4.3.0 werkzeug-2.2.2 wrapt-1.14.1 zipp-3.8.1\n",
            "\u001b[33mWARNING: Running pip as the 'root' user can result in broken permissions and conflicting behaviour with the system package manager. It is recommended to use a virtual environment instead: https://pip.pypa.io/warnings/venv\u001b[0m\u001b[33m\n",
            "\u001b[0m"
          ]
        }
      ]
    },
    {
      "cell_type": "code",
      "source": [
        "# import useful packages and functions\n",
        "from spektral_package import *"
      ],
      "metadata": {
        "id": "UgpQOzx3uOCG"
      },
      "execution_count": 3,
      "outputs": []
    },
    {
      "cell_type": "code",
      "source": [
        "import networkx as nx\n",
        "import numpy as np\n",
        "from scipy import sparse as sp\n",
        "\n",
        "try:\n",
        "    from rdkit import Chem as rdc\n",
        "    from rdkit.Chem import Draw\n",
        "    from rdkit import rdBase as rdb\n",
        "\n",
        "    rdb.DisableLog('rdApp.error')  # RDKit logging is disabled by default\n",
        "    Draw.DrawingOptions.dblBondOffset = .1\n",
        "    BOND_MAP = {0: rdc.rdchem.BondType.ZERO,\n",
        "                1: rdc.rdchem.BondType.SINGLE,\n",
        "                2: rdc.rdchem.BondType.DOUBLE,\n",
        "                3: rdc.rdchem.BondType.TRIPLE,\n",
        "                4: rdc.rdchem.BondType.AROMATIC}\n",
        "except ImportError:\n",
        "    rdc = None\n",
        "    rdb = None\n",
        "\n",
        "NUM_TO_SYMBOL = {1: 'H', 2: 'He', 3: 'Li', 4: 'Be', 5: 'B', 6: 'C', 7: 'N',\n",
        "                 8: 'O', 9: 'F', 10: 'Ne', 11: 'Na', 12: 'Mg', 13: 'Al',\n",
        "                 14: 'Si', 15: 'P', 16: 'S', 17: 'Cl', 18: 'Ar', 19: 'K',\n",
        "                 20: 'Ca', 21: 'Sc', 22: 'Ti', 23: 'V', 24: 'Cr', 25: 'Mn',\n",
        "                 26: 'Fe', 27: 'Co', 28: 'Ni', 29: 'Cu', 30: 'Zn', 31: 'Ga',\n",
        "                 32: 'Ge', 33: 'As', 34: 'Se', 35: 'Br', 36: 'Kr', 37: 'Rb',\n",
        "                 38: 'Sr', 39: 'Y', 40: 'Zr', 41: 'Nb', 42: 'Mo', 43: 'Tc',\n",
        "                 44: 'Ru', 45: 'Rh', 46: 'Pd', 47: 'Ag', 48: 'Cd', 49: 'In',\n",
        "                 50: 'Sn', 51: 'Sb', 52: 'Te', 53: 'I', 54: 'Xe', 55: 'Cs',\n",
        "                 56: 'Ba', 57: 'La', 58: 'Ce', 59: 'Pr', 60: 'Nd', 61: 'Pm',\n",
        "                 62: 'Sm', 63: 'Eu', 64: 'Gd', 65: 'Tb', 66: 'Dy', 67: 'Ho',\n",
        "                 68: 'Er', 69: 'Tm', 70: 'Yb', 71: 'Lu', 72: 'Hf', 73: 'Ta',\n",
        "                 74: 'W', 75: 'Re', 76: 'Os', 77: 'Ir', 78: 'Pt', 79: 'Au',\n",
        "                 80: 'Hg', 81: 'Tl', 82: 'Pb', 83: 'Bi', 84: 'Po', 85: 'At',\n",
        "                 86: 'Rn', 87: 'Fr', 88: 'Ra', 89: 'Ac', 90: 'Th', 91: 'Pa',\n",
        "                 92: 'U', 93: 'Np', 94: 'Pu', 95: 'Am', 96: 'Cm', 97: 'Bk',\n",
        "                 98: 'Cf', 99: 'Es', 100: 'Fm', 101: 'Md', 102: 'No', 103: 'Lr',\n",
        "                 104: 'Rf', 105: 'Db', 106: 'Sg', 107: 'Bh', 108: 'Hs',\n",
        "                 109: 'Mt', 110: 'Ds', 111: 'Rg', 112: 'Cn', 113: 'Nh',\n",
        "                 114: 'Fl', 115: 'Mc', 116: 'Lv', 117: 'Ts', 118: 'Og'}\n",
        "SYMBOL_TO_NUM = {v: k for k, v in NUM_TO_SYMBOL.items()}\n",
        "\n",
        "\n",
        "def numpy_to_rdkit(adj, nf, ef, sanitize=False):\n",
        "    \"\"\"\n",
        "    Converts a molecule from numpy to RDKit format.\n",
        "    :param adj: binary numpy array of shape (N, N)\n",
        "    :param nf: numpy array of shape (N, F)\n",
        "    :param ef: numpy array of shape (N, N, S)\n",
        "    :param sanitize: whether to sanitize the molecule after conversion\n",
        "    :return: an RDKit molecule\n",
        "    \"\"\"\n",
        "    if rdc is None:\n",
        "        raise ImportError('`numpy_to_rdkit` requires RDKit.')\n",
        "    mol = rdc.RWMol()\n",
        "    for nf_ in nf:\n",
        "        atomic_num = int(nf_)\n",
        "        if atomic_num > 0:\n",
        "            mol.AddAtom(rdc.Atom(atomic_num))\n",
        "\n",
        "    for i, j in zip(*np.triu_indices(adj.shape[-1])):\n",
        "        if i != j and adj[i, j] == adj[j, i] == 1 and not mol.GetBondBetweenAtoms(int(i), int(j)):\n",
        "            bond_type_1 = BOND_MAP[int(ef[i, j, 0])]\n",
        "            bond_type_2 = BOND_MAP[int(ef[j, i, 0])]\n",
        "            if bond_type_1 == bond_type_2:\n",
        "                mol.AddBond(int(i), int(j), bond_type_1)\n",
        "\n",
        "    mol = mol.GetMol()\n",
        "    if sanitize:\n",
        "        rdc.SanitizeMol(mol)\n",
        "    return mol\n",
        "\n",
        "\n",
        "def numpy_to_smiles(adj, nf, ef):\n",
        "    \"\"\"\n",
        "    Converts a molecule from numpy to SMILES format.\n",
        "    :param adj: binary numpy array of shape (N, N)\n",
        "    :param nf: numpy array of shape (N, F)\n",
        "    :param ef: numpy array of shape (N, N, S)\n",
        "    :return: the SMILES string of the molecule\n",
        "    \"\"\"\n",
        "    if rdc is None:\n",
        "        raise ImportError('`numpy_to_smiles` requires RDkit.')\n",
        "    mol = numpy_to_rdkit(adj, nf, ef)\n",
        "    return rdkit_to_smiles(mol)\n",
        "\n",
        "\n",
        "def rdkit_to_smiles(mol):\n",
        "    \"\"\"\n",
        "    Returns the SMILES string representing an RDKit molecule.\n",
        "    :param mol: an RDKit molecule\n",
        "    :return: the SMILES string of the molecule\n",
        "    \"\"\"\n",
        "    if rdc is None:\n",
        "        raise ImportError('`rdkit_to_smiles` requires RDkit.')\n",
        "    return rdc.MolToSmiles(mol)\n",
        "\n",
        "\n",
        "def sdf_to_nx(sdf, keep_hydrogen=False):\n",
        "    \"\"\"\n",
        "    Converts molecules in SDF format to networkx Graphs.\n",
        "    :param sdf: a list of molecules (or individual molecule) in SDF format.\n",
        "    :param keep_hydrogen: whether to include hydrogen in the representation.\n",
        "    :return: list of nx.Graphs.\n",
        "    \"\"\"\n",
        "    if not isinstance(sdf, list):\n",
        "        sdf = [sdf]\n",
        "\n",
        "    output = []\n",
        "    for sdf_ in sdf:\n",
        "        g = nx.Graph()\n",
        "\n",
        "        for atom in sdf_['atoms']:\n",
        "            if atom['atomic_num'] > 1 or keep_hydrogen:\n",
        "                g.add_node(atom['index'], **atom)\n",
        "        for bond in sdf_['bonds']:\n",
        "            start_atom_num = sdf_['atoms'][bond['start_atom']]['atomic_num']\n",
        "            end_atom_num = sdf_['atoms'][bond['end_atom']]['atomic_num']\n",
        "            if (start_atom_num > 1 and end_atom_num > 1) or keep_hydrogen:\n",
        "                g.add_edge(bond['start_atom'], bond['end_atom'], **bond)\n",
        "        output.append(g)\n",
        "\n",
        "    if len(output) == 1:\n",
        "        return output[0]\n",
        "    else:\n",
        "        return output\n",
        "\n",
        "\n",
        "def nx_to_sdf(graphs):\n",
        "    \"\"\"\n",
        "    Converts a list of nx.Graphs to the internal SDF format.\n",
        "    :param graphs: list of nx.Graphs.\n",
        "    :return: list of molecules in the internal SDF format.\n",
        "    \"\"\"\n",
        "    if isinstance(graphs, nx.Graph):\n",
        "        graphs = [graphs]\n",
        "    output = []\n",
        "    for g in graphs:\n",
        "        sdf = {'atoms': [v for k, v in g.nodes.items()],\n",
        "               'bonds': [v for k, v in g.edges.items()],\n",
        "               'comment': '',\n",
        "               'data': [''],\n",
        "               'details': '',\n",
        "               'n_atoms': -1,\n",
        "               'n_bonds': -1,\n",
        "               'name': '',\n",
        "               'properties': []}\n",
        "        output.append(sdf)\n",
        "    return output\n",
        "\n",
        "\n",
        "def validate_rdkit_mol(mol):\n",
        "    \"\"\"\n",
        "    Sanitizes an RDKit molecules and returns True if the molecule is chemically\n",
        "    valid.\n",
        "    :param mol: an RDKit molecule\n",
        "    :return: True if the molecule is chemically valid, False otherwise\n",
        "    \"\"\"\n",
        "    if rdc is None:\n",
        "        raise ImportError('`validate_rdkit_mol` requires RDkit.')\n",
        "    if len(rdc.GetMolFrags(mol)) > 1:\n",
        "        return False\n",
        "    try:\n",
        "        rdc.SanitizeMol(mol)\n",
        "        return True\n",
        "    except ValueError:\n",
        "        return False\n",
        "\n",
        "\n",
        "def validate_rdkit(mol):\n",
        "    \"\"\"\n",
        "    Validates RDKit molecules (single or in a list).\n",
        "    :param mol: an RDKit molecule or list/np.array thereof\n",
        "    :return: boolean array, True if the molecules are chemically valid, False\n",
        "    otherwise\n",
        "    \"\"\"\n",
        "    if rdc is None:\n",
        "        raise ImportError('`validate_rdkit` requires RDkit.')\n",
        "    if isinstance(mol, list) or isinstance(mol, np.ndarray):\n",
        "        return np.array([validate_rdkit_mol(m) for m in mol])\n",
        "    else:\n",
        "        return validate_rdkit_mol(mol)"
      ],
      "metadata": {
        "id": "2GOAjYXpuWMT"
      },
      "execution_count": 4,
      "outputs": []
    },
    {
      "cell_type": "code",
      "source": [
        "import tensorflow as tf\n",
        "print(\"Num GPUs Available: \", len(tf.config.experimental.list_physical_devices('GPU')))"
      ],
      "metadata": {
        "colab": {
          "base_uri": "https://localhost:8080/"
        },
        "id": "Xw6ZFhO4uWOy",
        "outputId": "e948ef4e-3c42-4d0c-d0b4-de77fae148fe"
      },
      "execution_count": 5,
      "outputs": [
        {
          "output_type": "stream",
          "name": "stdout",
          "text": [
            "Num GPUs Available:  1\n"
          ]
        }
      ]
    },
    {
      "cell_type": "code",
      "source": [
        "import pandas as pd\n",
        "df = pd.read_csv('top_50_MOAs.txt', sep = '\\t')\n",
        "df"
      ],
      "metadata": {
        "colab": {
          "base_uri": "https://localhost:8080/",
          "height": 424
        },
        "id": "OwLZTMKOuWRF",
        "outputId": "5daa0712-a981-4a65-bc5e-990e1f26539a"
      },
      "execution_count": 6,
      "outputs": [
        {
          "output_type": "execute_result",
          "data": {
            "text/plain": [
              "                                                 SMILES  \\\n",
              "0                       Oc1ccc(CCNCC2CCc3ccccc3C2=O)cc1   \n",
              "1                  OC(CNCCNC(=O)Nc1ccccc1)COc1ccccc1C#N   \n",
              "2           O=C1Nc2ccccc2C2=NC(CN3CCN(CC3)c3ccccc3)CN12   \n",
              "3            O=C(NC1CCN(CCc2c[nH]c3ccccc23)CC1)c1ccccc1   \n",
              "4     O[C@H](CNC[C@@H](O)[C@@H]1CCc2cc(F)ccc2O1)[C@H...   \n",
              "...                                                 ...   \n",
              "1958                   Cn1c2ncn(CC(O)=O)c2c(=O)n(C)c1=O   \n",
              "1959  CCNC(=O)[C@H]1O[C@H]([C@H](O)[C@@H]1O)n1cnc2c(...   \n",
              "1960  CCNC(=O)[C@H]1O[C@H]([C@@H](O)[C@@H]1O)n1cnc2c...   \n",
              "1961              Cc1sc(N)c(C(=O)c2cccc(c2)C(F)(F)F)c1C   \n",
              "1962  C[C@@]1(O)[C@H](O)[C@@H](CO)O[C@H]1n1cnc2c(NC3...   \n",
              "\n",
              "                                 MOA  \n",
              "0     adrenergic receptor antagonist  \n",
              "1     adrenergic receptor antagonist  \n",
              "2     adrenergic receptor antagonist  \n",
              "3     adrenergic receptor antagonist  \n",
              "4     adrenergic receptor antagonist  \n",
              "...                              ...  \n",
              "1958      adenosine receptor agonist  \n",
              "1959      adenosine receptor agonist  \n",
              "1960      adenosine receptor agonist  \n",
              "1961      adenosine receptor agonist  \n",
              "1962      adenosine receptor agonist  \n",
              "\n",
              "[1963 rows x 2 columns]"
            ],
            "text/html": [
              "\n",
              "  <div id=\"df-3581d673-8c06-48c2-a2d8-78338d643b26\">\n",
              "    <div class=\"colab-df-container\">\n",
              "      <div>\n",
              "<style scoped>\n",
              "    .dataframe tbody tr th:only-of-type {\n",
              "        vertical-align: middle;\n",
              "    }\n",
              "\n",
              "    .dataframe tbody tr th {\n",
              "        vertical-align: top;\n",
              "    }\n",
              "\n",
              "    .dataframe thead th {\n",
              "        text-align: right;\n",
              "    }\n",
              "</style>\n",
              "<table border=\"1\" class=\"dataframe\">\n",
              "  <thead>\n",
              "    <tr style=\"text-align: right;\">\n",
              "      <th></th>\n",
              "      <th>SMILES</th>\n",
              "      <th>MOA</th>\n",
              "    </tr>\n",
              "  </thead>\n",
              "  <tbody>\n",
              "    <tr>\n",
              "      <th>0</th>\n",
              "      <td>Oc1ccc(CCNCC2CCc3ccccc3C2=O)cc1</td>\n",
              "      <td>adrenergic receptor antagonist</td>\n",
              "    </tr>\n",
              "    <tr>\n",
              "      <th>1</th>\n",
              "      <td>OC(CNCCNC(=O)Nc1ccccc1)COc1ccccc1C#N</td>\n",
              "      <td>adrenergic receptor antagonist</td>\n",
              "    </tr>\n",
              "    <tr>\n",
              "      <th>2</th>\n",
              "      <td>O=C1Nc2ccccc2C2=NC(CN3CCN(CC3)c3ccccc3)CN12</td>\n",
              "      <td>adrenergic receptor antagonist</td>\n",
              "    </tr>\n",
              "    <tr>\n",
              "      <th>3</th>\n",
              "      <td>O=C(NC1CCN(CCc2c[nH]c3ccccc23)CC1)c1ccccc1</td>\n",
              "      <td>adrenergic receptor antagonist</td>\n",
              "    </tr>\n",
              "    <tr>\n",
              "      <th>4</th>\n",
              "      <td>O[C@H](CNC[C@@H](O)[C@@H]1CCc2cc(F)ccc2O1)[C@H...</td>\n",
              "      <td>adrenergic receptor antagonist</td>\n",
              "    </tr>\n",
              "    <tr>\n",
              "      <th>...</th>\n",
              "      <td>...</td>\n",
              "      <td>...</td>\n",
              "    </tr>\n",
              "    <tr>\n",
              "      <th>1958</th>\n",
              "      <td>Cn1c2ncn(CC(O)=O)c2c(=O)n(C)c1=O</td>\n",
              "      <td>adenosine receptor agonist</td>\n",
              "    </tr>\n",
              "    <tr>\n",
              "      <th>1959</th>\n",
              "      <td>CCNC(=O)[C@H]1O[C@H]([C@H](O)[C@@H]1O)n1cnc2c(...</td>\n",
              "      <td>adenosine receptor agonist</td>\n",
              "    </tr>\n",
              "    <tr>\n",
              "      <th>1960</th>\n",
              "      <td>CCNC(=O)[C@H]1O[C@H]([C@@H](O)[C@@H]1O)n1cnc2c...</td>\n",
              "      <td>adenosine receptor agonist</td>\n",
              "    </tr>\n",
              "    <tr>\n",
              "      <th>1961</th>\n",
              "      <td>Cc1sc(N)c(C(=O)c2cccc(c2)C(F)(F)F)c1C</td>\n",
              "      <td>adenosine receptor agonist</td>\n",
              "    </tr>\n",
              "    <tr>\n",
              "      <th>1962</th>\n",
              "      <td>C[C@@]1(O)[C@H](O)[C@@H](CO)O[C@H]1n1cnc2c(NC3...</td>\n",
              "      <td>adenosine receptor agonist</td>\n",
              "    </tr>\n",
              "  </tbody>\n",
              "</table>\n",
              "<p>1963 rows × 2 columns</p>\n",
              "</div>\n",
              "      <button class=\"colab-df-convert\" onclick=\"convertToInteractive('df-3581d673-8c06-48c2-a2d8-78338d643b26')\"\n",
              "              title=\"Convert this dataframe to an interactive table.\"\n",
              "              style=\"display:none;\">\n",
              "        \n",
              "  <svg xmlns=\"http://www.w3.org/2000/svg\" height=\"24px\"viewBox=\"0 0 24 24\"\n",
              "       width=\"24px\">\n",
              "    <path d=\"M0 0h24v24H0V0z\" fill=\"none\"/>\n",
              "    <path d=\"M18.56 5.44l.94 2.06.94-2.06 2.06-.94-2.06-.94-.94-2.06-.94 2.06-2.06.94zm-11 1L8.5 8.5l.94-2.06 2.06-.94-2.06-.94L8.5 2.5l-.94 2.06-2.06.94zm10 10l.94 2.06.94-2.06 2.06-.94-2.06-.94-.94-2.06-.94 2.06-2.06.94z\"/><path d=\"M17.41 7.96l-1.37-1.37c-.4-.4-.92-.59-1.43-.59-.52 0-1.04.2-1.43.59L10.3 9.45l-7.72 7.72c-.78.78-.78 2.05 0 2.83L4 21.41c.39.39.9.59 1.41.59.51 0 1.02-.2 1.41-.59l7.78-7.78 2.81-2.81c.8-.78.8-2.07 0-2.86zM5.41 20L4 18.59l7.72-7.72 1.47 1.35L5.41 20z\"/>\n",
              "  </svg>\n",
              "      </button>\n",
              "      \n",
              "  <style>\n",
              "    .colab-df-container {\n",
              "      display:flex;\n",
              "      flex-wrap:wrap;\n",
              "      gap: 12px;\n",
              "    }\n",
              "\n",
              "    .colab-df-convert {\n",
              "      background-color: #E8F0FE;\n",
              "      border: none;\n",
              "      border-radius: 50%;\n",
              "      cursor: pointer;\n",
              "      display: none;\n",
              "      fill: #1967D2;\n",
              "      height: 32px;\n",
              "      padding: 0 0 0 0;\n",
              "      width: 32px;\n",
              "    }\n",
              "\n",
              "    .colab-df-convert:hover {\n",
              "      background-color: #E2EBFA;\n",
              "      box-shadow: 0px 1px 2px rgba(60, 64, 67, 0.3), 0px 1px 3px 1px rgba(60, 64, 67, 0.15);\n",
              "      fill: #174EA6;\n",
              "    }\n",
              "\n",
              "    [theme=dark] .colab-df-convert {\n",
              "      background-color: #3B4455;\n",
              "      fill: #D2E3FC;\n",
              "    }\n",
              "\n",
              "    [theme=dark] .colab-df-convert:hover {\n",
              "      background-color: #434B5C;\n",
              "      box-shadow: 0px 1px 3px 1px rgba(0, 0, 0, 0.15);\n",
              "      filter: drop-shadow(0px 1px 2px rgba(0, 0, 0, 0.3));\n",
              "      fill: #FFFFFF;\n",
              "    }\n",
              "  </style>\n",
              "\n",
              "      <script>\n",
              "        const buttonEl =\n",
              "          document.querySelector('#df-3581d673-8c06-48c2-a2d8-78338d643b26 button.colab-df-convert');\n",
              "        buttonEl.style.display =\n",
              "          google.colab.kernel.accessAllowed ? 'block' : 'none';\n",
              "\n",
              "        async function convertToInteractive(key) {\n",
              "          const element = document.querySelector('#df-3581d673-8c06-48c2-a2d8-78338d643b26');\n",
              "          const dataTable =\n",
              "            await google.colab.kernel.invokeFunction('convertToInteractive',\n",
              "                                                     [key], {});\n",
              "          if (!dataTable) return;\n",
              "\n",
              "          const docLinkHtml = 'Like what you see? Visit the ' +\n",
              "            '<a target=\"_blank\" href=https://colab.research.google.com/notebooks/data_table.ipynb>data table notebook</a>'\n",
              "            + ' to learn more about interactive tables.';\n",
              "          element.innerHTML = '';\n",
              "          dataTable['output_type'] = 'display_data';\n",
              "          await google.colab.output.renderOutput(dataTable, element);\n",
              "          const docLink = document.createElement('div');\n",
              "          docLink.innerHTML = docLinkHtml;\n",
              "          element.appendChild(docLink);\n",
              "        }\n",
              "      </script>\n",
              "    </div>\n",
              "  </div>\n",
              "  "
            ]
          },
          "metadata": {},
          "execution_count": 6
        }
      ]
    },
    {
      "cell_type": "code",
      "source": [
        "# check the duplicates \n",
        "for i in df.SMILES.tolist():\n",
        "  if df.SMILES.tolist().count(i) != 1:\n",
        "    print(i)"
      ],
      "metadata": {
        "id": "XHL_2VQXuWTU"
      },
      "execution_count": null,
      "outputs": []
    },
    {
      "cell_type": "code",
      "source": [
        "MOA_class_dictionary = {'ATPase inhibitor': 45,\n",
        " 'Aurora kinase inhibitor': 7,\n",
        " 'CC chemokine receptor antagonist': 13,\n",
        " 'CDK inhibitor': 37,\n",
        " 'DNA synthesis inhibitor': 29,\n",
        " 'EGFR inhibitor': 41,\n",
        " 'HCV inhibitor': 25,\n",
        " 'HDAC inhibitor': 26,\n",
        " 'HSP inhibitor': 23,\n",
        " 'JAK inhibitor': 32,\n",
        " 'MEK inhibitor': 5,\n",
        " 'PARP inhibitor': 16,\n",
        " 'PI3K inhibitor': 49,\n",
        " 'PPAR receptor agonist': 9,\n",
        " 'acetylcholine receptor agonist': 36,\n",
        " 'acetylcholine receptor antagonist': 1,\n",
        " 'acetylcholinesterase inhibitor': 46,\n",
        " 'adenosine receptor agonist': 8,\n",
        " 'adenosine receptor antagonist': 44,\n",
        " 'adrenergic receptor agonist': 22,\n",
        " 'adrenergic receptor antagonist': 10,\n",
        " 'angiotensin converting enzyme inhibitor': 6,\n",
        " 'antioxidant': 47,\n",
        " 'bacterial 30S ribosomal subunit inhibitor': 14,\n",
        " 'bacterial DNA gyrase inhibitor': 18,\n",
        " 'bacterial cell wall synthesis inhibitor': 43,\n",
        " 'benzodiazepine receptor agonist': 33,\n",
        " 'bromodomain inhibitor': 2,\n",
        " 'calcium channel blocker': 42,\n",
        " 'cyclooxygenase inhibitor': 12,\n",
        " 'cytochrome P450 inhibitor': 30,\n",
        " 'dopamine receptor agonist': 48,\n",
        " 'dopamine receptor antagonist': 27,\n",
        " 'estrogen receptor agonist': 35,\n",
        " 'glucocorticoid receptor agonist': 4,\n",
        " 'glutamate receptor agonist': 19,\n",
        " 'glutamate receptor antagonist': 20,\n",
        " 'histamine receptor antagonist': 24,\n",
        " 'histone lysine methyltransferase inhibitor': 11,\n",
        " 'local anesthetic': 34,\n",
        " 'monoamine oxidase inhibitor': 17,\n",
        " 'opioid receptor agonist': 31,\n",
        " 'phosphodiesterase inhibitor': 40,\n",
        " 'potassium channel blocker': 15,\n",
        " 'protein synthesis inhibitor': 28,\n",
        " 'serotonin receptor agonist': 38,\n",
        " 'serotonin receptor antagonist': 3,\n",
        " 'sodium channel blocker': 39,\n",
        " 'topoisomerase inhibitor': 21,\n",
        " 'tubulin polymerization inhibitor': 0}"
      ],
      "metadata": {
        "id": "IxvbTL5OuWVj"
      },
      "execution_count": 7,
      "outputs": []
    },
    {
      "cell_type": "code",
      "source": [
        "sorted_classes = list(MOA_class_dictionary.values())\n",
        "sorted_classes.sort() \n",
        "assert sorted_classes == [i for i in range(50)]"
      ],
      "metadata": {
        "id": "gSmQqjs4uWYE"
      },
      "execution_count": 9,
      "outputs": []
    },
    {
      "cell_type": "code",
      "source": [
        "# add classes column \n",
        "df['classes'] = None\n",
        "for i in range(df.shape[0]):\n",
        "  df.iloc[i,2] = MOA_class_dictionary[df.iloc[i,1]]\n",
        "df"
      ],
      "metadata": {
        "colab": {
          "base_uri": "https://localhost:8080/",
          "height": 424
        },
        "id": "unsiBP5LyM5d",
        "outputId": "674d9730-6b16-4cbb-b0fe-2e60de3e5c09"
      },
      "execution_count": 10,
      "outputs": [
        {
          "output_type": "execute_result",
          "data": {
            "text/plain": [
              "                                                 SMILES  \\\n",
              "0                       Oc1ccc(CCNCC2CCc3ccccc3C2=O)cc1   \n",
              "1                  OC(CNCCNC(=O)Nc1ccccc1)COc1ccccc1C#N   \n",
              "2           O=C1Nc2ccccc2C2=NC(CN3CCN(CC3)c3ccccc3)CN12   \n",
              "3            O=C(NC1CCN(CCc2c[nH]c3ccccc23)CC1)c1ccccc1   \n",
              "4     O[C@H](CNC[C@@H](O)[C@@H]1CCc2cc(F)ccc2O1)[C@H...   \n",
              "...                                                 ...   \n",
              "1958                   Cn1c2ncn(CC(O)=O)c2c(=O)n(C)c1=O   \n",
              "1959  CCNC(=O)[C@H]1O[C@H]([C@H](O)[C@@H]1O)n1cnc2c(...   \n",
              "1960  CCNC(=O)[C@H]1O[C@H]([C@@H](O)[C@@H]1O)n1cnc2c...   \n",
              "1961              Cc1sc(N)c(C(=O)c2cccc(c2)C(F)(F)F)c1C   \n",
              "1962  C[C@@]1(O)[C@H](O)[C@@H](CO)O[C@H]1n1cnc2c(NC3...   \n",
              "\n",
              "                                 MOA classes  \n",
              "0     adrenergic receptor antagonist      10  \n",
              "1     adrenergic receptor antagonist      10  \n",
              "2     adrenergic receptor antagonist      10  \n",
              "3     adrenergic receptor antagonist      10  \n",
              "4     adrenergic receptor antagonist      10  \n",
              "...                              ...     ...  \n",
              "1958      adenosine receptor agonist       8  \n",
              "1959      adenosine receptor agonist       8  \n",
              "1960      adenosine receptor agonist       8  \n",
              "1961      adenosine receptor agonist       8  \n",
              "1962      adenosine receptor agonist       8  \n",
              "\n",
              "[1963 rows x 3 columns]"
            ],
            "text/html": [
              "\n",
              "  <div id=\"df-01f414e6-9728-4bf4-a5e9-30611738d838\">\n",
              "    <div class=\"colab-df-container\">\n",
              "      <div>\n",
              "<style scoped>\n",
              "    .dataframe tbody tr th:only-of-type {\n",
              "        vertical-align: middle;\n",
              "    }\n",
              "\n",
              "    .dataframe tbody tr th {\n",
              "        vertical-align: top;\n",
              "    }\n",
              "\n",
              "    .dataframe thead th {\n",
              "        text-align: right;\n",
              "    }\n",
              "</style>\n",
              "<table border=\"1\" class=\"dataframe\">\n",
              "  <thead>\n",
              "    <tr style=\"text-align: right;\">\n",
              "      <th></th>\n",
              "      <th>SMILES</th>\n",
              "      <th>MOA</th>\n",
              "      <th>classes</th>\n",
              "    </tr>\n",
              "  </thead>\n",
              "  <tbody>\n",
              "    <tr>\n",
              "      <th>0</th>\n",
              "      <td>Oc1ccc(CCNCC2CCc3ccccc3C2=O)cc1</td>\n",
              "      <td>adrenergic receptor antagonist</td>\n",
              "      <td>10</td>\n",
              "    </tr>\n",
              "    <tr>\n",
              "      <th>1</th>\n",
              "      <td>OC(CNCCNC(=O)Nc1ccccc1)COc1ccccc1C#N</td>\n",
              "      <td>adrenergic receptor antagonist</td>\n",
              "      <td>10</td>\n",
              "    </tr>\n",
              "    <tr>\n",
              "      <th>2</th>\n",
              "      <td>O=C1Nc2ccccc2C2=NC(CN3CCN(CC3)c3ccccc3)CN12</td>\n",
              "      <td>adrenergic receptor antagonist</td>\n",
              "      <td>10</td>\n",
              "    </tr>\n",
              "    <tr>\n",
              "      <th>3</th>\n",
              "      <td>O=C(NC1CCN(CCc2c[nH]c3ccccc23)CC1)c1ccccc1</td>\n",
              "      <td>adrenergic receptor antagonist</td>\n",
              "      <td>10</td>\n",
              "    </tr>\n",
              "    <tr>\n",
              "      <th>4</th>\n",
              "      <td>O[C@H](CNC[C@@H](O)[C@@H]1CCc2cc(F)ccc2O1)[C@H...</td>\n",
              "      <td>adrenergic receptor antagonist</td>\n",
              "      <td>10</td>\n",
              "    </tr>\n",
              "    <tr>\n",
              "      <th>...</th>\n",
              "      <td>...</td>\n",
              "      <td>...</td>\n",
              "      <td>...</td>\n",
              "    </tr>\n",
              "    <tr>\n",
              "      <th>1958</th>\n",
              "      <td>Cn1c2ncn(CC(O)=O)c2c(=O)n(C)c1=O</td>\n",
              "      <td>adenosine receptor agonist</td>\n",
              "      <td>8</td>\n",
              "    </tr>\n",
              "    <tr>\n",
              "      <th>1959</th>\n",
              "      <td>CCNC(=O)[C@H]1O[C@H]([C@H](O)[C@@H]1O)n1cnc2c(...</td>\n",
              "      <td>adenosine receptor agonist</td>\n",
              "      <td>8</td>\n",
              "    </tr>\n",
              "    <tr>\n",
              "      <th>1960</th>\n",
              "      <td>CCNC(=O)[C@H]1O[C@H]([C@@H](O)[C@@H]1O)n1cnc2c...</td>\n",
              "      <td>adenosine receptor agonist</td>\n",
              "      <td>8</td>\n",
              "    </tr>\n",
              "    <tr>\n",
              "      <th>1961</th>\n",
              "      <td>Cc1sc(N)c(C(=O)c2cccc(c2)C(F)(F)F)c1C</td>\n",
              "      <td>adenosine receptor agonist</td>\n",
              "      <td>8</td>\n",
              "    </tr>\n",
              "    <tr>\n",
              "      <th>1962</th>\n",
              "      <td>C[C@@]1(O)[C@H](O)[C@@H](CO)O[C@H]1n1cnc2c(NC3...</td>\n",
              "      <td>adenosine receptor agonist</td>\n",
              "      <td>8</td>\n",
              "    </tr>\n",
              "  </tbody>\n",
              "</table>\n",
              "<p>1963 rows × 3 columns</p>\n",
              "</div>\n",
              "      <button class=\"colab-df-convert\" onclick=\"convertToInteractive('df-01f414e6-9728-4bf4-a5e9-30611738d838')\"\n",
              "              title=\"Convert this dataframe to an interactive table.\"\n",
              "              style=\"display:none;\">\n",
              "        \n",
              "  <svg xmlns=\"http://www.w3.org/2000/svg\" height=\"24px\"viewBox=\"0 0 24 24\"\n",
              "       width=\"24px\">\n",
              "    <path d=\"M0 0h24v24H0V0z\" fill=\"none\"/>\n",
              "    <path d=\"M18.56 5.44l.94 2.06.94-2.06 2.06-.94-2.06-.94-.94-2.06-.94 2.06-2.06.94zm-11 1L8.5 8.5l.94-2.06 2.06-.94-2.06-.94L8.5 2.5l-.94 2.06-2.06.94zm10 10l.94 2.06.94-2.06 2.06-.94-2.06-.94-.94-2.06-.94 2.06-2.06.94z\"/><path d=\"M17.41 7.96l-1.37-1.37c-.4-.4-.92-.59-1.43-.59-.52 0-1.04.2-1.43.59L10.3 9.45l-7.72 7.72c-.78.78-.78 2.05 0 2.83L4 21.41c.39.39.9.59 1.41.59.51 0 1.02-.2 1.41-.59l7.78-7.78 2.81-2.81c.8-.78.8-2.07 0-2.86zM5.41 20L4 18.59l7.72-7.72 1.47 1.35L5.41 20z\"/>\n",
              "  </svg>\n",
              "      </button>\n",
              "      \n",
              "  <style>\n",
              "    .colab-df-container {\n",
              "      display:flex;\n",
              "      flex-wrap:wrap;\n",
              "      gap: 12px;\n",
              "    }\n",
              "\n",
              "    .colab-df-convert {\n",
              "      background-color: #E8F0FE;\n",
              "      border: none;\n",
              "      border-radius: 50%;\n",
              "      cursor: pointer;\n",
              "      display: none;\n",
              "      fill: #1967D2;\n",
              "      height: 32px;\n",
              "      padding: 0 0 0 0;\n",
              "      width: 32px;\n",
              "    }\n",
              "\n",
              "    .colab-df-convert:hover {\n",
              "      background-color: #E2EBFA;\n",
              "      box-shadow: 0px 1px 2px rgba(60, 64, 67, 0.3), 0px 1px 3px 1px rgba(60, 64, 67, 0.15);\n",
              "      fill: #174EA6;\n",
              "    }\n",
              "\n",
              "    [theme=dark] .colab-df-convert {\n",
              "      background-color: #3B4455;\n",
              "      fill: #D2E3FC;\n",
              "    }\n",
              "\n",
              "    [theme=dark] .colab-df-convert:hover {\n",
              "      background-color: #434B5C;\n",
              "      box-shadow: 0px 1px 3px 1px rgba(0, 0, 0, 0.15);\n",
              "      filter: drop-shadow(0px 1px 2px rgba(0, 0, 0, 0.3));\n",
              "      fill: #FFFFFF;\n",
              "    }\n",
              "  </style>\n",
              "\n",
              "      <script>\n",
              "        const buttonEl =\n",
              "          document.querySelector('#df-01f414e6-9728-4bf4-a5e9-30611738d838 button.colab-df-convert');\n",
              "        buttonEl.style.display =\n",
              "          google.colab.kernel.accessAllowed ? 'block' : 'none';\n",
              "\n",
              "        async function convertToInteractive(key) {\n",
              "          const element = document.querySelector('#df-01f414e6-9728-4bf4-a5e9-30611738d838');\n",
              "          const dataTable =\n",
              "            await google.colab.kernel.invokeFunction('convertToInteractive',\n",
              "                                                     [key], {});\n",
              "          if (!dataTable) return;\n",
              "\n",
              "          const docLinkHtml = 'Like what you see? Visit the ' +\n",
              "            '<a target=\"_blank\" href=https://colab.research.google.com/notebooks/data_table.ipynb>data table notebook</a>'\n",
              "            + ' to learn more about interactive tables.';\n",
              "          element.innerHTML = '';\n",
              "          dataTable['output_type'] = 'display_data';\n",
              "          await google.colab.output.renderOutput(dataTable, element);\n",
              "          const docLink = document.createElement('div');\n",
              "          docLink.innerHTML = docLinkHtml;\n",
              "          element.appendChild(docLink);\n",
              "        }\n",
              "      </script>\n",
              "    </div>\n",
              "  </div>\n",
              "  "
            ]
          },
          "metadata": {},
          "execution_count": 10
        }
      ]
    },
    {
      "cell_type": "code",
      "source": [
        "# A function that changes smiles string to fingerprints \n",
        "import rdkit\n",
        "import numpy as np\n",
        "from rdkit import *\n",
        "from rdkit import Chem, DataStructs\n",
        "from rdkit.Chem import AllChem\n",
        "def smiles_to_array_to_string(smiles):\n",
        "  molecules = Chem.MolFromSmiles(smiles) \n",
        "  fingerprints = AllChem.GetMorganFingerprintAsBitVect(molecules, 2)\n",
        "  x_array = []\n",
        "  arrays  = np.zeros(0,)\n",
        "  DataStructs.ConvertToNumpyArray(fingerprints, arrays)\n",
        "  x_array.append(arrays)\n",
        "  x_array = np.asarray(x_array)\n",
        "  x_array = list((np.squeeze(x_array)).astype(int))\n",
        "  string = ''\n",
        "  for i in x_array:\n",
        "    string += str(i) \n",
        "  return string"
      ],
      "metadata": {
        "id": "JYqajF4ByM8s"
      },
      "execution_count": 11,
      "outputs": []
    },
    {
      "cell_type": "code",
      "source": [
        "# Check the existence of Isomers\n",
        "assert len(set([smiles_to_array_to_string(i) for i in df.SMILES.tolist()])) == df.shape[0]"
      ],
      "metadata": {
        "id": "rapmdZKbyM_M"
      },
      "execution_count": 12,
      "outputs": []
    },
    {
      "cell_type": "code",
      "source": [
        "df"
      ],
      "metadata": {
        "colab": {
          "base_uri": "https://localhost:8080/",
          "height": 424
        },
        "id": "X1JqEljayNBP",
        "outputId": "1cfed6e4-75d9-4f46-9952-bfe8e4e7737a"
      },
      "execution_count": 13,
      "outputs": [
        {
          "output_type": "execute_result",
          "data": {
            "text/plain": [
              "                                                 SMILES  \\\n",
              "0                       Oc1ccc(CCNCC2CCc3ccccc3C2=O)cc1   \n",
              "1                  OC(CNCCNC(=O)Nc1ccccc1)COc1ccccc1C#N   \n",
              "2           O=C1Nc2ccccc2C2=NC(CN3CCN(CC3)c3ccccc3)CN12   \n",
              "3            O=C(NC1CCN(CCc2c[nH]c3ccccc23)CC1)c1ccccc1   \n",
              "4     O[C@H](CNC[C@@H](O)[C@@H]1CCc2cc(F)ccc2O1)[C@H...   \n",
              "...                                                 ...   \n",
              "1958                   Cn1c2ncn(CC(O)=O)c2c(=O)n(C)c1=O   \n",
              "1959  CCNC(=O)[C@H]1O[C@H]([C@H](O)[C@@H]1O)n1cnc2c(...   \n",
              "1960  CCNC(=O)[C@H]1O[C@H]([C@@H](O)[C@@H]1O)n1cnc2c...   \n",
              "1961              Cc1sc(N)c(C(=O)c2cccc(c2)C(F)(F)F)c1C   \n",
              "1962  C[C@@]1(O)[C@H](O)[C@@H](CO)O[C@H]1n1cnc2c(NC3...   \n",
              "\n",
              "                                 MOA classes  \n",
              "0     adrenergic receptor antagonist      10  \n",
              "1     adrenergic receptor antagonist      10  \n",
              "2     adrenergic receptor antagonist      10  \n",
              "3     adrenergic receptor antagonist      10  \n",
              "4     adrenergic receptor antagonist      10  \n",
              "...                              ...     ...  \n",
              "1958      adenosine receptor agonist       8  \n",
              "1959      adenosine receptor agonist       8  \n",
              "1960      adenosine receptor agonist       8  \n",
              "1961      adenosine receptor agonist       8  \n",
              "1962      adenosine receptor agonist       8  \n",
              "\n",
              "[1963 rows x 3 columns]"
            ],
            "text/html": [
              "\n",
              "  <div id=\"df-6e5189fb-beb8-4ce8-a5af-4ec7fee3b09b\">\n",
              "    <div class=\"colab-df-container\">\n",
              "      <div>\n",
              "<style scoped>\n",
              "    .dataframe tbody tr th:only-of-type {\n",
              "        vertical-align: middle;\n",
              "    }\n",
              "\n",
              "    .dataframe tbody tr th {\n",
              "        vertical-align: top;\n",
              "    }\n",
              "\n",
              "    .dataframe thead th {\n",
              "        text-align: right;\n",
              "    }\n",
              "</style>\n",
              "<table border=\"1\" class=\"dataframe\">\n",
              "  <thead>\n",
              "    <tr style=\"text-align: right;\">\n",
              "      <th></th>\n",
              "      <th>SMILES</th>\n",
              "      <th>MOA</th>\n",
              "      <th>classes</th>\n",
              "    </tr>\n",
              "  </thead>\n",
              "  <tbody>\n",
              "    <tr>\n",
              "      <th>0</th>\n",
              "      <td>Oc1ccc(CCNCC2CCc3ccccc3C2=O)cc1</td>\n",
              "      <td>adrenergic receptor antagonist</td>\n",
              "      <td>10</td>\n",
              "    </tr>\n",
              "    <tr>\n",
              "      <th>1</th>\n",
              "      <td>OC(CNCCNC(=O)Nc1ccccc1)COc1ccccc1C#N</td>\n",
              "      <td>adrenergic receptor antagonist</td>\n",
              "      <td>10</td>\n",
              "    </tr>\n",
              "    <tr>\n",
              "      <th>2</th>\n",
              "      <td>O=C1Nc2ccccc2C2=NC(CN3CCN(CC3)c3ccccc3)CN12</td>\n",
              "      <td>adrenergic receptor antagonist</td>\n",
              "      <td>10</td>\n",
              "    </tr>\n",
              "    <tr>\n",
              "      <th>3</th>\n",
              "      <td>O=C(NC1CCN(CCc2c[nH]c3ccccc23)CC1)c1ccccc1</td>\n",
              "      <td>adrenergic receptor antagonist</td>\n",
              "      <td>10</td>\n",
              "    </tr>\n",
              "    <tr>\n",
              "      <th>4</th>\n",
              "      <td>O[C@H](CNC[C@@H](O)[C@@H]1CCc2cc(F)ccc2O1)[C@H...</td>\n",
              "      <td>adrenergic receptor antagonist</td>\n",
              "      <td>10</td>\n",
              "    </tr>\n",
              "    <tr>\n",
              "      <th>...</th>\n",
              "      <td>...</td>\n",
              "      <td>...</td>\n",
              "      <td>...</td>\n",
              "    </tr>\n",
              "    <tr>\n",
              "      <th>1958</th>\n",
              "      <td>Cn1c2ncn(CC(O)=O)c2c(=O)n(C)c1=O</td>\n",
              "      <td>adenosine receptor agonist</td>\n",
              "      <td>8</td>\n",
              "    </tr>\n",
              "    <tr>\n",
              "      <th>1959</th>\n",
              "      <td>CCNC(=O)[C@H]1O[C@H]([C@H](O)[C@@H]1O)n1cnc2c(...</td>\n",
              "      <td>adenosine receptor agonist</td>\n",
              "      <td>8</td>\n",
              "    </tr>\n",
              "    <tr>\n",
              "      <th>1960</th>\n",
              "      <td>CCNC(=O)[C@H]1O[C@H]([C@@H](O)[C@@H]1O)n1cnc2c...</td>\n",
              "      <td>adenosine receptor agonist</td>\n",
              "      <td>8</td>\n",
              "    </tr>\n",
              "    <tr>\n",
              "      <th>1961</th>\n",
              "      <td>Cc1sc(N)c(C(=O)c2cccc(c2)C(F)(F)F)c1C</td>\n",
              "      <td>adenosine receptor agonist</td>\n",
              "      <td>8</td>\n",
              "    </tr>\n",
              "    <tr>\n",
              "      <th>1962</th>\n",
              "      <td>C[C@@]1(O)[C@H](O)[C@@H](CO)O[C@H]1n1cnc2c(NC3...</td>\n",
              "      <td>adenosine receptor agonist</td>\n",
              "      <td>8</td>\n",
              "    </tr>\n",
              "  </tbody>\n",
              "</table>\n",
              "<p>1963 rows × 3 columns</p>\n",
              "</div>\n",
              "      <button class=\"colab-df-convert\" onclick=\"convertToInteractive('df-6e5189fb-beb8-4ce8-a5af-4ec7fee3b09b')\"\n",
              "              title=\"Convert this dataframe to an interactive table.\"\n",
              "              style=\"display:none;\">\n",
              "        \n",
              "  <svg xmlns=\"http://www.w3.org/2000/svg\" height=\"24px\"viewBox=\"0 0 24 24\"\n",
              "       width=\"24px\">\n",
              "    <path d=\"M0 0h24v24H0V0z\" fill=\"none\"/>\n",
              "    <path d=\"M18.56 5.44l.94 2.06.94-2.06 2.06-.94-2.06-.94-.94-2.06-.94 2.06-2.06.94zm-11 1L8.5 8.5l.94-2.06 2.06-.94-2.06-.94L8.5 2.5l-.94 2.06-2.06.94zm10 10l.94 2.06.94-2.06 2.06-.94-2.06-.94-.94-2.06-.94 2.06-2.06.94z\"/><path d=\"M17.41 7.96l-1.37-1.37c-.4-.4-.92-.59-1.43-.59-.52 0-1.04.2-1.43.59L10.3 9.45l-7.72 7.72c-.78.78-.78 2.05 0 2.83L4 21.41c.39.39.9.59 1.41.59.51 0 1.02-.2 1.41-.59l7.78-7.78 2.81-2.81c.8-.78.8-2.07 0-2.86zM5.41 20L4 18.59l7.72-7.72 1.47 1.35L5.41 20z\"/>\n",
              "  </svg>\n",
              "      </button>\n",
              "      \n",
              "  <style>\n",
              "    .colab-df-container {\n",
              "      display:flex;\n",
              "      flex-wrap:wrap;\n",
              "      gap: 12px;\n",
              "    }\n",
              "\n",
              "    .colab-df-convert {\n",
              "      background-color: #E8F0FE;\n",
              "      border: none;\n",
              "      border-radius: 50%;\n",
              "      cursor: pointer;\n",
              "      display: none;\n",
              "      fill: #1967D2;\n",
              "      height: 32px;\n",
              "      padding: 0 0 0 0;\n",
              "      width: 32px;\n",
              "    }\n",
              "\n",
              "    .colab-df-convert:hover {\n",
              "      background-color: #E2EBFA;\n",
              "      box-shadow: 0px 1px 2px rgba(60, 64, 67, 0.3), 0px 1px 3px 1px rgba(60, 64, 67, 0.15);\n",
              "      fill: #174EA6;\n",
              "    }\n",
              "\n",
              "    [theme=dark] .colab-df-convert {\n",
              "      background-color: #3B4455;\n",
              "      fill: #D2E3FC;\n",
              "    }\n",
              "\n",
              "    [theme=dark] .colab-df-convert:hover {\n",
              "      background-color: #434B5C;\n",
              "      box-shadow: 0px 1px 3px 1px rgba(0, 0, 0, 0.15);\n",
              "      filter: drop-shadow(0px 1px 2px rgba(0, 0, 0, 0.3));\n",
              "      fill: #FFFFFF;\n",
              "    }\n",
              "  </style>\n",
              "\n",
              "      <script>\n",
              "        const buttonEl =\n",
              "          document.querySelector('#df-6e5189fb-beb8-4ce8-a5af-4ec7fee3b09b button.colab-df-convert');\n",
              "        buttonEl.style.display =\n",
              "          google.colab.kernel.accessAllowed ? 'block' : 'none';\n",
              "\n",
              "        async function convertToInteractive(key) {\n",
              "          const element = document.querySelector('#df-6e5189fb-beb8-4ce8-a5af-4ec7fee3b09b');\n",
              "          const dataTable =\n",
              "            await google.colab.kernel.invokeFunction('convertToInteractive',\n",
              "                                                     [key], {});\n",
              "          if (!dataTable) return;\n",
              "\n",
              "          const docLinkHtml = 'Like what you see? Visit the ' +\n",
              "            '<a target=\"_blank\" href=https://colab.research.google.com/notebooks/data_table.ipynb>data table notebook</a>'\n",
              "            + ' to learn more about interactive tables.';\n",
              "          element.innerHTML = '';\n",
              "          dataTable['output_type'] = 'display_data';\n",
              "          await google.colab.output.renderOutput(dataTable, element);\n",
              "          const docLink = document.createElement('div');\n",
              "          docLink.innerHTML = docLinkHtml;\n",
              "          element.appendChild(docLink);\n",
              "        }\n",
              "      </script>\n",
              "    </div>\n",
              "  </div>\n",
              "  "
            ]
          },
          "metadata": {},
          "execution_count": 13
        }
      ]
    },
    {
      "cell_type": "code",
      "source": [
        "structures = df.SMILES.tolist()"
      ],
      "metadata": {
        "id": "T9cxN_MzyNDe"
      },
      "execution_count": 14,
      "outputs": []
    },
    {
      "cell_type": "code",
      "source": [
        "molecule_blocks = []\n",
        "for structure in structures:\n",
        "  molecule = Chem.MolFromSmiles(structure)\n",
        "  molecule_block = Chem.MolToMolBlock(molecule)\n",
        "  molecule_blocks.append(molecule_block)"
      ],
      "metadata": {
        "id": "IWnj8PMfyNFc"
      },
      "execution_count": 15,
      "outputs": []
    },
    {
      "cell_type": "code",
      "source": [
        "molecule_textfile = open(\"molecule_textfile.txt\", \"w\")\n",
        "for molecule_block in molecule_blocks:\n",
        "  molecule_textfile.write(molecule_block + \"\\n\" + '$$$$' + \"\\n\")\n",
        "molecule_textfile.close()"
      ],
      "metadata": {
        "id": "jX4RN5ECyNH_"
      },
      "execution_count": 16,
      "outputs": []
    },
    {
      "cell_type": "code",
      "source": [
        "from spektral.utils.io import load_sdf\n",
        "molecule_sdf_loaded = load_sdf(\"molecule_textfile.txt\", amount = None)"
      ],
      "metadata": {
        "colab": {
          "base_uri": "https://localhost:8080/"
        },
        "id": "1RlzpbY7ydRd",
        "outputId": "d93d34b0-9b53-4daa-ef6e-96a9460014e9"
      },
      "execution_count": 17,
      "outputs": [
        {
          "output_type": "stream",
          "name": "stdout",
          "text": [
            "Reading SDF\n"
          ]
        }
      ]
    },
    {
      "cell_type": "code",
      "source": [
        "import networkx as nx\n",
        "molecule_sdf_nx = sdf_to_nx(molecule_sdf_loaded, keep_hydrogen = True)"
      ],
      "metadata": {
        "id": "1dyqlV-3ydUA"
      },
      "execution_count": 18,
      "outputs": []
    },
    {
      "cell_type": "code",
      "source": [
        "molecule_sdf_adj, molecule_sdf_node, _ = nx_to_numpy(molecule_sdf_nx, nf_keys=['atomic_num'],ef_keys=['type'] )"
      ],
      "metadata": {
        "id": "14nB5CyRydWc",
        "colab": {
          "base_uri": "https://localhost:8080/"
        },
        "outputId": "f05204e5-4ed5-4f43-a697-6dba60179c54"
      },
      "execution_count": 19,
      "outputs": [
        {
          "output_type": "stream",
          "name": "stderr",
          "text": [
            "/content/spektral_package.py:261: VisibleDeprecationWarning: Creating an ndarray from ragged nested sequences (which is a list-or-tuple of lists-or-tuples-or ndarrays with different lengths or shapes) is deprecated. If you meant to do this, you must specify 'dtype=object' when creating the ndarray.\n",
            "  return np.array([np.array(nx.attr_matrix(g)[0]) for g in graphs])\n",
            "/content/spektral_package.py:298: VisibleDeprecationWarning: Creating an ndarray from ragged nested sequences (which is a list-or-tuple of lists-or-tuples-or ndarrays with different lengths or shapes) is deprecated. If you meant to do this, you must specify 'dtype=object' when creating the ndarray.\n",
            "  return np.array(output)\n",
            "/content/spektral_package.py:340: VisibleDeprecationWarning: Creating an ndarray from ragged nested sequences (which is a list-or-tuple of lists-or-tuples-or ndarrays with different lengths or shapes) is deprecated. If you meant to do this, you must specify 'dtype=object' when creating the ndarray.\n",
            "  return np.array(output)\n",
            "/content/spektral_package.py:381: VisibleDeprecationWarning: Creating an ndarray from ragged nested sequences (which is a list-or-tuple of lists-or-tuples-or ndarrays with different lengths or shapes) is deprecated. If you meant to do this, you must specify 'dtype=object' when creating the ndarray.\n",
            "  adj = np.array([np.clip(a_, 0, 1) for a_ in adj])\n"
          ]
        }
      ]
    },
    {
      "cell_type": "code",
      "source": [
        "uniq_node = np.unique([v for x in molecule_sdf_node for v in np.unique(x)])\n",
        "node = [label_to_one_hot(x, uniq_node) for x in molecule_sdf_node]"
      ],
      "metadata": {
        "id": "kQnGMvGtydYw"
      },
      "execution_count": 20,
      "outputs": []
    },
    {
      "cell_type": "code",
      "source": [
        "y = [int(i) for i in df['classes'].tolist()]"
      ],
      "metadata": {
        "id": "wNOMOAGGzPn4"
      },
      "execution_count": 21,
      "outputs": []
    },
    {
      "cell_type": "code",
      "source": [
        "n_nodes = node[0].shape[-2]           \n",
        "n_features = node[0].shape[-1]         \n",
        "n_classes = len(set(y))    "
      ],
      "metadata": {
        "id": "7iuR2ePouWaZ"
      },
      "execution_count": 22,
      "outputs": []
    },
    {
      "cell_type": "code",
      "source": [
        "X = list(df.index)"
      ],
      "metadata": {
        "id": "Y4_JYy9Wzlze"
      },
      "execution_count": 23,
      "outputs": []
    },
    {
      "cell_type": "code",
      "source": [
        "# Split out the test set    \n",
        "from sklearn.model_selection import train_test_split\n",
        "x_train_valid, x_test, y_train_valid, y_test= train_test_split(X, df.classes.tolist(), test_size =10/100,\n",
        "      stratify = df.classes.tolist(), shuffle=True, random_state = 1000)"
      ],
      "metadata": {
        "id": "8-9uBWuczl7x"
      },
      "execution_count": 24,
      "outputs": []
    },
    {
      "cell_type": "code",
      "source": [
        "# kfold \n",
        "from sklearn.model_selection import StratifiedKFold\n",
        "skf = StratifiedKFold(n_splits = 9)\n",
        "skf.get_n_splits(np.array(list(x_train_valid)), np.array(list(y_train_valid)))\n",
        "train_index_list = []\n",
        "valid_index_list = []\n",
        "for train_index, valid_index in skf.split(np.array(list(x_train_valid)), np.array(list(y_train_valid))):\n",
        "  train_index_list.append(train_index)\n",
        "  valid_index_list.append(valid_index)"
      ],
      "metadata": {
        "id": "FFTEgiFK1Ijb"
      },
      "execution_count": 25,
      "outputs": []
    },
    {
      "cell_type": "code",
      "source": [
        "number_of_kfold = 0 # Change this from 0-8 to get 9 shuffles "
      ],
      "metadata": {
        "id": "jwfD86_y1Ilu"
      },
      "execution_count": 26,
      "outputs": []
    },
    {
      "cell_type": "code",
      "source": [
        "x_train = list(np.array(list(x_train_valid))[train_index_list[ number_of_kfold ]])\n",
        "x_valid = list(np.array(list(x_train_valid))[valid_index_list[ number_of_kfold ]])\n",
        "y_train = list(np.array(list(y_train_valid))[train_index_list[ number_of_kfold ]])\n",
        "y_valid = list(np.array(list(y_train_valid))[valid_index_list[ number_of_kfold ]])\n",
        "x_test = list(x_test)\n",
        "y_test = list(y_test)"
      ],
      "metadata": {
        "id": "mvo51qZl186G"
      },
      "execution_count": 27,
      "outputs": []
    },
    {
      "cell_type": "code",
      "source": [
        "# Get adjacency matrix       \n",
        "A_train = molecule_sdf_adj[x_train]\n",
        "A_valid = molecule_sdf_adj[x_valid]\n",
        "A_test = molecule_sdf_adj[x_test]"
      ],
      "metadata": {
        "id": "qfMoX0sF188o"
      },
      "execution_count": 28,
      "outputs": []
    },
    {
      "cell_type": "code",
      "source": [
        "# get node matrix   \n",
        "X_train = []\n",
        "for i in  x_train:\n",
        "  X_train.append(node[i])"
      ],
      "metadata": {
        "id": "6VAXe88k18_N"
      },
      "execution_count": 29,
      "outputs": []
    },
    {
      "cell_type": "code",
      "source": [
        "X_valid = []\n",
        "for i in  x_valid:\n",
        "  X_valid.append(node[i]) "
      ],
      "metadata": {
        "id": "reN5TOIk19Bs"
      },
      "execution_count": 30,
      "outputs": []
    },
    {
      "cell_type": "code",
      "source": [
        "X_test = []\n",
        "for i in x_test:\n",
        "  X_test.append(node[i])  "
      ],
      "metadata": {
        "id": "UzODwN9319D5"
      },
      "execution_count": 31,
      "outputs": []
    },
    {
      "cell_type": "code",
      "source": [
        "# Check the overlap \n",
        "for i in x_train:\n",
        "  if i in x_valid:\n",
        "    print(i)"
      ],
      "metadata": {
        "id": "jY8FUTgf19GJ"
      },
      "execution_count": 32,
      "outputs": []
    },
    {
      "cell_type": "code",
      "source": [
        "for i in x_test:\n",
        "  if i in x_train:\n",
        "    print(i)"
      ],
      "metadata": {
        "id": "-jB7HHbq1IoN"
      },
      "execution_count": 33,
      "outputs": []
    },
    {
      "cell_type": "code",
      "source": [
        "for i in x_test:\n",
        "  if i in x_valid:\n",
        "    print(i)"
      ],
      "metadata": {
        "id": "sNN5Iw0b3TIk"
      },
      "execution_count": 34,
      "outputs": []
    },
    {
      "cell_type": "code",
      "source": [
        "X_train = np.asarray(X_train)\n",
        "X_valid = np.asarray(X_valid)\n",
        "X_test = np.asarray(X_test)"
      ],
      "metadata": {
        "id": "xnshqFqP3TLC"
      },
      "execution_count": 35,
      "outputs": []
    },
    {
      "cell_type": "code",
      "source": [
        "from tensorflow.keras.regularizers import l2\n",
        "from spektral.layers import GCSConv, GlobalAttentionPool\n",
        "from keras.layers import Dropout, Input, Dense\n",
        "from tensorflow.keras.models import Model\n",
        "from tensorflow.keras.optimizers import Adam\n",
        "\n",
        "units = 128\n",
        "drop = 0.5\n",
        "batch_size = 8\n",
        "l2_reg = 5e-4\n",
        "\n",
        "X_in = Input((n_nodes, n_features))\n",
        "A_in = Input((n_nodes, n_nodes))\n",
        "layer = GCSConv(units, activation='relu', kernel_regularizer=l2(l2_reg))([X_in, A_in])\n",
        "layer = Dropout(drop)(layer)\n",
        "layer = GCSConv(units, activation='relu', kernel_regularizer=l2(l2_reg))([layer, A_in])\n",
        "layer = Dropout(drop)(layer)\n",
        "layer = GCSConv(units, activation='relu', kernel_regularizer=l2(l2_reg))([layer, A_in])\n",
        "layer = Dropout(drop)(layer) \n",
        "layer = GlobalAttentionPool(units*2)(layer)\n",
        "output = Dense(n_classes, activation='softmax')(layer)\n",
        "\n",
        "model0 = Model(inputs = [X_in, A_in], outputs = output)\n",
        "optimizer = Adam(lr = 1e-3)\n",
        "model0.compile(optimizer = optimizer,loss = tf.keras.losses.SparseCategoricalCrossentropy(from_logits = True),\n",
        "        metrics = ['accuracy'])"
      ],
      "metadata": {
        "colab": {
          "base_uri": "https://localhost:8080/"
        },
        "id": "15JK1mGC3TNQ",
        "outputId": "4b7f728c-f195-45bb-976a-939649f6e04b"
      },
      "execution_count": 36,
      "outputs": [
        {
          "output_type": "stream",
          "name": "stderr",
          "text": [
            "/usr/local/lib/python3.7/dist-packages/keras/optimizer_v2/adam.py:105: UserWarning: The `lr` argument is deprecated, use `learning_rate` instead.\n",
            "  super(Adam, self).__init__(name, **kwargs)\n"
          ]
        }
      ]
    },
    {
      "cell_type": "code",
      "source": [
        "# Create class weights\n",
        "from sklearn.utils import class_weight\n",
        "y_unique = np.unique(np.array(y_train))\n",
        "class_weights = class_weight.compute_class_weight(class_weight = 'balanced', classes = y_unique,\n",
        "                y = np.array(y_train)) \n",
        "class_weights_dict45 = dict(enumerate(class_weights))\n",
        "class_weights_dict45"
      ],
      "metadata": {
        "colab": {
          "base_uri": "https://localhost:8080/"
        },
        "id": "4H78tW423TQW",
        "outputId": "b7524f6d-6ffd-4c05-9175-a31538573c89"
      },
      "execution_count": 37,
      "outputs": [
        {
          "output_type": "execute_result",
          "data": {
            "text/plain": [
              "{0: 1.651578947368421,\n",
              " 1: 0.47545454545454546,\n",
              " 2: 1.8458823529411765,\n",
              " 3: 0.5705454545454546,\n",
              " 4: 0.8716666666666667,\n",
              " 5: 1.8458823529411765,\n",
              " 6: 1.651578947368421,\n",
              " 7: 1.8458823529411765,\n",
              " 8: 1.8458823529411765,\n",
              " 9: 1.7433333333333334,\n",
              " 10: 0.41289473684210526,\n",
              " 11: 1.4942857142857142,\n",
              " 12: 0.4023076923076923,\n",
              " 13: 1.3643478260869566,\n",
              " 14: 1.651578947368421,\n",
              " 15: 1.651578947368421,\n",
              " 16: 1.7433333333333334,\n",
              " 17: 1.569,\n",
              " 18: 1.3075,\n",
              " 19: 1.4942857142857142,\n",
              " 20: 0.5410344827586206,\n",
              " 21: 1.046,\n",
              " 22: 0.4683582089552239,\n",
              " 23: 1.651578947368421,\n",
              " 24: 0.5603571428571429,\n",
              " 25: 1.96125,\n",
              " 26: 1.012258064516129,\n",
              " 27: 0.6276,\n",
              " 28: 1.1207142857142858,\n",
              " 29: 1.569,\n",
              " 30: 1.651578947368421,\n",
              " 31: 1.651578947368421,\n",
              " 32: 1.8458823529411765,\n",
              " 33: 1.1207142857142858,\n",
              " 34: 1.651578947368421,\n",
              " 35: 1.651578947368421,\n",
              " 36: 0.9229411764705883,\n",
              " 37: 1.206923076923077,\n",
              " 38: 0.65375,\n",
              " 39: 1.012258064516129,\n",
              " 40: 0.6404081632653061,\n",
              " 41: 0.980625,\n",
              " 42: 0.8716666666666667,\n",
              " 43: 0.41289473684210526,\n",
              " 44: 1.4263636363636363,\n",
              " 45: 1.7433333333333334,\n",
              " 46: 1.569,\n",
              " 47: 1.7433333333333334,\n",
              " 48: 1.0820689655172413,\n",
              " 49: 0.9229411764705883}"
            ]
          },
          "metadata": {},
          "execution_count": 37
        }
      ]
    },
    {
      "cell_type": "code",
      "source": [
        "from keras.callbacks import ModelCheckpoint\n",
        "filepath_gcn = '/content/'+'GCN_top_'+str(n_classes)+'_MOA_weights.hdf5'\n",
        "checkpoint_gcn = ModelCheckpoint(filepath_gcn, save_weights_only = True, monitor = 'val_accuracy',\n",
        "         verbose = 0, save_best_only = True, mode = 'max')"
      ],
      "metadata": {
        "id": "rZ1yoxiQ3TSU"
      },
      "execution_count": 38,
      "outputs": []
    },
    {
      "cell_type": "code",
      "source": [
        "import gc\n",
        "gc.collect()"
      ],
      "metadata": {
        "colab": {
          "base_uri": "https://localhost:8080/"
        },
        "id": "KFP4Pkm2uFea",
        "outputId": "d72fbd24-d97f-402d-85b4-11c5a808a044"
      },
      "execution_count": 39,
      "outputs": [
        {
          "output_type": "execute_result",
          "data": {
            "text/plain": [
              "1611"
            ]
          },
          "metadata": {},
          "execution_count": 39
        }
      ]
    },
    {
      "cell_type": "code",
      "source": [
        "from tensorflow.keras.callbacks import EarlyStopping\n",
        "earlyStopping = EarlyStopping(monitor = 'val_loss', patience = 80, verbose = 1, mode = 'min')\n",
        "reduce_lr_loss = tf.keras.callbacks.ReduceLROnPlateau(monitor = 'val_loss', \n",
        "          factor = 0.98, patience = 5, verbose = 0, min_delta = 1e-54, mode = 'min')\n",
        "history = model0.fit([[X_train, A_train]], np.array(y_train), batch_size = batch_size,\n",
        "          validation_data = [[X_valid, A_valid], np.array(y_valid)], \n",
        "          shuffle = True, class_weight = class_weights_dict45, epochs = 300, \n",
        "          verbose = 2, callbacks = [earlyStopping, checkpoint_gcn, reduce_lr_loss,])"
      ],
      "metadata": {
        "colab": {
          "base_uri": "https://localhost:8080/"
        },
        "id": "JcTPuN-2vmUc",
        "outputId": "075e17bd-3444-404b-c9b5-9eb412d8b155"
      },
      "execution_count": 40,
      "outputs": [
        {
          "output_type": "stream",
          "name": "stdout",
          "text": [
            "197/197 - 1s - loss: 1.7025 - accuracy: 0.5315 - val_loss: 3.2515 - val_accuracy: 0.4365 - lr: 7.3857e-04 - 963ms/epoch - 5ms/step\n",
            "Epoch 126/300\n",
            "197/197 - 1s - loss: 1.7010 - accuracy: 0.5296 - val_loss: 3.3504 - val_accuracy: 0.4213 - lr: 7.3857e-04 - 968ms/epoch - 5ms/step\n",
            "Epoch 127/300\n",
            "197/197 - 1s - loss: 1.6693 - accuracy: 0.5398 - val_loss: 3.3762 - val_accuracy: 0.4264 - lr: 7.3857e-04 - 990ms/epoch - 5ms/step\n",
            "Epoch 128/300\n",
            "197/197 - 1s - loss: 1.7311 - accuracy: 0.5220 - val_loss: 3.3629 - val_accuracy: 0.4467 - lr: 7.3857e-04 - 993ms/epoch - 5ms/step\n",
            "Epoch 129/300\n",
            "197/197 - 1s - loss: 1.7142 - accuracy: 0.5290 - val_loss: 3.2195 - val_accuracy: 0.4315 - lr: 7.2380e-04 - 968ms/epoch - 5ms/step\n",
            "Epoch 130/300\n",
            "197/197 - 1s - loss: 1.6806 - accuracy: 0.5214 - val_loss: 3.1392 - val_accuracy: 0.4365 - lr: 7.2380e-04 - 979ms/epoch - 5ms/step\n",
            "Epoch 131/300\n",
            "197/197 - 1s - loss: 1.6969 - accuracy: 0.5214 - val_loss: 3.3438 - val_accuracy: 0.4264 - lr: 7.2380e-04 - 1s/epoch - 5ms/step\n",
            "Epoch 132/300\n",
            "197/197 - 1s - loss: 1.6493 - accuracy: 0.5296 - val_loss: 3.3542 - val_accuracy: 0.4010 - lr: 7.2380e-04 - 1s/epoch - 5ms/step\n",
            "Epoch 133/300\n",
            "197/197 - 1s - loss: 1.6757 - accuracy: 0.5347 - val_loss: 3.2276 - val_accuracy: 0.4213 - lr: 7.2380e-04 - 979ms/epoch - 5ms/step\n",
            "Epoch 134/300\n",
            "197/197 - 1s - loss: 1.6819 - accuracy: 0.5430 - val_loss: 3.3508 - val_accuracy: 0.4264 - lr: 7.0932e-04 - 978ms/epoch - 5ms/step\n",
            "Epoch 135/300\n",
            "197/197 - 1s - loss: 1.6477 - accuracy: 0.5468 - val_loss: 3.3591 - val_accuracy: 0.4162 - lr: 7.0932e-04 - 980ms/epoch - 5ms/step\n",
            "Epoch 136/300\n",
            "197/197 - 1s - loss: 1.6295 - accuracy: 0.5526 - val_loss: 3.3479 - val_accuracy: 0.4365 - lr: 7.0932e-04 - 976ms/epoch - 5ms/step\n",
            "Epoch 137/300\n",
            "197/197 - 1s - loss: 1.6718 - accuracy: 0.5379 - val_loss: 3.3742 - val_accuracy: 0.3959 - lr: 7.0932e-04 - 976ms/epoch - 5ms/step\n",
            "Epoch 138/300\n",
            "197/197 - 1s - loss: 1.6677 - accuracy: 0.5417 - val_loss: 3.3346 - val_accuracy: 0.4213 - lr: 7.0932e-04 - 976ms/epoch - 5ms/step\n",
            "Epoch 139/300\n",
            "197/197 - 1s - loss: 1.6209 - accuracy: 0.5392 - val_loss: 3.2332 - val_accuracy: 0.3756 - lr: 6.9514e-04 - 970ms/epoch - 5ms/step\n",
            "Epoch 140/300\n",
            "197/197 - 1s - loss: 1.6254 - accuracy: 0.5379 - val_loss: 3.1862 - val_accuracy: 0.4416 - lr: 6.9514e-04 - 980ms/epoch - 5ms/step\n",
            "Epoch 141/300\n",
            "197/197 - 1s - loss: 1.6272 - accuracy: 0.5526 - val_loss: 3.1572 - val_accuracy: 0.4162 - lr: 6.9514e-04 - 971ms/epoch - 5ms/step\n",
            "Epoch 142/300\n",
            "197/197 - 1s - loss: 1.5685 - accuracy: 0.5494 - val_loss: 3.1414 - val_accuracy: 0.3959 - lr: 6.9514e-04 - 983ms/epoch - 5ms/step\n",
            "Epoch 143/300\n",
            "197/197 - 1s - loss: 1.5999 - accuracy: 0.5462 - val_loss: 3.2680 - val_accuracy: 0.4213 - lr: 6.9514e-04 - 977ms/epoch - 5ms/step\n",
            "Epoch 144/300\n",
            "197/197 - 1s - loss: 1.6179 - accuracy: 0.5494 - val_loss: 3.1180 - val_accuracy: 0.4416 - lr: 6.8123e-04 - 959ms/epoch - 5ms/step\n",
            "Epoch 145/300\n",
            "197/197 - 1s - loss: 1.5463 - accuracy: 0.5494 - val_loss: 3.3251 - val_accuracy: 0.4213 - lr: 6.8123e-04 - 964ms/epoch - 5ms/step\n",
            "Epoch 146/300\n",
            "197/197 - 1s - loss: 1.5921 - accuracy: 0.5519 - val_loss: 3.1733 - val_accuracy: 0.4670 - lr: 6.8123e-04 - 989ms/epoch - 5ms/step\n",
            "Epoch 147/300\n",
            "197/197 - 1s - loss: 1.5656 - accuracy: 0.5660 - val_loss: 3.2043 - val_accuracy: 0.4365 - lr: 6.8123e-04 - 975ms/epoch - 5ms/step\n",
            "Epoch 148/300\n",
            "197/197 - 1s - loss: 1.6195 - accuracy: 0.5590 - val_loss: 3.3473 - val_accuracy: 0.4365 - lr: 6.8123e-04 - 979ms/epoch - 5ms/step\n",
            "Epoch 149/300\n",
            "197/197 - 1s - loss: 1.5694 - accuracy: 0.5513 - val_loss: 3.3173 - val_accuracy: 0.4213 - lr: 6.6761e-04 - 982ms/epoch - 5ms/step\n",
            "Epoch 150/300\n",
            "197/197 - 1s - loss: 1.5385 - accuracy: 0.5590 - val_loss: 3.3242 - val_accuracy: 0.4162 - lr: 6.6761e-04 - 978ms/epoch - 5ms/step\n",
            "Epoch 151/300\n",
            "197/197 - 1s - loss: 1.5299 - accuracy: 0.5723 - val_loss: 3.2271 - val_accuracy: 0.4467 - lr: 6.6761e-04 - 966ms/epoch - 5ms/step\n",
            "Epoch 152/300\n",
            "197/197 - 1s - loss: 1.5867 - accuracy: 0.5602 - val_loss: 3.3068 - val_accuracy: 0.4112 - lr: 6.6761e-04 - 969ms/epoch - 5ms/step\n",
            "Epoch 153/300\n",
            "197/197 - 1s - loss: 1.5756 - accuracy: 0.5475 - val_loss: 3.2577 - val_accuracy: 0.4518 - lr: 6.6761e-04 - 966ms/epoch - 5ms/step\n",
            "Epoch 153: early stopping\n"
          ]
        }
      ]
    },
    {
      "cell_type": "code",
      "source": [
        "# Load the weights \n",
        "model0.load_weights(filepath_gcn)"
      ],
      "metadata": {
        "id": "SNJBrCObvmWq"
      },
      "execution_count": 41,
      "outputs": []
    },
    {
      "cell_type": "code",
      "source": [
        "# Evaluate the model \n",
        "from sklearn.metrics import classification_report\n",
        "assert list(y_test)[0:5] == [17, 8, 7, 22, 4]\n",
        "print(classification_report(y_valid, np.array(model0.predict([X_valid, A_valid]).argmax(-1)),))\n",
        "print(classification_report(y_test, np.array(model0.predict([X_test, A_test]).argmax(-1)),))"
      ],
      "metadata": {
        "colab": {
          "base_uri": "https://localhost:8080/"
        },
        "id": "MGZAnFuNvmZK",
        "outputId": "c91fc359-902d-45ad-93b3-14a39309227b"
      },
      "execution_count": 43,
      "outputs": [
        {
          "output_type": "stream",
          "name": "stdout",
          "text": [
            "              precision    recall  f1-score   support\n",
            "\n",
            "           0       0.25      0.50      0.33         2\n",
            "           1       0.75      0.33      0.46         9\n",
            "           2       0.00      0.00      0.00         2\n",
            "           3       0.00      0.00      0.00         7\n",
            "           4       1.00      1.00      1.00         5\n",
            "           5       0.50      0.50      0.50         2\n",
            "           6       0.50      1.00      0.67         2\n",
            "           7       0.33      0.50      0.40         2\n",
            "           8       0.40      1.00      0.57         2\n",
            "           9       0.50      0.67      0.57         3\n",
            "          10       0.70      0.78      0.74         9\n",
            "          11       1.00      1.00      1.00         2\n",
            "          12       0.80      0.40      0.53        10\n",
            "          13       0.33      0.33      0.33         3\n",
            "          14       0.50      0.50      0.50         2\n",
            "          15       0.14      0.33      0.20         3\n",
            "          16       0.17      0.50      0.25         2\n",
            "          17       0.50      0.67      0.57         3\n",
            "          18       1.00      1.00      1.00         4\n",
            "          19       0.20      1.00      0.33         2\n",
            "          20       0.75      0.38      0.50         8\n",
            "          21       1.00      0.67      0.80         3\n",
            "          22       0.80      0.50      0.62         8\n",
            "          23       0.00      0.00      0.00         2\n",
            "          24       0.43      0.43      0.43         7\n",
            "          25       1.00      1.00      1.00         2\n",
            "          26       0.67      0.50      0.57         4\n",
            "          27       0.75      0.43      0.55         7\n",
            "          28       0.50      0.25      0.33         4\n",
            "          29       0.00      0.00      0.00         2\n",
            "          30       0.00      0.00      0.00         2\n",
            "          31       0.67      1.00      0.80         2\n",
            "          32       0.00      0.00      0.00         3\n",
            "          33       0.00      0.00      0.00         3\n",
            "          34       0.20      0.50      0.29         2\n",
            "          35       0.40      1.00      0.57         2\n",
            "          36       0.50      0.40      0.44         5\n",
            "          37       0.33      0.50      0.40         4\n",
            "          38       0.20      0.29      0.24         7\n",
            "          39       1.00      0.25      0.40         4\n",
            "          40       0.33      0.14      0.20         7\n",
            "          41       1.00      1.00      1.00         4\n",
            "          42       0.20      0.20      0.20         5\n",
            "          43       1.00      0.89      0.94         9\n",
            "          44       0.25      0.50      0.33         2\n",
            "          45       1.00      0.50      0.67         2\n",
            "          46       0.00      0.00      0.00         2\n",
            "          47       0.00      0.00      0.00         2\n",
            "          48       0.50      0.33      0.40         3\n",
            "          49       0.25      0.25      0.25         4\n",
            "\n",
            "    accuracy                           0.47       197\n",
            "   macro avg       0.47      0.48      0.44       197\n",
            "weighted avg       0.54      0.47      0.47       197\n",
            "\n",
            "              precision    recall  f1-score   support\n",
            "\n",
            "           0       0.50      0.67      0.57         3\n",
            "           1       1.00      0.75      0.86         8\n",
            "           2       0.50      1.00      0.67         2\n",
            "           3       0.20      0.29      0.24         7\n",
            "           4       0.71      1.00      0.83         5\n",
            "           5       1.00      1.00      1.00         2\n",
            "           6       0.50      1.00      0.67         2\n",
            "           7       0.00      0.00      0.00         2\n",
            "           8       1.00      0.50      0.67         2\n",
            "           9       1.00      0.50      0.67         2\n",
            "          10       0.78      0.70      0.74        10\n",
            "          11       0.50      0.33      0.40         3\n",
            "          12       0.60      0.30      0.40        10\n",
            "          13       0.25      0.33      0.29         3\n",
            "          14       0.50      1.00      0.67         2\n",
            "          15       0.25      0.50      0.33         2\n",
            "          16       0.00      0.00      0.00         2\n",
            "          17       0.00      0.00      0.00         3\n",
            "          18       0.60      1.00      0.75         3\n",
            "          19       0.20      0.67      0.31         3\n",
            "          20       1.00      0.12      0.22         8\n",
            "          21       1.00      0.75      0.86         4\n",
            "          22       0.83      0.62      0.71         8\n",
            "          23       0.00      0.00      0.00         2\n",
            "          24       0.62      0.71      0.67         7\n",
            "          25       0.33      1.00      0.50         2\n",
            "          26       0.80      1.00      0.89         4\n",
            "          27       0.57      0.67      0.62         6\n",
            "          28       0.67      0.50      0.57         4\n",
            "          29       1.00      0.33      0.50         3\n",
            "          30       0.00      0.00      0.00         2\n",
            "          31       0.67      1.00      0.80         2\n",
            "          32       0.00      0.00      0.00         2\n",
            "          33       0.00      0.00      0.00         4\n",
            "          34       0.33      0.50      0.40         2\n",
            "          35       0.50      1.00      0.67         2\n",
            "          36       0.12      0.25      0.17         4\n",
            "          37       0.00      0.00      0.00         3\n",
            "          38       0.40      0.33      0.36         6\n",
            "          39       0.00      0.00      0.00         4\n",
            "          40       0.25      0.17      0.20         6\n",
            "          41       0.60      0.75      0.67         4\n",
            "          42       0.60      0.60      0.60         5\n",
            "          43       0.90      0.90      0.90        10\n",
            "          44       0.29      0.67      0.40         3\n",
            "          45       0.00      0.00      0.00         2\n",
            "          46       0.50      0.50      0.50         2\n",
            "          47       0.00      0.00      0.00         2\n",
            "          48       0.00      0.00      0.00         4\n",
            "          49       0.33      0.25      0.29         4\n",
            "\n",
            "    accuracy                           0.50       197\n",
            "   macro avg       0.45      0.48      0.43       197\n",
            "weighted avg       0.52      0.50      0.48       197\n",
            "\n"
          ]
        },
        {
          "output_type": "stream",
          "name": "stderr",
          "text": [
            "/usr/local/lib/python3.7/dist-packages/sklearn/metrics/_classification.py:1318: UndefinedMetricWarning: Precision and F-score are ill-defined and being set to 0.0 in labels with no predicted samples. Use `zero_division` parameter to control this behavior.\n",
            "  _warn_prf(average, modifier, msg_start, len(result))\n",
            "/usr/local/lib/python3.7/dist-packages/sklearn/metrics/_classification.py:1318: UndefinedMetricWarning: Precision and F-score are ill-defined and being set to 0.0 in labels with no predicted samples. Use `zero_division` parameter to control this behavior.\n",
            "  _warn_prf(average, modifier, msg_start, len(result))\n",
            "/usr/local/lib/python3.7/dist-packages/sklearn/metrics/_classification.py:1318: UndefinedMetricWarning: Precision and F-score are ill-defined and being set to 0.0 in labels with no predicted samples. Use `zero_division` parameter to control this behavior.\n",
            "  _warn_prf(average, modifier, msg_start, len(result))\n",
            "/usr/local/lib/python3.7/dist-packages/sklearn/metrics/_classification.py:1318: UndefinedMetricWarning: Precision and F-score are ill-defined and being set to 0.0 in labels with no predicted samples. Use `zero_division` parameter to control this behavior.\n",
            "  _warn_prf(average, modifier, msg_start, len(result))\n",
            "/usr/local/lib/python3.7/dist-packages/sklearn/metrics/_classification.py:1318: UndefinedMetricWarning: Precision and F-score are ill-defined and being set to 0.0 in labels with no predicted samples. Use `zero_division` parameter to control this behavior.\n",
            "  _warn_prf(average, modifier, msg_start, len(result))\n",
            "/usr/local/lib/python3.7/dist-packages/sklearn/metrics/_classification.py:1318: UndefinedMetricWarning: Precision and F-score are ill-defined and being set to 0.0 in labels with no predicted samples. Use `zero_division` parameter to control this behavior.\n",
            "  _warn_prf(average, modifier, msg_start, len(result))\n"
          ]
        }
      ]
    },
    {
      "cell_type": "code",
      "source": [
        "number_of_kfold,  y_train[0:5],   y_valid[0:5],  (y_test[0:5])"
      ],
      "metadata": {
        "colab": {
          "base_uri": "https://localhost:8080/"
        },
        "id": "bISXYATUvmbc",
        "outputId": "5a375825-c680-45d9-d407-877b3527497b"
      },
      "execution_count": 44,
      "outputs": [
        {
          "output_type": "execute_result",
          "data": {
            "text/plain": [
              "(0, [6, 17, 43, 3, 21], [17, 43, 38, 43, 19], [17, 8, 7, 22, 4])"
            ]
          },
          "metadata": {},
          "execution_count": 44
        }
      ]
    },
    {
      "cell_type": "code",
      "source": [
        "# Training curves\n",
        "import matplotlib.pyplot as plt\n",
        "plt.plot(history.history['accuracy'])\n",
        "plt.plot(history.history['val_accuracy'])\n",
        "plt.title('model accuracy')\n",
        "plt.ylabel('accuracy')\n",
        "plt.xlabel('epoch')\n",
        "plt.legend(['train', 'valid'], loc = 'upper left')\n",
        "plt.show()\n",
        "\n",
        "plt.plot(history.history['loss'])\n",
        "plt.plot(history.history['val_loss'])\n",
        "plt.title('model loss')\n",
        "plt.ylabel('loss')\n",
        "plt.xlabel('epoch')\n",
        "plt.legend(['train', 'valid'], loc = 'upper left')\n",
        "plt.show()"
      ],
      "metadata": {
        "colab": {
          "base_uri": "https://localhost:8080/",
          "height": 573
        },
        "id": "vNDGp53Dvmdu",
        "outputId": "bdd14a36-7c04-44b1-fe7c-74f8817b2808"
      },
      "execution_count": 45,
      "outputs": [
        {
          "output_type": "display_data",
          "data": {
            "text/plain": [
              "<Figure size 432x288 with 1 Axes>"
            ],
            "image/png": "[encoded data removed]"
          },
          "metadata": {
            "needs_background": "light"
          }
        },
        {
          "output_type": "display_data",
          "data": {
            "text/plain": [
              "<Figure size 432x288 with 1 Axes>"
            ],
            "image/png": "[encoded data removed]"
          },
          "metadata": {
            "needs_background": "light"
          }
        }
      ]
    },
    {
      "cell_type": "code",
      "source": [
        "# References \n",
        "# https://codesuche.com/view-source/python/danielegrattarola/spektral/ \n",
        "# https://github.com/Discngine/dng_dl_speknn \n",
        "# https://github.com/danielegrattarola/spektral"
      ],
      "metadata": {
        "id": "1CY6SzbVvmkb"
      },
      "execution_count": 46,
      "outputs": []
    }
  ]
}