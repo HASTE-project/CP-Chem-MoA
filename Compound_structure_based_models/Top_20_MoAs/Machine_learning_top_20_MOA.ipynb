{
  "cells": [
    {
      "cell_type": "code",
      "execution_count": null,
      "metadata": {
        "id": "75-UZEGR1A0b"
      },
      "outputs": [],
      "source": [
        "# install rdkit  \n",
        "!wget -c https://repo.continuum.io/miniconda/Miniconda3-latest-Linux-x86_64.sh\n",
        "!chmod +x Miniconda3-latest-Linux-x86_64.sh\n",
        "!bash ./Miniconda3-latest-Linux-x86_64.sh -b -f -p /usr/local\n",
        "!conda install -q -y -c rdkit rdkit python=3.7\n",
        "import sys\n",
        "sys.path.append('/usr/local/lib/python3.7/site-packages/')\n",
        "import pprint     \n",
        "pprint.pprint(sys.path)\n",
        "!python -c \"import site; print (site.getsitepackages())\""
      ]
    },
    {
      "cell_type": "code",
      "source": [
        "import pandas as pd\n",
        "df = pd.read_csv('top_20_MOAs.txt', sep = '\\t')\n",
        "df"
      ],
      "metadata": {
        "colab": {
          "base_uri": "https://localhost:8080/",
          "height": 424
        },
        "id": "O9GYJo2v9Zu9",
        "outputId": "944c0128-2d0b-4750-ccf4-bc427d364c4a"
      },
      "execution_count": 2,
      "outputs": [
        {
          "output_type": "execute_result",
          "data": {
            "text/plain": [
              "                                                SMILES  \\\n",
              "0             CCCC(=O)Nc1ccc(OCC(O)CNC(C)C)c(c1)C(C)=O   \n",
              "1          COc1cc2nc(nc(N)c2cc1OC)N(C)CCCNC(=O)C1CCCO1   \n",
              "2                            CC(C)NCC(O)COc1ccccc1CC=C   \n",
              "3     COc1ccccc1N1CCN(CCN2C(=O)c3ccccc3C(C)(C)C2=O)CC1   \n",
              "4            CC(C)(C)NCC(O)CSc1nc(cs1)-c1ccc(s1)C(N)=O   \n",
              "...                                                ...   \n",
              "1216                                        OCCCC(O)=O   \n",
              "1217              CN1c2ccc(Cl)cc2C(=NC(O)C1=O)c1ccccc1   \n",
              "1218          CCN(C(C)=O)c1cccc(c1)-c1ccnc2c(cnn12)C#N   \n",
              "1219     CCOC(=O)c1ncc2[nH]c3ccc(OCc4ccccc4)cc3c2c1COC   \n",
              "1220         CN(C)C(=O)Cc1c(nc2ccc(C)cn12)-c1ccc(C)cc1   \n",
              "\n",
              "                                  MOA  \n",
              "0      adrenergic receptor antagonist  \n",
              "1      adrenergic receptor antagonist  \n",
              "2      adrenergic receptor antagonist  \n",
              "3      adrenergic receptor antagonist  \n",
              "4      adrenergic receptor antagonist  \n",
              "...                               ...  \n",
              "1216  benzodiazepine receptor agonist  \n",
              "1217  benzodiazepine receptor agonist  \n",
              "1218  benzodiazepine receptor agonist  \n",
              "1219  benzodiazepine receptor agonist  \n",
              "1220  benzodiazepine receptor agonist  \n",
              "\n",
              "[1221 rows x 2 columns]"
            ],
            "text/html": [
              "\n",
              "  <div id=\"df-a85eb840-232b-4772-a386-f3305b3dfdc3\">\n",
              "    <div class=\"colab-df-container\">\n",
              "      <div>\n",
              "<style scoped>\n",
              "    .dataframe tbody tr th:only-of-type {\n",
              "        vertical-align: middle;\n",
              "    }\n",
              "\n",
              "    .dataframe tbody tr th {\n",
              "        vertical-align: top;\n",
              "    }\n",
              "\n",
              "    .dataframe thead th {\n",
              "        text-align: right;\n",
              "    }\n",
              "</style>\n",
              "<table border=\"1\" class=\"dataframe\">\n",
              "  <thead>\n",
              "    <tr style=\"text-align: right;\">\n",
              "      <th></th>\n",
              "      <th>SMILES</th>\n",
              "      <th>MOA</th>\n",
              "    </tr>\n",
              "  </thead>\n",
              "  <tbody>\n",
              "    <tr>\n",
              "      <th>0</th>\n",
              "      <td>CCCC(=O)Nc1ccc(OCC(O)CNC(C)C)c(c1)C(C)=O</td>\n",
              "      <td>adrenergic receptor antagonist</td>\n",
              "    </tr>\n",
              "    <tr>\n",
              "      <th>1</th>\n",
              "      <td>COc1cc2nc(nc(N)c2cc1OC)N(C)CCCNC(=O)C1CCCO1</td>\n",
              "      <td>adrenergic receptor antagonist</td>\n",
              "    </tr>\n",
              "    <tr>\n",
              "      <th>2</th>\n",
              "      <td>CC(C)NCC(O)COc1ccccc1CC=C</td>\n",
              "      <td>adrenergic receptor antagonist</td>\n",
              "    </tr>\n",
              "    <tr>\n",
              "      <th>3</th>\n",
              "      <td>COc1ccccc1N1CCN(CCN2C(=O)c3ccccc3C(C)(C)C2=O)CC1</td>\n",
              "      <td>adrenergic receptor antagonist</td>\n",
              "    </tr>\n",
              "    <tr>\n",
              "      <th>4</th>\n",
              "      <td>CC(C)(C)NCC(O)CSc1nc(cs1)-c1ccc(s1)C(N)=O</td>\n",
              "      <td>adrenergic receptor antagonist</td>\n",
              "    </tr>\n",
              "    <tr>\n",
              "      <th>...</th>\n",
              "      <td>...</td>\n",
              "      <td>...</td>\n",
              "    </tr>\n",
              "    <tr>\n",
              "      <th>1216</th>\n",
              "      <td>OCCCC(O)=O</td>\n",
              "      <td>benzodiazepine receptor agonist</td>\n",
              "    </tr>\n",
              "    <tr>\n",
              "      <th>1217</th>\n",
              "      <td>CN1c2ccc(Cl)cc2C(=NC(O)C1=O)c1ccccc1</td>\n",
              "      <td>benzodiazepine receptor agonist</td>\n",
              "    </tr>\n",
              "    <tr>\n",
              "      <th>1218</th>\n",
              "      <td>CCN(C(C)=O)c1cccc(c1)-c1ccnc2c(cnn12)C#N</td>\n",
              "      <td>benzodiazepine receptor agonist</td>\n",
              "    </tr>\n",
              "    <tr>\n",
              "      <th>1219</th>\n",
              "      <td>CCOC(=O)c1ncc2[nH]c3ccc(OCc4ccccc4)cc3c2c1COC</td>\n",
              "      <td>benzodiazepine receptor agonist</td>\n",
              "    </tr>\n",
              "    <tr>\n",
              "      <th>1220</th>\n",
              "      <td>CN(C)C(=O)Cc1c(nc2ccc(C)cn12)-c1ccc(C)cc1</td>\n",
              "      <td>benzodiazepine receptor agonist</td>\n",
              "    </tr>\n",
              "  </tbody>\n",
              "</table>\n",
              "<p>1221 rows × 2 columns</p>\n",
              "</div>\n",
              "      <button class=\"colab-df-convert\" onclick=\"convertToInteractive('df-a85eb840-232b-4772-a386-f3305b3dfdc3')\"\n",
              "              title=\"Convert this dataframe to an interactive table.\"\n",
              "              style=\"display:none;\">\n",
              "        \n",
              "  <svg xmlns=\"http://www.w3.org/2000/svg\" height=\"24px\"viewBox=\"0 0 24 24\"\n",
              "       width=\"24px\">\n",
              "    <path d=\"M0 0h24v24H0V0z\" fill=\"none\"/>\n",
              "    <path d=\"M18.56 5.44l.94 2.06.94-2.06 2.06-.94-2.06-.94-.94-2.06-.94 2.06-2.06.94zm-11 1L8.5 8.5l.94-2.06 2.06-.94-2.06-.94L8.5 2.5l-.94 2.06-2.06.94zm10 10l.94 2.06.94-2.06 2.06-.94-2.06-.94-.94-2.06-.94 2.06-2.06.94z\"/><path d=\"M17.41 7.96l-1.37-1.37c-.4-.4-.92-.59-1.43-.59-.52 0-1.04.2-1.43.59L10.3 9.45l-7.72 7.72c-.78.78-.78 2.05 0 2.83L4 21.41c.39.39.9.59 1.41.59.51 0 1.02-.2 1.41-.59l7.78-7.78 2.81-2.81c.8-.78.8-2.07 0-2.86zM5.41 20L4 18.59l7.72-7.72 1.47 1.35L5.41 20z\"/>\n",
              "  </svg>\n",
              "      </button>\n",
              "      \n",
              "  <style>\n",
              "    .colab-df-container {\n",
              "      display:flex;\n",
              "      flex-wrap:wrap;\n",
              "      gap: 12px;\n",
              "    }\n",
              "\n",
              "    .colab-df-convert {\n",
              "      background-color: #E8F0FE;\n",
              "      border: none;\n",
              "      border-radius: 50%;\n",
              "      cursor: pointer;\n",
              "      display: none;\n",
              "      fill: #1967D2;\n",
              "      height: 32px;\n",
              "      padding: 0 0 0 0;\n",
              "      width: 32px;\n",
              "    }\n",
              "\n",
              "    .colab-df-convert:hover {\n",
              "      background-color: #E2EBFA;\n",
              "      box-shadow: 0px 1px 2px rgba(60, 64, 67, 0.3), 0px 1px 3px 1px rgba(60, 64, 67, 0.15);\n",
              "      fill: #174EA6;\n",
              "    }\n",
              "\n",
              "    [theme=dark] .colab-df-convert {\n",
              "      background-color: #3B4455;\n",
              "      fill: #D2E3FC;\n",
              "    }\n",
              "\n",
              "    [theme=dark] .colab-df-convert:hover {\n",
              "      background-color: #434B5C;\n",
              "      box-shadow: 0px 1px 3px 1px rgba(0, 0, 0, 0.15);\n",
              "      filter: drop-shadow(0px 1px 2px rgba(0, 0, 0, 0.3));\n",
              "      fill: #FFFFFF;\n",
              "    }\n",
              "  </style>\n",
              "\n",
              "      <script>\n",
              "        const buttonEl =\n",
              "          document.querySelector('#df-a85eb840-232b-4772-a386-f3305b3dfdc3 button.colab-df-convert');\n",
              "        buttonEl.style.display =\n",
              "          google.colab.kernel.accessAllowed ? 'block' : 'none';\n",
              "\n",
              "        async function convertToInteractive(key) {\n",
              "          const element = document.querySelector('#df-a85eb840-232b-4772-a386-f3305b3dfdc3');\n",
              "          const dataTable =\n",
              "            await google.colab.kernel.invokeFunction('convertToInteractive',\n",
              "                                                     [key], {});\n",
              "          if (!dataTable) return;\n",
              "\n",
              "          const docLinkHtml = 'Like what you see? Visit the ' +\n",
              "            '<a target=\"_blank\" href=https://colab.research.google.com/notebooks/data_table.ipynb>data table notebook</a>'\n",
              "            + ' to learn more about interactive tables.';\n",
              "          element.innerHTML = '';\n",
              "          dataTable['output_type'] = 'display_data';\n",
              "          await google.colab.output.renderOutput(dataTable, element);\n",
              "          const docLink = document.createElement('div');\n",
              "          docLink.innerHTML = docLinkHtml;\n",
              "          element.appendChild(docLink);\n",
              "        }\n",
              "      </script>\n",
              "    </div>\n",
              "  </div>\n",
              "  "
            ]
          },
          "metadata": {},
          "execution_count": 2
        }
      ]
    },
    {
      "cell_type": "code",
      "source": [
        "# check the duplicates \n",
        "for i in df.SMILES.tolist():\n",
        "  if df.SMILES.tolist().count(i) != 1:\n",
        "    print(i)"
      ],
      "metadata": {
        "id": "6S0Cz1ly_sZk"
      },
      "execution_count": 3,
      "outputs": []
    },
    {
      "cell_type": "code",
      "source": [
        "MOA_class_dictionary = {'EGFR inhibitor': 8,\n",
        " 'HDAC inhibitor': 16,\n",
        " 'PI3K inhibitor': 13,\n",
        " 'acetylcholine receptor agonist': 1,\n",
        " 'acetylcholine receptor antagonist': 4,\n",
        " 'adrenergic receptor agonist': 18,\n",
        " 'adrenergic receptor antagonist': 15,\n",
        " 'bacterial cell wall synthesis inhibitor': 14,\n",
        " 'benzodiazepine receptor agonist': 10,\n",
        " 'calcium channel blocker': 5,\n",
        " 'cyclooxygenase inhibitor': 6,\n",
        " 'dopamine receptor antagonist': 12,\n",
        " 'glucocorticoid receptor agonist': 9,\n",
        " 'glutamate receptor antagonist': 19,\n",
        " 'histamine receptor antagonist': 17,\n",
        " 'phosphodiesterase inhibitor': 3,\n",
        " 'serotonin receptor agonist': 7,\n",
        " 'serotonin receptor antagonist': 2,\n",
        " 'sodium channel blocker': 11,\n",
        " 'topoisomerase inhibitor': 0}"
      ],
      "metadata": {
        "id": "17c5-JuGBwb0"
      },
      "execution_count": 4,
      "outputs": []
    },
    {
      "cell_type": "code",
      "source": [
        "sorted_classes = list(MOA_class_dictionary.values())\n",
        "sorted_classes.sort() \n",
        "assert sorted_classes == [i for i in range(20)]"
      ],
      "metadata": {
        "id": "NkFqARR_B72C"
      },
      "execution_count": 5,
      "outputs": []
    },
    {
      "cell_type": "code",
      "source": [
        "# add classes column \n",
        "df['classes'] = None\n",
        "for i in range(df.shape[0]):\n",
        "  df.iloc[i,2] = MOA_class_dictionary[df.iloc[i,1]]\n",
        "df"
      ],
      "metadata": {
        "colab": {
          "base_uri": "https://localhost:8080/",
          "height": 424
        },
        "id": "lF5D5wb6CRCn",
        "outputId": "a2db0533-5f28-41fd-b634-42e80c4ae683"
      },
      "execution_count": 6,
      "outputs": [
        {
          "output_type": "execute_result",
          "data": {
            "text/plain": [
              "                                                SMILES  \\\n",
              "0             CCCC(=O)Nc1ccc(OCC(O)CNC(C)C)c(c1)C(C)=O   \n",
              "1          COc1cc2nc(nc(N)c2cc1OC)N(C)CCCNC(=O)C1CCCO1   \n",
              "2                            CC(C)NCC(O)COc1ccccc1CC=C   \n",
              "3     COc1ccccc1N1CCN(CCN2C(=O)c3ccccc3C(C)(C)C2=O)CC1   \n",
              "4            CC(C)(C)NCC(O)CSc1nc(cs1)-c1ccc(s1)C(N)=O   \n",
              "...                                                ...   \n",
              "1216                                        OCCCC(O)=O   \n",
              "1217              CN1c2ccc(Cl)cc2C(=NC(O)C1=O)c1ccccc1   \n",
              "1218          CCN(C(C)=O)c1cccc(c1)-c1ccnc2c(cnn12)C#N   \n",
              "1219     CCOC(=O)c1ncc2[nH]c3ccc(OCc4ccccc4)cc3c2c1COC   \n",
              "1220         CN(C)C(=O)Cc1c(nc2ccc(C)cn12)-c1ccc(C)cc1   \n",
              "\n",
              "                                  MOA classes  \n",
              "0      adrenergic receptor antagonist      15  \n",
              "1      adrenergic receptor antagonist      15  \n",
              "2      adrenergic receptor antagonist      15  \n",
              "3      adrenergic receptor antagonist      15  \n",
              "4      adrenergic receptor antagonist      15  \n",
              "...                               ...     ...  \n",
              "1216  benzodiazepine receptor agonist      10  \n",
              "1217  benzodiazepine receptor agonist      10  \n",
              "1218  benzodiazepine receptor agonist      10  \n",
              "1219  benzodiazepine receptor agonist      10  \n",
              "1220  benzodiazepine receptor agonist      10  \n",
              "\n",
              "[1221 rows x 3 columns]"
            ],
            "text/html": [
              "\n",
              "  <div id=\"df-d2a9529c-4842-468e-9356-3960ceb59a24\">\n",
              "    <div class=\"colab-df-container\">\n",
              "      <div>\n",
              "<style scoped>\n",
              "    .dataframe tbody tr th:only-of-type {\n",
              "        vertical-align: middle;\n",
              "    }\n",
              "\n",
              "    .dataframe tbody tr th {\n",
              "        vertical-align: top;\n",
              "    }\n",
              "\n",
              "    .dataframe thead th {\n",
              "        text-align: right;\n",
              "    }\n",
              "</style>\n",
              "<table border=\"1\" class=\"dataframe\">\n",
              "  <thead>\n",
              "    <tr style=\"text-align: right;\">\n",
              "      <th></th>\n",
              "      <th>SMILES</th>\n",
              "      <th>MOA</th>\n",
              "      <th>classes</th>\n",
              "    </tr>\n",
              "  </thead>\n",
              "  <tbody>\n",
              "    <tr>\n",
              "      <th>0</th>\n",
              "      <td>CCCC(=O)Nc1ccc(OCC(O)CNC(C)C)c(c1)C(C)=O</td>\n",
              "      <td>adrenergic receptor antagonist</td>\n",
              "      <td>15</td>\n",
              "    </tr>\n",
              "    <tr>\n",
              "      <th>1</th>\n",
              "      <td>COc1cc2nc(nc(N)c2cc1OC)N(C)CCCNC(=O)C1CCCO1</td>\n",
              "      <td>adrenergic receptor antagonist</td>\n",
              "      <td>15</td>\n",
              "    </tr>\n",
              "    <tr>\n",
              "      <th>2</th>\n",
              "      <td>CC(C)NCC(O)COc1ccccc1CC=C</td>\n",
              "      <td>adrenergic receptor antagonist</td>\n",
              "      <td>15</td>\n",
              "    </tr>\n",
              "    <tr>\n",
              "      <th>3</th>\n",
              "      <td>COc1ccccc1N1CCN(CCN2C(=O)c3ccccc3C(C)(C)C2=O)CC1</td>\n",
              "      <td>adrenergic receptor antagonist</td>\n",
              "      <td>15</td>\n",
              "    </tr>\n",
              "    <tr>\n",
              "      <th>4</th>\n",
              "      <td>CC(C)(C)NCC(O)CSc1nc(cs1)-c1ccc(s1)C(N)=O</td>\n",
              "      <td>adrenergic receptor antagonist</td>\n",
              "      <td>15</td>\n",
              "    </tr>\n",
              "    <tr>\n",
              "      <th>...</th>\n",
              "      <td>...</td>\n",
              "      <td>...</td>\n",
              "      <td>...</td>\n",
              "    </tr>\n",
              "    <tr>\n",
              "      <th>1216</th>\n",
              "      <td>OCCCC(O)=O</td>\n",
              "      <td>benzodiazepine receptor agonist</td>\n",
              "      <td>10</td>\n",
              "    </tr>\n",
              "    <tr>\n",
              "      <th>1217</th>\n",
              "      <td>CN1c2ccc(Cl)cc2C(=NC(O)C1=O)c1ccccc1</td>\n",
              "      <td>benzodiazepine receptor agonist</td>\n",
              "      <td>10</td>\n",
              "    </tr>\n",
              "    <tr>\n",
              "      <th>1218</th>\n",
              "      <td>CCN(C(C)=O)c1cccc(c1)-c1ccnc2c(cnn12)C#N</td>\n",
              "      <td>benzodiazepine receptor agonist</td>\n",
              "      <td>10</td>\n",
              "    </tr>\n",
              "    <tr>\n",
              "      <th>1219</th>\n",
              "      <td>CCOC(=O)c1ncc2[nH]c3ccc(OCc4ccccc4)cc3c2c1COC</td>\n",
              "      <td>benzodiazepine receptor agonist</td>\n",
              "      <td>10</td>\n",
              "    </tr>\n",
              "    <tr>\n",
              "      <th>1220</th>\n",
              "      <td>CN(C)C(=O)Cc1c(nc2ccc(C)cn12)-c1ccc(C)cc1</td>\n",
              "      <td>benzodiazepine receptor agonist</td>\n",
              "      <td>10</td>\n",
              "    </tr>\n",
              "  </tbody>\n",
              "</table>\n",
              "<p>1221 rows × 3 columns</p>\n",
              "</div>\n",
              "      <button class=\"colab-df-convert\" onclick=\"convertToInteractive('df-d2a9529c-4842-468e-9356-3960ceb59a24')\"\n",
              "              title=\"Convert this dataframe to an interactive table.\"\n",
              "              style=\"display:none;\">\n",
              "        \n",
              "  <svg xmlns=\"http://www.w3.org/2000/svg\" height=\"24px\"viewBox=\"0 0 24 24\"\n",
              "       width=\"24px\">\n",
              "    <path d=\"M0 0h24v24H0V0z\" fill=\"none\"/>\n",
              "    <path d=\"M18.56 5.44l.94 2.06.94-2.06 2.06-.94-2.06-.94-.94-2.06-.94 2.06-2.06.94zm-11 1L8.5 8.5l.94-2.06 2.06-.94-2.06-.94L8.5 2.5l-.94 2.06-2.06.94zm10 10l.94 2.06.94-2.06 2.06-.94-2.06-.94-.94-2.06-.94 2.06-2.06.94z\"/><path d=\"M17.41 7.96l-1.37-1.37c-.4-.4-.92-.59-1.43-.59-.52 0-1.04.2-1.43.59L10.3 9.45l-7.72 7.72c-.78.78-.78 2.05 0 2.83L4 21.41c.39.39.9.59 1.41.59.51 0 1.02-.2 1.41-.59l7.78-7.78 2.81-2.81c.8-.78.8-2.07 0-2.86zM5.41 20L4 18.59l7.72-7.72 1.47 1.35L5.41 20z\"/>\n",
              "  </svg>\n",
              "      </button>\n",
              "      \n",
              "  <style>\n",
              "    .colab-df-container {\n",
              "      display:flex;\n",
              "      flex-wrap:wrap;\n",
              "      gap: 12px;\n",
              "    }\n",
              "\n",
              "    .colab-df-convert {\n",
              "      background-color: #E8F0FE;\n",
              "      border: none;\n",
              "      border-radius: 50%;\n",
              "      cursor: pointer;\n",
              "      display: none;\n",
              "      fill: #1967D2;\n",
              "      height: 32px;\n",
              "      padding: 0 0 0 0;\n",
              "      width: 32px;\n",
              "    }\n",
              "\n",
              "    .colab-df-convert:hover {\n",
              "      background-color: #E2EBFA;\n",
              "      box-shadow: 0px 1px 2px rgba(60, 64, 67, 0.3), 0px 1px 3px 1px rgba(60, 64, 67, 0.15);\n",
              "      fill: #174EA6;\n",
              "    }\n",
              "\n",
              "    [theme=dark] .colab-df-convert {\n",
              "      background-color: #3B4455;\n",
              "      fill: #D2E3FC;\n",
              "    }\n",
              "\n",
              "    [theme=dark] .colab-df-convert:hover {\n",
              "      background-color: #434B5C;\n",
              "      box-shadow: 0px 1px 3px 1px rgba(0, 0, 0, 0.15);\n",
              "      filter: drop-shadow(0px 1px 2px rgba(0, 0, 0, 0.3));\n",
              "      fill: #FFFFFF;\n",
              "    }\n",
              "  </style>\n",
              "\n",
              "      <script>\n",
              "        const buttonEl =\n",
              "          document.querySelector('#df-d2a9529c-4842-468e-9356-3960ceb59a24 button.colab-df-convert');\n",
              "        buttonEl.style.display =\n",
              "          google.colab.kernel.accessAllowed ? 'block' : 'none';\n",
              "\n",
              "        async function convertToInteractive(key) {\n",
              "          const element = document.querySelector('#df-d2a9529c-4842-468e-9356-3960ceb59a24');\n",
              "          const dataTable =\n",
              "            await google.colab.kernel.invokeFunction('convertToInteractive',\n",
              "                                                     [key], {});\n",
              "          if (!dataTable) return;\n",
              "\n",
              "          const docLinkHtml = 'Like what you see? Visit the ' +\n",
              "            '<a target=\"_blank\" href=https://colab.research.google.com/notebooks/data_table.ipynb>data table notebook</a>'\n",
              "            + ' to learn more about interactive tables.';\n",
              "          element.innerHTML = '';\n",
              "          dataTable['output_type'] = 'display_data';\n",
              "          await google.colab.output.renderOutput(dataTable, element);\n",
              "          const docLink = document.createElement('div');\n",
              "          docLink.innerHTML = docLinkHtml;\n",
              "          element.appendChild(docLink);\n",
              "        }\n",
              "      </script>\n",
              "    </div>\n",
              "  </div>\n",
              "  "
            ]
          },
          "metadata": {},
          "execution_count": 6
        }
      ]
    },
    {
      "cell_type": "code",
      "source": [
        "# A function that changes smiles string to fingerprints \n",
        "import rdkit\n",
        "import numpy as np\n",
        "from rdkit import *\n",
        "from rdkit import Chem, DataStructs\n",
        "from rdkit.Chem import AllChem\n",
        "def smiles_to_array_to_string(smiles):\n",
        "  molecules = Chem.MolFromSmiles(smiles) \n",
        "  fingerprints = AllChem.GetMorganFingerprintAsBitVect(molecules, 2)\n",
        "  x_array = []\n",
        "  arrays  = np.zeros(0,)\n",
        "  DataStructs.ConvertToNumpyArray(fingerprints, arrays)\n",
        "  x_array.append(arrays)\n",
        "  x_array = np.asarray(x_array)\n",
        "  x_array = list((np.squeeze(x_array)).astype(int))\n",
        "  string = ''\n",
        "  for i in x_array:\n",
        "    string += str(i) \n",
        "  return string"
      ],
      "metadata": {
        "id": "RfbsXXcT_sb7"
      },
      "execution_count": 7,
      "outputs": []
    },
    {
      "cell_type": "code",
      "source": [
        "# Check the existence of Isomers\n",
        "assert len(set([smiles_to_array_to_string(i) for i in df.SMILES.tolist()])) == df.shape[0]"
      ],
      "metadata": {
        "id": "1u3oVoqMFh94"
      },
      "execution_count": 8,
      "outputs": []
    },
    {
      "cell_type": "code",
      "source": [
        "df.head(3)"
      ],
      "metadata": {
        "colab": {
          "base_uri": "https://localhost:8080/",
          "height": 143
        },
        "id": "CFagctK7GiTn",
        "outputId": "a7e7aa72-6950-408c-93b1-e57580af4572"
      },
      "execution_count": 9,
      "outputs": [
        {
          "output_type": "execute_result",
          "data": {
            "text/plain": [
              "                                        SMILES  \\\n",
              "0     CCCC(=O)Nc1ccc(OCC(O)CNC(C)C)c(c1)C(C)=O   \n",
              "1  COc1cc2nc(nc(N)c2cc1OC)N(C)CCCNC(=O)C1CCCO1   \n",
              "2                    CC(C)NCC(O)COc1ccccc1CC=C   \n",
              "\n",
              "                              MOA classes  \n",
              "0  adrenergic receptor antagonist      15  \n",
              "1  adrenergic receptor antagonist      15  \n",
              "2  adrenergic receptor antagonist      15  "
            ],
            "text/html": [
              "\n",
              "  <div id=\"df-288c978a-b46c-4f56-9413-5fffe3a20534\">\n",
              "    <div class=\"colab-df-container\">\n",
              "      <div>\n",
              "<style scoped>\n",
              "    .dataframe tbody tr th:only-of-type {\n",
              "        vertical-align: middle;\n",
              "    }\n",
              "\n",
              "    .dataframe tbody tr th {\n",
              "        vertical-align: top;\n",
              "    }\n",
              "\n",
              "    .dataframe thead th {\n",
              "        text-align: right;\n",
              "    }\n",
              "</style>\n",
              "<table border=\"1\" class=\"dataframe\">\n",
              "  <thead>\n",
              "    <tr style=\"text-align: right;\">\n",
              "      <th></th>\n",
              "      <th>SMILES</th>\n",
              "      <th>MOA</th>\n",
              "      <th>classes</th>\n",
              "    </tr>\n",
              "  </thead>\n",
              "  <tbody>\n",
              "    <tr>\n",
              "      <th>0</th>\n",
              "      <td>CCCC(=O)Nc1ccc(OCC(O)CNC(C)C)c(c1)C(C)=O</td>\n",
              "      <td>adrenergic receptor antagonist</td>\n",
              "      <td>15</td>\n",
              "    </tr>\n",
              "    <tr>\n",
              "      <th>1</th>\n",
              "      <td>COc1cc2nc(nc(N)c2cc1OC)N(C)CCCNC(=O)C1CCCO1</td>\n",
              "      <td>adrenergic receptor antagonist</td>\n",
              "      <td>15</td>\n",
              "    </tr>\n",
              "    <tr>\n",
              "      <th>2</th>\n",
              "      <td>CC(C)NCC(O)COc1ccccc1CC=C</td>\n",
              "      <td>adrenergic receptor antagonist</td>\n",
              "      <td>15</td>\n",
              "    </tr>\n",
              "  </tbody>\n",
              "</table>\n",
              "</div>\n",
              "      <button class=\"colab-df-convert\" onclick=\"convertToInteractive('df-288c978a-b46c-4f56-9413-5fffe3a20534')\"\n",
              "              title=\"Convert this dataframe to an interactive table.\"\n",
              "              style=\"display:none;\">\n",
              "        \n",
              "  <svg xmlns=\"http://www.w3.org/2000/svg\" height=\"24px\"viewBox=\"0 0 24 24\"\n",
              "       width=\"24px\">\n",
              "    <path d=\"M0 0h24v24H0V0z\" fill=\"none\"/>\n",
              "    <path d=\"M18.56 5.44l.94 2.06.94-2.06 2.06-.94-2.06-.94-.94-2.06-.94 2.06-2.06.94zm-11 1L8.5 8.5l.94-2.06 2.06-.94-2.06-.94L8.5 2.5l-.94 2.06-2.06.94zm10 10l.94 2.06.94-2.06 2.06-.94-2.06-.94-.94-2.06-.94 2.06-2.06.94z\"/><path d=\"M17.41 7.96l-1.37-1.37c-.4-.4-.92-.59-1.43-.59-.52 0-1.04.2-1.43.59L10.3 9.45l-7.72 7.72c-.78.78-.78 2.05 0 2.83L4 21.41c.39.39.9.59 1.41.59.51 0 1.02-.2 1.41-.59l7.78-7.78 2.81-2.81c.8-.78.8-2.07 0-2.86zM5.41 20L4 18.59l7.72-7.72 1.47 1.35L5.41 20z\"/>\n",
              "  </svg>\n",
              "      </button>\n",
              "      \n",
              "  <style>\n",
              "    .colab-df-container {\n",
              "      display:flex;\n",
              "      flex-wrap:wrap;\n",
              "      gap: 12px;\n",
              "    }\n",
              "\n",
              "    .colab-df-convert {\n",
              "      background-color: #E8F0FE;\n",
              "      border: none;\n",
              "      border-radius: 50%;\n",
              "      cursor: pointer;\n",
              "      display: none;\n",
              "      fill: #1967D2;\n",
              "      height: 32px;\n",
              "      padding: 0 0 0 0;\n",
              "      width: 32px;\n",
              "    }\n",
              "\n",
              "    .colab-df-convert:hover {\n",
              "      background-color: #E2EBFA;\n",
              "      box-shadow: 0px 1px 2px rgba(60, 64, 67, 0.3), 0px 1px 3px 1px rgba(60, 64, 67, 0.15);\n",
              "      fill: #174EA6;\n",
              "    }\n",
              "\n",
              "    [theme=dark] .colab-df-convert {\n",
              "      background-color: #3B4455;\n",
              "      fill: #D2E3FC;\n",
              "    }\n",
              "\n",
              "    [theme=dark] .colab-df-convert:hover {\n",
              "      background-color: #434B5C;\n",
              "      box-shadow: 0px 1px 3px 1px rgba(0, 0, 0, 0.15);\n",
              "      filter: drop-shadow(0px 1px 2px rgba(0, 0, 0, 0.3));\n",
              "      fill: #FFFFFF;\n",
              "    }\n",
              "  </style>\n",
              "\n",
              "      <script>\n",
              "        const buttonEl =\n",
              "          document.querySelector('#df-288c978a-b46c-4f56-9413-5fffe3a20534 button.colab-df-convert');\n",
              "        buttonEl.style.display =\n",
              "          google.colab.kernel.accessAllowed ? 'block' : 'none';\n",
              "\n",
              "        async function convertToInteractive(key) {\n",
              "          const element = document.querySelector('#df-288c978a-b46c-4f56-9413-5fffe3a20534');\n",
              "          const dataTable =\n",
              "            await google.colab.kernel.invokeFunction('convertToInteractive',\n",
              "                                                     [key], {});\n",
              "          if (!dataTable) return;\n",
              "\n",
              "          const docLinkHtml = 'Like what you see? Visit the ' +\n",
              "            '<a target=\"_blank\" href=https://colab.research.google.com/notebooks/data_table.ipynb>data table notebook</a>'\n",
              "            + ' to learn more about interactive tables.';\n",
              "          element.innerHTML = '';\n",
              "          dataTable['output_type'] = 'display_data';\n",
              "          await google.colab.output.renderOutput(dataTable, element);\n",
              "          const docLink = document.createElement('div');\n",
              "          docLink.innerHTML = docLinkHtml;\n",
              "          element.appendChild(docLink);\n",
              "        }\n",
              "      </script>\n",
              "    </div>\n",
              "  </div>\n",
              "  "
            ]
          },
          "metadata": {},
          "execution_count": 9
        }
      ]
    },
    {
      "cell_type": "code",
      "execution_count": 10,
      "metadata": {
        "id": "xowg0CstLlC-"
      },
      "outputs": [],
      "source": [
        "# Split out the test set  \n",
        "from sklearn.model_selection import train_test_split\n",
        "x_train_valid, x_test, y_train_valid, y_test = train_test_split(df.SMILES, df.classes, test_size =10/100,\n",
        " stratify = df.classes, shuffle = True, random_state = 1000)"
      ]
    },
    {
      "cell_type": "code",
      "execution_count": 11,
      "metadata": {
        "id": "BLlcRhSeU6xW"
      },
      "outputs": [],
      "source": [
        "# kfold\n",
        "from sklearn.model_selection import StratifiedKFold\n",
        "skf = StratifiedKFold(n_splits = 9)\n",
        "skf.get_n_splits(np.array(list(x_train_valid)), np.array(list(y_train_valid)))\n",
        "train_index_list = []\n",
        "valid_index_list = []\n",
        "for train_index, valid_index in skf.split(np.array(list(x_train_valid)), np.array(list(y_train_valid))):\n",
        "  train_index_list.append(train_index)\n",
        "  valid_index_list.append(valid_index)"
      ]
    },
    {
      "cell_type": "code",
      "source": [
        "a_list = []\n",
        "for i in range(9):\n",
        "  a_list += list(np.array(list(x_train_valid))[valid_index_list[i]])"
      ],
      "metadata": {
        "id": "JQT77vDlTeNy"
      },
      "execution_count": 12,
      "outputs": []
    },
    {
      "cell_type": "code",
      "execution_count": 13,
      "metadata": {
        "id": "DEqt9fUnDqBe"
      },
      "outputs": [],
      "source": [
        "number_of_kfold = 6 # change the number from 0-8 to get 9 shuffles"
      ]
    },
    {
      "cell_type": "code",
      "execution_count": 14,
      "metadata": {
        "id": "aOFIJo5MEMT0"
      },
      "outputs": [],
      "source": [
        "  x_train = list(np.array(list(x_train_valid))[train_index_list[ number_of_kfold ]])\n",
        "  x_valid = list(np.array(list(x_train_valid))[valid_index_list[ number_of_kfold ]])\n",
        "  y_train = list(np.array(list(y_train_valid))[train_index_list[ number_of_kfold ]])\n",
        "  y_valid = list(np.array(list(y_train_valid))[valid_index_list[ number_of_kfold ]])\n",
        "  x_test = list(x_test)\n",
        "  y_test = list(y_test)"
      ]
    },
    {
      "cell_type": "code",
      "execution_count": 15,
      "metadata": {
        "id": "L0OPr-gtR8sj"
      },
      "outputs": [],
      "source": [
        "# turn to cannoical  smiles\n",
        "x_train = [Chem.MolToSmiles(Chem.MolFromSmiles(smi),True) for smi in x_train]\n",
        "x_valid = [Chem.MolToSmiles(Chem.MolFromSmiles(smi),True) for smi in x_valid]\n",
        "x_test = [Chem.MolToSmiles(Chem.MolFromSmiles(smi),True) for smi in x_test]"
      ]
    },
    {
      "cell_type": "code",
      "execution_count": 16,
      "metadata": {
        "id": "ZB4WWi8wKB59"
      },
      "outputs": [],
      "source": [
        "def smiles_to_array(smiles):\n",
        "  molecules = Chem.MolFromSmiles(smiles) \n",
        "  fingerprints = AllChem.GetMorganFingerprintAsBitVect(molecules, 2)\n",
        "  x_array = []\n",
        "  arrays = np.zeros(0,)\n",
        "  DataStructs.ConvertToNumpyArray(fingerprints, arrays)\n",
        "  x_array.append(arrays)\n",
        "  x_array = np.asarray(x_array)\n",
        "  x_array = ((np.squeeze(x_array)).astype(int)) \n",
        "  return x_array"
      ]
    },
    {
      "cell_type": "code",
      "execution_count": 17,
      "metadata": {
        "id": "a6Fy6iGdLSVP"
      },
      "outputs": [],
      "source": [
        "train_x = np.zeros((len(x_train), 2048), dtype = np.float32)\n",
        "for f in range(train_x.shape[0]):\n",
        "  train_x[f] = smiles_to_array(x_train[f])"
      ]
    },
    {
      "cell_type": "code",
      "execution_count": 18,
      "metadata": {
        "id": "dKhQc7EOKHMM"
      },
      "outputs": [],
      "source": [
        "valid_x = np.zeros((len(x_valid), 2048), dtype = np.float32)\n",
        "for f in range(valid_x.shape[0]):\n",
        "  valid_x[f] = smiles_to_array(x_valid[f])"
      ]
    },
    {
      "cell_type": "code",
      "execution_count": 19,
      "metadata": {
        "id": "eSJBpQREMRYr"
      },
      "outputs": [],
      "source": [
        "test_x = np.zeros((len(x_test), 2048), dtype = np.float32)\n",
        "for f in range(test_x.shape[0]):\n",
        "  test_x[f] = smiles_to_array(x_test[f])"
      ]
    },
    {
      "cell_type": "code",
      "source": [
        "# Check if there are overlaps\n",
        "overlap = []\n",
        "for i in range(train_x.shape[0]):\n",
        "  for j in range(valid_x.shape[0]):\n",
        "    if np.array_equal(train_x[i], valid_x[j]) == True:\n",
        "      overlap.append((i,j))\n",
        "      print(i,j)"
      ],
      "metadata": {
        "id": "7rWxLD37banf"
      },
      "execution_count": 20,
      "outputs": []
    },
    {
      "cell_type": "code",
      "source": [
        "for i in range(test_x.shape[0]):\n",
        "  for j in range(valid_x.shape[0]):\n",
        "    if np.array_equal(test_x[i], valid_x[j]) == True:\n",
        "      overlap.append((i,j))\n",
        "      print(i,j)"
      ],
      "metadata": {
        "id": "gxflY746cryJ"
      },
      "execution_count": 21,
      "outputs": []
    },
    {
      "cell_type": "code",
      "source": [
        "for i in range(train_x.shape[0]):\n",
        "  for j in range(test_x.shape[0]):\n",
        "    if np.array_equal(train_x[i], test_x[j]) == True:\n",
        "      overlap.append((i,j))\n",
        "      print(i,j)"
      ],
      "metadata": {
        "id": "hbAAMsqPcr0y"
      },
      "execution_count": 22,
      "outputs": []
    },
    {
      "cell_type": "code",
      "source": [
        "assert len(overlap) == 0"
      ],
      "metadata": {
        "id": "YNCJ9YgpoLTV"
      },
      "execution_count": 23,
      "outputs": []
    },
    {
      "cell_type": "code",
      "execution_count": 24,
      "metadata": {
        "id": "557ApFkFa6j7"
      },
      "outputs": [],
      "source": [
        "y_train = np.array(y_train).astype(int)\n",
        "y_valid = np.array(y_valid).astype(int)\n",
        "y_test = np.array(y_test).astype(int)"
      ]
    },
    {
      "cell_type": "code",
      "execution_count": 25,
      "metadata": {
        "id": "eL24GiF7rCVF",
        "colab": {
          "base_uri": "https://localhost:8080/"
        },
        "outputId": "475e8dd7-8d70-435e-98f0-0239a8087ec5"
      },
      "outputs": [
        {
          "output_type": "execute_result",
          "data": {
            "text/plain": [
              "66"
            ]
          },
          "metadata": {},
          "execution_count": 25
        }
      ],
      "source": [
        "import gc               \n",
        "gc.collect() "
      ]
    },
    {
      "cell_type": "code",
      "execution_count": 26,
      "metadata": {
        "id": "KlcQEfe9M-VV",
        "colab": {
          "base_uri": "https://localhost:8080/"
        },
        "outputId": "e0385e6e-8fa3-4330-c633-8d9a6069eb26"
      },
      "outputs": [
        {
          "output_type": "execute_result",
          "data": {
            "text/plain": [
              "{0: 1.6827586206896552,\n",
              " 1: 1.3942857142857144,\n",
              " 2: 0.8872727272727273,\n",
              " 3: 0.976,\n",
              " 4: 0.7283582089552239,\n",
              " 5: 1.318918918918919,\n",
              " 6: 0.6177215189873417,\n",
              " 7: 0.9959183673469387,\n",
              " 8: 1.525,\n",
              " 9: 1.318918918918919,\n",
              " 10: 1.8074074074074074,\n",
              " 11: 1.5741935483870968,\n",
              " 12: 0.9568627450980393,\n",
              " 13: 1.4787878787878788,\n",
              " 14: 0.6421052631578947,\n",
              " 15: 0.6421052631578947,\n",
              " 16: 1.5741935483870968,\n",
              " 17: 0.8714285714285714,\n",
              " 18: 0.7393939393939394,\n",
              " 19: 0.8271186440677966}"
            ]
          },
          "metadata": {},
          "execution_count": 26
        }
      ],
      "source": [
        "# Create class weights\n",
        "from sklearn.utils import class_weight\n",
        "y_unique = np.unique(np.array(y_train))\n",
        "class_weights = class_weight.compute_class_weight(class_weight = 'balanced', classes = y_unique,\n",
        "                y = np.array(y_train)) \n",
        "class_weights_dict45 = dict(enumerate(class_weights))\n",
        "class_weights_dict45"
      ]
    },
    {
      "cell_type": "code",
      "source": [
        "from sklearn.ensemble import RandomForestClassifier, AdaBoostClassifier, GradientBoostingClassifier, ExtraTreesClassifier, VotingClassifier\n",
        "from sklearn.metrics import classification_report"
      ],
      "metadata": {
        "id": "OXXeIq_4i8-3"
      },
      "execution_count": 27,
      "outputs": []
    },
    {
      "cell_type": "code",
      "source": [
        "assert list(y_test[0:5]) == [14, 12, 6, 13, 14]\n",
        "therandomforest = RandomForestClassifier(random_state = 0, class_weight = class_weights_dict45)\n",
        "print(therandomforest.fit(train_x, y_train).score(test_x, y_test),\n",
        "   classification_report(y_test, therandomforest.predict(test_x)))"
      ],
      "metadata": {
        "colab": {
          "base_uri": "https://localhost:8080/"
        },
        "id": "2kuvAGR_i9BG",
        "outputId": "0fd0cb36-ae3c-4445-f62c-c1072c3eef11"
      },
      "execution_count": 28,
      "outputs": [
        {
          "output_type": "stream",
          "name": "stdout",
          "text": [
            "0.7560975609756098               precision    recall  f1-score   support\n",
            "\n",
            "           0       1.00      1.00      1.00         4\n",
            "           1       0.80      1.00      0.89         4\n",
            "           2       0.43      0.43      0.43         7\n",
            "           3       0.50      0.50      0.50         6\n",
            "           4       0.70      0.88      0.78         8\n",
            "           5       1.00      0.80      0.89         5\n",
            "           6       0.77      1.00      0.87        10\n",
            "           7       0.56      0.83      0.67         6\n",
            "           8       1.00      1.00      1.00         4\n",
            "           9       1.00      1.00      1.00         5\n",
            "          10       1.00      0.50      0.67         4\n",
            "          11       1.00      0.25      0.40         4\n",
            "          12       0.83      0.83      0.83         6\n",
            "          13       0.67      0.50      0.57         4\n",
            "          14       1.00      0.90      0.95        10\n",
            "          15       0.70      0.70      0.70        10\n",
            "          16       1.00      1.00      1.00         4\n",
            "          17       0.71      0.71      0.71         7\n",
            "          18       0.56      0.62      0.59         8\n",
            "          19       0.80      0.57      0.67         7\n",
            "\n",
            "    accuracy                           0.76       123\n",
            "   macro avg       0.80      0.75      0.76       123\n",
            "weighted avg       0.78      0.76      0.75       123\n",
            "\n"
          ]
        }
      ]
    },
    {
      "cell_type": "code",
      "source": [
        "assert list(y_test[0:5])  == [14, 12, 6, 13, 14]\n",
        "from sklearn.neighbors import KNeighborsClassifier\n",
        "theneighbor = KNeighborsClassifier(n_neighbors = 1, algorithm = 'kd_tree',)\n",
        "print(theneighbor.fit(train_x , y_train).score(test_x, y_test),\n",
        "   classification_report(y_test, theneighbor.predict(test_x)))"
      ],
      "metadata": {
        "colab": {
          "base_uri": "https://localhost:8080/"
        },
        "id": "PtmrMb5pi9DX",
        "outputId": "ca12166a-546c-4383-b971-7975a4c06f10"
      },
      "execution_count": 29,
      "outputs": [
        {
          "output_type": "stream",
          "name": "stdout",
          "text": [
            "0.6585365853658537               precision    recall  f1-score   support\n",
            "\n",
            "           0       1.00      0.50      0.67         4\n",
            "           1       0.50      0.75      0.60         4\n",
            "           2       0.67      0.57      0.62         7\n",
            "           3       0.29      0.33      0.31         6\n",
            "           4       1.00      0.88      0.93         8\n",
            "           5       1.00      0.80      0.89         5\n",
            "           6       0.54      0.70      0.61        10\n",
            "           7       0.33      0.67      0.44         6\n",
            "           8       0.80      1.00      0.89         4\n",
            "           9       1.00      1.00      1.00         5\n",
            "          10       1.00      0.50      0.67         4\n",
            "          11       0.50      0.50      0.50         4\n",
            "          12       1.00      0.83      0.91         6\n",
            "          13       1.00      0.25      0.40         4\n",
            "          14       1.00      0.80      0.89        10\n",
            "          15       0.60      0.60      0.60        10\n",
            "          16       0.60      0.75      0.67         4\n",
            "          17       0.71      0.71      0.71         7\n",
            "          18       0.62      0.62      0.62         8\n",
            "          19       0.33      0.29      0.31         7\n",
            "\n",
            "    accuracy                           0.66       123\n",
            "   macro avg       0.72      0.65      0.66       123\n",
            "weighted avg       0.71      0.66      0.67       123\n",
            "\n"
          ]
        }
      ]
    },
    {
      "cell_type": "code",
      "source": [
        "assert  list(y_test[0:5]) == [14, 12, 6, 13, 14]\n",
        "from sklearn.linear_model import LogisticRegression\n",
        "thelogisticregression = LogisticRegression(random_state = 0, class_weight = class_weights_dict45) \n",
        "print(thelogisticregression.fit(train_x, y_train).score(test_x, y_test),\n",
        "   classification_report(y_test, thelogisticregression.predict(test_x)))"
      ],
      "metadata": {
        "colab": {
          "base_uri": "https://localhost:8080/"
        },
        "id": "0LBW5RJyi9F3",
        "outputId": "7028f325-164f-4c6c-e7fc-fc60a6981112"
      },
      "execution_count": 30,
      "outputs": [
        {
          "output_type": "stream",
          "name": "stdout",
          "text": [
            "0.7317073170731707               precision    recall  f1-score   support\n",
            "\n",
            "           0       1.00      1.00      1.00         4\n",
            "           1       0.60      0.75      0.67         4\n",
            "           2       0.57      0.57      0.57         7\n",
            "           3       1.00      0.50      0.67         6\n",
            "           4       0.70      0.88      0.78         8\n",
            "           5       1.00      0.80      0.89         5\n",
            "           6       0.73      0.80      0.76        10\n",
            "           7       0.56      0.83      0.67         6\n",
            "           8       1.00      1.00      1.00         4\n",
            "           9       1.00      1.00      1.00         5\n",
            "          10       1.00      0.50      0.67         4\n",
            "          11       0.20      0.25      0.22         4\n",
            "          12       0.71      0.83      0.77         6\n",
            "          13       0.67      0.50      0.57         4\n",
            "          14       1.00      0.90      0.95        10\n",
            "          15       0.70      0.70      0.70        10\n",
            "          16       1.00      1.00      1.00         4\n",
            "          17       0.57      0.57      0.57         7\n",
            "          18       0.67      0.75      0.71         8\n",
            "          19       0.60      0.43      0.50         7\n",
            "\n",
            "    accuracy                           0.73       123\n",
            "   macro avg       0.76      0.73      0.73       123\n",
            "weighted avg       0.76      0.73      0.73       123\n",
            "\n"
          ]
        },
        {
          "output_type": "stream",
          "name": "stderr",
          "text": [
            "/usr/local/lib/python3.7/dist-packages/sklearn/linear_model/_logistic.py:818: ConvergenceWarning: lbfgs failed to converge (status=1):\n",
            "STOP: TOTAL NO. of ITERATIONS REACHED LIMIT.\n",
            "\n",
            "Increase the number of iterations (max_iter) or scale the data as shown in:\n",
            "    https://scikit-learn.org/stable/modules/preprocessing.html\n",
            "Please also refer to the documentation for alternative solver options:\n",
            "    https://scikit-learn.org/stable/modules/linear_model.html#logistic-regression\n",
            "  extra_warning_msg=_LOGISTIC_SOLVER_CONVERGENCE_MSG,\n"
          ]
        }
      ]
    },
    {
      "cell_type": "code",
      "source": [
        "assert list(y_test[0:5])  == [14, 12, 6, 13, 14]\n",
        "from lightgbm import LGBMClassifier\n",
        "thelgbclassifier = LGBMClassifier(class_weight = class_weights_dict45)\n",
        "print(thelgbclassifier.fit(train_x, y_train).score(test_x, y_test),\n",
        "   classification_report(y_test, thelgbclassifier.predict(test_x), ))"
      ],
      "metadata": {
        "colab": {
          "base_uri": "https://localhost:8080/"
        },
        "id": "i0byo27yi9H3",
        "outputId": "b874a716-767d-4d05-c334-a3797ea8ab9f"
      },
      "execution_count": 31,
      "outputs": [
        {
          "output_type": "stream",
          "name": "stdout",
          "text": [
            "0.6747967479674797               precision    recall  f1-score   support\n",
            "\n",
            "           0       0.80      1.00      0.89         4\n",
            "           1       0.50      0.50      0.50         4\n",
            "           2       0.38      0.43      0.40         7\n",
            "           3       0.60      0.50      0.55         6\n",
            "           4       0.70      0.88      0.78         8\n",
            "           5       1.00      0.80      0.89         5\n",
            "           6       0.80      0.80      0.80        10\n",
            "           7       0.57      0.67      0.62         6\n",
            "           8       1.00      1.00      1.00         4\n",
            "           9       1.00      1.00      1.00         5\n",
            "          10       0.50      0.25      0.33         4\n",
            "          11       0.25      0.25      0.25         4\n",
            "          12       0.71      0.83      0.77         6\n",
            "          13       0.67      0.50      0.57         4\n",
            "          14       1.00      0.90      0.95        10\n",
            "          15       0.55      0.60      0.57        10\n",
            "          16       1.00      1.00      1.00         4\n",
            "          17       0.50      0.43      0.46         7\n",
            "          18       0.67      0.50      0.57         8\n",
            "          19       0.44      0.57      0.50         7\n",
            "\n",
            "    accuracy                           0.67       123\n",
            "   macro avg       0.68      0.67      0.67       123\n",
            "weighted avg       0.68      0.67      0.67       123\n",
            "\n"
          ]
        }
      ]
    },
    {
      "cell_type": "code",
      "source": [
        "pip  install catboost"
      ],
      "metadata": {
        "colab": {
          "base_uri": "https://localhost:8080/"
        },
        "id": "RA0P3ncLlTmV",
        "outputId": "3463d393-8a11-45e5-84aa-6c5d8d6d2ceb"
      },
      "execution_count": 32,
      "outputs": [
        {
          "output_type": "stream",
          "name": "stdout",
          "text": [
            "Looking in indexes: https://pypi.org/simple, https://us-python.pkg.dev/colab-wheels/public/simple/\n",
            "Requirement already satisfied: catboost in /usr/local/lib/python3.7/site-packages (1.0.6)\n",
            "Requirement already satisfied: graphviz in /usr/local/lib/python3.7/site-packages (from catboost) (0.20.1)\n",
            "Requirement already satisfied: plotly in /usr/local/lib/python3.7/site-packages (from catboost) (5.10.0)\n",
            "Requirement already satisfied: six in /usr/local/lib/python3.7/site-packages (from catboost) (1.16.0)\n",
            "Requirement already satisfied: matplotlib in /usr/local/lib/python3.7/site-packages (from catboost) (3.5.3)\n",
            "Requirement already satisfied: pandas>=0.24.0 in /usr/local/lib/python3.7/site-packages (from catboost) (1.3.5)\n",
            "Requirement already satisfied: scipy in /usr/local/lib/python3.7/site-packages (from catboost) (1.7.3)\n",
            "Requirement already satisfied: numpy>=1.16.0 in /usr/local/lib/python3.7/site-packages (from catboost) (1.21.5)\n",
            "Requirement already satisfied: python-dateutil>=2.7.3 in /usr/local/lib/python3.7/site-packages (from pandas>=0.24.0->catboost) (2.8.2)\n",
            "Requirement already satisfied: pytz>=2017.3 in /usr/local/lib/python3.7/site-packages (from pandas>=0.24.0->catboost) (2022.1)\n",
            "Requirement already satisfied: pyparsing>=2.2.1 in /usr/local/lib/python3.7/site-packages (from matplotlib->catboost) (3.0.4)\n",
            "Requirement already satisfied: packaging>=20.0 in /usr/local/lib/python3.7/site-packages (from matplotlib->catboost) (21.3)\n",
            "Requirement already satisfied: pillow>=6.2.0 in /usr/local/lib/python3.7/site-packages (from matplotlib->catboost) (9.0.1)\n",
            "Requirement already satisfied: cycler>=0.10 in /usr/local/lib/python3.7/site-packages (from matplotlib->catboost) (0.11.0)\n",
            "Requirement already satisfied: fonttools>=4.22.0 in /usr/local/lib/python3.7/site-packages (from matplotlib->catboost) (4.36.0)\n",
            "Requirement already satisfied: kiwisolver>=1.0.1 in /usr/local/lib/python3.7/site-packages (from matplotlib->catboost) (1.4.4)\n",
            "Requirement already satisfied: tenacity>=6.2.0 in /usr/local/lib/python3.7/site-packages (from plotly->catboost) (8.0.1)\n",
            "Requirement already satisfied: typing-extensions in /usr/local/lib/python3.7/site-packages (from kiwisolver>=1.0.1->matplotlib->catboost) (4.3.0)\n",
            "\u001b[33mWARNING: Running pip as the 'root' user can result in broken permissions and conflicting behaviour with the system package manager. It is recommended to use a virtual environment instead: https://pip.pypa.io/warnings/venv\u001b[0m\u001b[33m\n",
            "\u001b[0m"
          ]
        }
      ]
    },
    {
      "cell_type": "code",
      "source": [
        "from catboost import CatBoostClassifier\n",
        "assert list(y_test[0:5]) == [14, 12, 6, 13, 14]\n",
        "thecatboost = CatBoostClassifier(verbose = 0, class_weights = class_weights_dict45, task_type = \"GPU\")\n",
        "print(thecatboost.fit(train_x, y_train).score(test_x, y_test),\n",
        "   classification_report(y_test, thecatboost.predict(test_x)))"
      ],
      "metadata": {
        "colab": {
          "base_uri": "https://localhost:8080/"
        },
        "id": "FuTaUYWWlTpE",
        "outputId": "3096b14b-d94c-4682-be63-51bad32a4c9c"
      },
      "execution_count": 33,
      "outputs": [
        {
          "output_type": "stream",
          "name": "stdout",
          "text": [
            "0.7235772357723578               precision    recall  f1-score   support\n",
            "\n",
            "           0       0.67      1.00      0.80         4\n",
            "           1       0.50      0.75      0.60         4\n",
            "           2       0.44      0.57      0.50         7\n",
            "           3       0.60      0.50      0.55         6\n",
            "           4       0.70      0.88      0.78         8\n",
            "           5       1.00      0.80      0.89         5\n",
            "           6       0.80      0.80      0.80        10\n",
            "           7       0.71      0.83      0.77         6\n",
            "           8       1.00      1.00      1.00         4\n",
            "           9       1.00      1.00      1.00         5\n",
            "          10       1.00      0.25      0.40         4\n",
            "          11       0.25      0.25      0.25         4\n",
            "          12       0.71      0.83      0.77         6\n",
            "          13       0.67      0.50      0.57         4\n",
            "          14       1.00      0.90      0.95        10\n",
            "          15       0.78      0.70      0.74        10\n",
            "          16       1.00      1.00      1.00         4\n",
            "          17       0.57      0.57      0.57         7\n",
            "          18       0.67      0.75      0.71         8\n",
            "          19       0.75      0.43      0.55         7\n",
            "\n",
            "    accuracy                           0.72       123\n",
            "   macro avg       0.74      0.72      0.71       123\n",
            "weighted avg       0.74      0.72      0.72       123\n",
            "\n"
          ]
        }
      ]
    },
    {
      "cell_type": "code",
      "source": [
        "assert list(y_test[0:5]) == [14, 12, 6, 13, 14]\n",
        "from sklearn.ensemble import BaggingClassifier\n",
        "thebagging = BaggingClassifier(base_estimator = therandomforest, random_state = 0)\n",
        "print(thebagging.fit(train_x, y_train).score(test_x, y_test),\n",
        "   classification_report(y_test, thebagging.predict(test_x),))"
      ],
      "metadata": {
        "colab": {
          "base_uri": "https://localhost:8080/"
        },
        "id": "TrjNHrKtlTrJ",
        "outputId": "096751b5-b6e8-4648-db5e-9be55eeb2f25"
      },
      "execution_count": 34,
      "outputs": [
        {
          "output_type": "stream",
          "name": "stdout",
          "text": [
            "0.6991869918699187               precision    recall  f1-score   support\n",
            "\n",
            "           0       1.00      0.75      0.86         4\n",
            "           1       0.75      0.75      0.75         4\n",
            "           2       0.67      0.29      0.40         7\n",
            "           3       0.60      0.50      0.55         6\n",
            "           4       0.54      0.88      0.67         8\n",
            "           5       1.00      0.80      0.89         5\n",
            "           6       0.53      1.00      0.69        10\n",
            "           7       0.44      0.67      0.53         6\n",
            "           8       1.00      1.00      1.00         4\n",
            "           9       1.00      1.00      1.00         5\n",
            "          10       1.00      0.25      0.40         4\n",
            "          11       1.00      0.25      0.40         4\n",
            "          12       0.83      0.83      0.83         6\n",
            "          13       0.50      0.25      0.33         4\n",
            "          14       1.00      0.90      0.95        10\n",
            "          15       0.75      0.60      0.67        10\n",
            "          16       1.00      1.00      1.00         4\n",
            "          17       0.71      0.71      0.71         7\n",
            "          18       0.55      0.75      0.63         8\n",
            "          19       0.60      0.43      0.50         7\n",
            "\n",
            "    accuracy                           0.70       123\n",
            "   macro avg       0.77      0.68      0.69       123\n",
            "weighted avg       0.74      0.70      0.69       123\n",
            "\n"
          ]
        }
      ]
    },
    {
      "cell_type": "code",
      "source": [
        "assert list(y_test[0:5]) == [14, 12, 6, 13, 14]\n",
        "from sklearn.ensemble import StackingClassifier\n",
        "estimators = [\n",
        "('therandomforest', therandomforest), \n",
        "('thecatboost', thecatboost), \n",
        "('thelogisticregression', thelogisticregression)]\n",
        "thestacking = StackingClassifier(estimators = estimators, final_estimator = therandomforest)\n",
        "print(thestacking.fit(train_x, y_train).score(test_x, y_test),\n",
        "  classification_report(y_test, thestacking.predict(test_x),))"
      ],
      "metadata": {
        "colab": {
          "base_uri": "https://localhost:8080/"
        },
        "id": "1OsBvbMnlTtj",
        "outputId": "d446ddae-33e3-4185-9edc-38b6d8e8f456"
      },
      "execution_count": 35,
      "outputs": [
        {
          "output_type": "stream",
          "name": "stderr",
          "text": [
            "/usr/local/lib/python3.7/dist-packages/sklearn/linear_model/_logistic.py:818: ConvergenceWarning: lbfgs failed to converge (status=1):\n",
            "STOP: TOTAL NO. of ITERATIONS REACHED LIMIT.\n",
            "\n",
            "Increase the number of iterations (max_iter) or scale the data as shown in:\n",
            "    https://scikit-learn.org/stable/modules/preprocessing.html\n",
            "Please also refer to the documentation for alternative solver options:\n",
            "    https://scikit-learn.org/stable/modules/linear_model.html#logistic-regression\n",
            "  extra_warning_msg=_LOGISTIC_SOLVER_CONVERGENCE_MSG,\n",
            "/usr/local/lib/python3.7/dist-packages/sklearn/linear_model/_logistic.py:818: ConvergenceWarning: lbfgs failed to converge (status=1):\n",
            "STOP: TOTAL NO. of ITERATIONS REACHED LIMIT.\n",
            "\n",
            "Increase the number of iterations (max_iter) or scale the data as shown in:\n",
            "    https://scikit-learn.org/stable/modules/preprocessing.html\n",
            "Please also refer to the documentation for alternative solver options:\n",
            "    https://scikit-learn.org/stable/modules/linear_model.html#logistic-regression\n",
            "  extra_warning_msg=_LOGISTIC_SOLVER_CONVERGENCE_MSG,\n",
            "/usr/local/lib/python3.7/dist-packages/sklearn/linear_model/_logistic.py:818: ConvergenceWarning: lbfgs failed to converge (status=1):\n",
            "STOP: TOTAL NO. of ITERATIONS REACHED LIMIT.\n",
            "\n",
            "Increase the number of iterations (max_iter) or scale the data as shown in:\n",
            "    https://scikit-learn.org/stable/modules/preprocessing.html\n",
            "Please also refer to the documentation for alternative solver options:\n",
            "    https://scikit-learn.org/stable/modules/linear_model.html#logistic-regression\n",
            "  extra_warning_msg=_LOGISTIC_SOLVER_CONVERGENCE_MSG,\n",
            "/usr/local/lib/python3.7/dist-packages/sklearn/linear_model/_logistic.py:818: ConvergenceWarning: lbfgs failed to converge (status=1):\n",
            "STOP: TOTAL NO. of ITERATIONS REACHED LIMIT.\n",
            "\n",
            "Increase the number of iterations (max_iter) or scale the data as shown in:\n",
            "    https://scikit-learn.org/stable/modules/preprocessing.html\n",
            "Please also refer to the documentation for alternative solver options:\n",
            "    https://scikit-learn.org/stable/modules/linear_model.html#logistic-regression\n",
            "  extra_warning_msg=_LOGISTIC_SOLVER_CONVERGENCE_MSG,\n",
            "/usr/local/lib/python3.7/dist-packages/sklearn/linear_model/_logistic.py:818: ConvergenceWarning: lbfgs failed to converge (status=1):\n",
            "STOP: TOTAL NO. of ITERATIONS REACHED LIMIT.\n",
            "\n",
            "Increase the number of iterations (max_iter) or scale the data as shown in:\n",
            "    https://scikit-learn.org/stable/modules/preprocessing.html\n",
            "Please also refer to the documentation for alternative solver options:\n",
            "    https://scikit-learn.org/stable/modules/linear_model.html#logistic-regression\n",
            "  extra_warning_msg=_LOGISTIC_SOLVER_CONVERGENCE_MSG,\n",
            "/usr/local/lib/python3.7/dist-packages/sklearn/linear_model/_logistic.py:818: ConvergenceWarning: lbfgs failed to converge (status=1):\n",
            "STOP: TOTAL NO. of ITERATIONS REACHED LIMIT.\n",
            "\n",
            "Increase the number of iterations (max_iter) or scale the data as shown in:\n",
            "    https://scikit-learn.org/stable/modules/preprocessing.html\n",
            "Please also refer to the documentation for alternative solver options:\n",
            "    https://scikit-learn.org/stable/modules/linear_model.html#logistic-regression\n",
            "  extra_warning_msg=_LOGISTIC_SOLVER_CONVERGENCE_MSG,\n"
          ]
        },
        {
          "output_type": "stream",
          "name": "stdout",
          "text": [
            "0.7317073170731707               precision    recall  f1-score   support\n",
            "\n",
            "           0       0.80      1.00      0.89         4\n",
            "           1       0.60      0.75      0.67         4\n",
            "           2       0.57      0.57      0.57         7\n",
            "           3       0.67      0.67      0.67         6\n",
            "           4       0.70      0.88      0.78         8\n",
            "           5       1.00      0.80      0.89         5\n",
            "           6       0.89      0.80      0.84        10\n",
            "           7       0.71      0.83      0.77         6\n",
            "           8       1.00      1.00      1.00         4\n",
            "           9       1.00      1.00      1.00         5\n",
            "          10       1.00      0.25      0.40         4\n",
            "          11       0.20      0.25      0.22         4\n",
            "          12       0.71      0.83      0.77         6\n",
            "          13       0.67      0.50      0.57         4\n",
            "          14       1.00      0.90      0.95        10\n",
            "          15       0.64      0.70      0.67        10\n",
            "          16       1.00      1.00      1.00         4\n",
            "          17       0.57      0.57      0.57         7\n",
            "          18       0.62      0.62      0.62         8\n",
            "          19       0.67      0.57      0.62         7\n",
            "\n",
            "    accuracy                           0.73       123\n",
            "   macro avg       0.75      0.72      0.72       123\n",
            "weighted avg       0.75      0.73      0.73       123\n",
            "\n"
          ]
        }
      ]
    },
    {
      "cell_type": "code",
      "source": [
        "assert list(y_test[0:5]) == [14, 12, 6, 13, 14]\n",
        "thevoting = VotingClassifier(estimators = [\n",
        "('therandomforest', therandomforest), \n",
        "('thecatboost', thecatboost), \n",
        "('thelogisticregression', thelogisticregression)], \n",
        "voting = 'soft', n_jobs = -1)\n",
        "print(thevoting.fit(train_x, y_train).score(test_x, y_test),\n",
        "   classification_report(y_test, thevoting.predict(test_x)))"
      ],
      "metadata": {
        "colab": {
          "base_uri": "https://localhost:8080/"
        },
        "id": "4h5WzZOXlTvm",
        "outputId": "179b825d-af03-42a6-a419-dce1180dc6fe"
      },
      "execution_count": 36,
      "outputs": [
        {
          "output_type": "stream",
          "name": "stdout",
          "text": [
            "0.7398373983739838               precision    recall  f1-score   support\n",
            "\n",
            "           0       1.00      1.00      1.00         4\n",
            "           1       0.60      0.75      0.67         4\n",
            "           2       0.44      0.57      0.50         7\n",
            "           3       0.60      0.50      0.55         6\n",
            "           4       0.70      0.88      0.78         8\n",
            "           5       1.00      0.80      0.89         5\n",
            "           6       0.82      0.90      0.86        10\n",
            "           7       0.71      0.83      0.77         6\n",
            "           8       1.00      1.00      1.00         4\n",
            "           9       1.00      1.00      1.00         5\n",
            "          10       0.67      0.50      0.57         4\n",
            "          11       0.33      0.25      0.29         4\n",
            "          12       0.71      0.83      0.77         6\n",
            "          13       0.67      0.50      0.57         4\n",
            "          14       1.00      0.90      0.95        10\n",
            "          15       0.64      0.70      0.67        10\n",
            "          16       1.00      1.00      1.00         4\n",
            "          17       0.67      0.57      0.62         7\n",
            "          18       0.62      0.62      0.62         8\n",
            "          19       0.80      0.57      0.67         7\n",
            "\n",
            "    accuracy                           0.74       123\n",
            "   macro avg       0.75      0.73      0.74       123\n",
            "weighted avg       0.75      0.74      0.74       123\n",
            "\n"
          ]
        }
      ]
    },
    {
      "cell_type": "code",
      "source": [
        "assert list(y_test[0:5]) == [14, 12, 6, 13, 14]\n",
        "from sklearn.ensemble import AdaBoostClassifier  \n",
        "theadaboost = AdaBoostClassifier(base_estimator = therandomforest)\n",
        "print(theadaboost.fit(train_x, y_train).score(test_x, y_test),\n",
        "      classification_report(y_test, theadaboost.predict(test_x)))"
      ],
      "metadata": {
        "colab": {
          "base_uri": "https://localhost:8080/"
        },
        "id": "mvA0JaiZlTx6",
        "outputId": "6f565550-fd9c-4004-b2dd-236011f666f5"
      },
      "execution_count": 37,
      "outputs": [
        {
          "output_type": "stream",
          "name": "stdout",
          "text": [
            "0.7317073170731707               precision    recall  f1-score   support\n",
            "\n",
            "           0       1.00      0.75      0.86         4\n",
            "           1       0.60      0.75      0.67         4\n",
            "           2       0.33      0.29      0.31         7\n",
            "           3       1.00      0.33      0.50         6\n",
            "           4       0.67      1.00      0.80         8\n",
            "           5       1.00      0.80      0.89         5\n",
            "           6       0.77      1.00      0.87        10\n",
            "           7       0.33      0.50      0.40         6\n",
            "           8       1.00      1.00      1.00         4\n",
            "           9       1.00      1.00      1.00         5\n",
            "          10       1.00      0.50      0.67         4\n",
            "          11       0.50      0.25      0.33         4\n",
            "          12       0.83      0.83      0.83         6\n",
            "          13       0.50      0.50      0.50         4\n",
            "          14       1.00      0.90      0.95        10\n",
            "          15       0.75      0.60      0.67        10\n",
            "          16       1.00      1.00      1.00         4\n",
            "          17       0.86      0.86      0.86         7\n",
            "          18       0.50      0.75      0.60         8\n",
            "          19       0.83      0.71      0.77         7\n",
            "\n",
            "    accuracy                           0.73       123\n",
            "   macro avg       0.77      0.72      0.72       123\n",
            "weighted avg       0.76      0.73      0.73       123\n",
            "\n"
          ]
        }
      ]
    },
    {
      "cell_type": "code",
      "source": [
        "# References\n",
        "# https://future-chem.com/rdkit-google-colab/#toc5\n",
        "# https://www.rdkit.org/docs/index.html"
      ],
      "metadata": {
        "id": "dmteC1TiiXFE"
      },
      "execution_count": 38,
      "outputs": []
    }
  ],
  "metadata": {
    "accelerator": "GPU",
    "colab": {
      "collapsed_sections": [],
      "machine_shape": "hm",
      "name": "Machine_learning_top_20_MOA.ipynb",
      "provenance": []
    },
    "kernelspec": {
      "display_name": "Python 3",
      "name": "python3"
    },
    "language_info": {
      "name": "python"
    },
    "gpuClass": "standard"
  },
  "nbformat": 4,
  "nbformat_minor": 0
}