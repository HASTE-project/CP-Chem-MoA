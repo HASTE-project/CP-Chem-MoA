{
  "cells": [
    {
      "cell_type": "code",
      "execution_count": null,
      "id": "91119b0b-ea9a-47aa-b22f-90cf0e4bb75f",
      "metadata": {
        "id": "91119b0b-ea9a-47aa-b22f-90cf0e4bb75f"
      },
      "outputs": [],
      "source": [
        "# read in the all_data file  \n",
        "import numpy as np\n",
        "import pandas as pd \n",
        "df = pd.read_csv('all_data.csv')"
      ]
    },
    {
      "cell_type": "code",
      "execution_count": null,
      "id": "b3ec10ff-a6fd-4ff0-a8df-2852c1cab18d",
      "metadata": {
        "id": "b3ec10ff-a6fd-4ff0-a8df-2852c1cab18d"
      },
      "outputs": [],
      "source": [
        "# A function for DMSO normalization    \n",
        "dmso_stats_df = pd.read_csv('dmso_stats.csv', header = [0,1], index_col = 0)\n",
        "def dmso_normalization(im, dmso_mean, dmso_std):\n",
        "    im_norm = (im.astype('float') - dmso_mean) / dmso_std\n",
        "    return im_norm"
      ]
    },
    {
      "cell_type": "code",
      "execution_count": null,
      "id": "22dbeb6a-e4ee-4bee-baec-b5064ca92bca",
      "metadata": {
        "id": "22dbeb6a-e4ee-4bee-baec-b5064ca92bca"
      },
      "outputs": [],
      "source": [
        "# A transform function for resizing  \n",
        "import albumentations as album\n",
        "import cv2\n",
        "image_size = 256\n",
        "easy_transforms = album.Compose([album.Resize(image_size, image_size)])"
      ]
    },
    {
      "cell_type": "code",
      "execution_count": null,
      "id": "9719bed9-87ee-47f3-b13a-ec8d6d838005",
      "metadata": {
        "id": "9719bed9-87ee-47f3-b13a-ec8d6d838005"
      },
      "outputs": [],
      "source": [
        "# A function for transfering image to numpy array \n",
        "def create_all_images(idx):\n",
        "    row = df.iloc[idx]\n",
        "    im = []\n",
        "    for i in range(1,6):\n",
        "        local_im = cv2.imread(row.path + '/' + row['C' + str(i)], -1)\n",
        "        dmso_mean = dmso_stats_df[row.plate]['C' + str(i)]['m']\n",
        "        dmso_std = dmso_stats_df[row.plate]['C' + str(i)]['std']\n",
        "        local_im = dmso_normalization(local_im, dmso_mean, dmso_std)\n",
        "\n",
        "        im.append(local_im)\n",
        "    im = np.array(im).transpose(1, 2, 0).astype(\"float\")\n",
        "    im = np.array(easy_transforms(image = im)['image'])\n",
        "\n",
        "    return im"
      ]
    },
    {
      "cell_type": "code",
      "execution_count": null,
      "id": "e7a57453-61d4-44ea-8413-dc40df7781c5",
      "metadata": {
        "id": "e7a57453-61d4-44ea-8413-dc40df7781c5"
      },
      "outputs": [],
      "source": [
        "# Write all the images into a big numpy array  \n",
        "all_images = np.zeros((12582, 256, 256, 5), dtype = np.float32)\n",
        "for f in range(12582):\n",
        "  all_images[f] = create_all_images(f)"
      ]
    },
    {
      "cell_type": "code",
      "execution_count": null,
      "id": "890045d0-0650-4747-a144-6a5550172ddc",
      "metadata": {
        "id": "890045d0-0650-4747-a144-6a5550172ddc"
      },
      "outputs": [],
      "source": [
        "# Save the big numpy array \n",
        "with open('all_images.npy', 'wb') as f:\n",
        "  np.save(f, all_images)"
      ]
    }
  ],
  "metadata": {
    "kernelspec": {
      "display_name": "Python 3",
      "language": "python",
      "name": "python3"
    },
    "language_info": {
      "codemirror_mode": {
        "name": "ipython",
        "version": 3
      },
      "file_extension": ".py",
      "mimetype": "text/x-python",
      "name": "python",
      "nbconvert_exporter": "python",
      "pygments_lexer": "ipython3",
      "version": "3.6.9"
    },
    "colab": {
      "provenance": [],
      "collapsed_sections": []
    }
  },
  "nbformat": 4,
  "nbformat_minor": 5
}